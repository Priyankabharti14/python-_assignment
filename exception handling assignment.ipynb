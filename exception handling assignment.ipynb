{
 "cells": [
  {
   "cell_type": "code",
   "execution_count": 2,
   "id": "161255fd-3f2f-474f-a27e-b7b893d4c418",
   "metadata": {},
   "outputs": [
    {
     "data": {
      "text/plain": [
       "'Q1. What is an Exception in python? Write the difference between Exceptions and syntax errors\\n\\nIn Python, an exception is an event that occurs during the execution of a program that disrupts the normal flow\\nof the programs instructions. When an exception occurs, the program halts and jumps to a specific block of\\ncode that can handle the exception, known as an exception handler. Exceptions allow you to gracefully handle\\nunexpected situations and errors, making your code more robust.\\n\\nHere are the key differences between exceptions and syntax errors:\\n\\n1.Nature of Occurrence:\\n.Syntax Errors: These are errors that occur when the code violates the syntax rules of the programming\\n    language.They are detected by the Python interpreter during the parsing phase before the code is executed.\\n.Exceptions: These occur during the execution of a program when an operation cannot be performed correctly,\\n    such as dividing by zero, accessing an index out of range, or trying to open a non-existent file.  \\n\\n2.Handling:\\n    Syntax Errors: Since they prevent the code from running, they must be fixed before the code is executed.\\n    Exceptions: Can be caught and handled using try-except blocks, allowing the program to continue running and \\n            providing a way to manage unexpected situations.'"
      ]
     },
     "execution_count": 2,
     "metadata": {},
     "output_type": "execute_result"
    }
   ],
   "source": [
    "'''Q1. What is an Exception in python? Write the difference between Exceptions and syntax errors\n",
    "\n",
    "In Python, an exception is an event that occurs during the execution of a program that disrupts the normal flow\n",
    "of the programs instructions. When an exception occurs, the program halts and jumps to a specific block of\n",
    "code that can handle the exception, known as an exception handler. Exceptions allow you to gracefully handle\n",
    "unexpected situations and errors, making your code more robust.\n",
    "\n",
    "Here are the key differences between exceptions and syntax errors:\n",
    "\n",
    "1.Nature of Occurrence:\n",
    ".Syntax Errors: These are errors that occur when the code violates the syntax rules of the programming\n",
    "    language.They are detected by the Python interpreter during the parsing phase before the code is executed.\n",
    ".Exceptions: These occur during the execution of a program when an operation cannot be performed correctly,\n",
    "    such as dividing by zero, accessing an index out of range, or trying to open a non-existent file.  \n",
    "\n",
    "2.Handling:\n",
    "    Syntax Errors: Since they prevent the code from running, they must be fixed before the code is executed.\n",
    "    Exceptions: Can be caught and handled using try-except blocks, allowing the program to continue running and \n",
    "            providing a way to manage unexpected situations.'''    "
   ]
  },
  {
   "cell_type": "code",
   "execution_count": 5,
   "id": "f67f2a52-63aa-46be-909a-9fb12367fc8a",
   "metadata": {},
   "outputs": [
    {
     "ename": "SyntaxError",
     "evalue": "invalid syntax. Perhaps you forgot a comma? (871233857.py, line 18)",
     "output_type": "error",
     "traceback": [
      "\u001b[0;36m  Cell \u001b[0;32mIn[5], line 18\u001b[0;36m\u001b[0m\n\u001b[0;31m    Traceback (most recent call last):\u001b[0m\n\u001b[0m               ^\u001b[0m\n\u001b[0;31mSyntaxError\u001b[0m\u001b[0;31m:\u001b[0m invalid syntax. Perhaps you forgot a comma?\n"
     ]
    }
   ],
   "source": [
    "'''Q2. What happens when an exception is not handled? Explain with an example.\n",
    "\n",
    "When an exception is not handled in a program, it leads to the termination of the programs normal execution.\n",
    "The unhandled exception propagates up through the call stack until it reaches the top-level scope of the \n",
    "program, at which point the program is halted, and an error message is displayed.'''\n",
    "\n",
    "#example\n",
    "def divide(x, y):\n",
    "    return x / y\n",
    "def main():\n",
    "    num1 = 10\n",
    "    num2 = 0\n",
    "    result = divide(num1, num2)\n",
    "    print(\"Result:\", result)\n",
    "if __name__ == \"__main__\":\n",
    "    main()\n",
    "\n",
    "Traceback (most recent call last):\n",
    "  File \"example.py\", line 10, in <module>\n",
    "    main()\n",
    "  File \"example.py\", line 6, in main\n",
    "    result = divide(num1, num2)\n",
    "  File \"example.py\", line 2, in divide\n",
    "    return x / y\n",
    "ZeroDivisionError: division by zero\n",
    "    "
   ]
  },
  {
   "cell_type": "code",
   "execution_count": 6,
   "id": "5bdcb451-5862-452c-8561-701f6b371b98",
   "metadata": {},
   "outputs": [
    {
     "name": "stdout",
     "output_type": "stream",
     "text": [
      "Error: Division by zero!\n",
      "Result: None\n"
     ]
    }
   ],
   "source": [
    "'''Q3. Which Python statements are used to catch and handle exceptions? Explain with an example\n",
    "\n",
    "In Python, the statements used to catch and handle exceptions are the try and except blocks. These blocks\n",
    "allow you to write code that can potentially raise exceptions within a protected area and provide a way \n",
    "to gracefully handle those exceptions. '''\n",
    "\n",
    "def divide(x, y):\n",
    "    try:\n",
    "        result = x / y\n",
    "        return result\n",
    "    except ZeroDivisionError:\n",
    "        print(\"Error: Division by zero!\")\n",
    "\n",
    "def main():\n",
    "    num1 = 10\n",
    "    num2 = 0\n",
    "    try:\n",
    "        result = divide(num1, num2)\n",
    "        print(\"Result:\", result)\n",
    "    except ZeroDivisionError:\n",
    "        print(\"Error occurred in main function.\")\n",
    "\n",
    "if __name__ == \"__main__\":\n",
    "    main()\n"
   ]
  },
  {
   "cell_type": "code",
   "execution_count": 7,
   "id": "c1641a7a-df37-4c83-852e-824a3e0a3c83",
   "metadata": {},
   "outputs": [
    {
     "name": "stdout",
     "output_type": "stream",
     "text": [
      "Result: 5.0\n",
      "Error: Division by zero!\n",
      "File not found!\n"
     ]
    },
    {
     "ename": "NameError",
     "evalue": "name 'file' is not defined",
     "output_type": "error",
     "traceback": [
      "\u001b[0;31m---------------------------------------------------------------------------\u001b[0m",
      "\u001b[0;31mNameError\u001b[0m                                 Traceback (most recent call last)",
      "Cell \u001b[0;32mIn[7], line 36\u001b[0m\n\u001b[1;32m     34\u001b[0m     \u001b[38;5;28mprint\u001b[39m(\u001b[38;5;124m\"\u001b[39m\u001b[38;5;124mContent:\u001b[39m\u001b[38;5;124m\"\u001b[39m, content)\n\u001b[1;32m     35\u001b[0m \u001b[38;5;28;01mfinally\u001b[39;00m:\n\u001b[0;32m---> 36\u001b[0m     \u001b[38;5;28;01mif\u001b[39;00m \u001b[43mfile\u001b[49m:\n\u001b[1;32m     37\u001b[0m         file\u001b[38;5;241m.\u001b[39mclose()\n\u001b[1;32m     39\u001b[0m \u001b[38;5;66;03m#example for raise\u001b[39;00m\n",
      "\u001b[0;31mNameError\u001b[0m: name 'file' is not defined"
     ]
    }
   ],
   "source": [
    "'''Q4. Explain with an example:\n",
    "a.try and else\n",
    "b.finally\n",
    "c.raise\n",
    "\n",
    "a.try and else = The else block is used along with try and except to specify a block of code that should be\n",
    "        executed if no exceptions are raised within the try block. It provides a way to separate the code that\n",
    "        might raise an exception from the code that should run when no exceptions occur.\n",
    "b.finally = The finally block is used to specify a block of code that is guaranteed to be executed, whether \n",
    "    an exception is raised or not. It's often used for cleanup operations, such as closing files or releasing \n",
    "        resources, regardless of whether an exception occurred.   \n",
    "c.raise = The raise statement is used to explicitly raise exceptions in your code. It's useful when you want\n",
    "        to handle specific situations by raising custom exceptions. ''' \n",
    "\n",
    "# example for try and else\n",
    "def divide(x, y):\n",
    "    try:\n",
    "        result = x / y\n",
    "    except ZeroDivisionError:\n",
    "        print(\"Error: Division by zero!\")\n",
    "    else:\n",
    "        print(\"Result:\", result)\n",
    "\n",
    "divide(10, 2)\n",
    "divide(10, 0)\n",
    "\n",
    "#example for finally\n",
    "try:\n",
    "    file = open(\"example.txt\", \"r\")\n",
    "    content = file.read()\n",
    "except FileNotFoundError:\n",
    "    print(\"File not found!\")\n",
    "else:\n",
    "    print(\"Content:\", content)\n",
    "finally:\n",
    "    if file:\n",
    "        file.close()\n",
    "        \n",
    "#example for raise\n",
    "def validate_age(age):\n",
    "    if age < 0:\n",
    "        raise ValueError(\"Age cannot be negative\")\n",
    "    if age < 18:\n",
    "        raise ValueError(\"You must be at least 18 years old\")\n",
    "\n",
    "try:\n",
    "    user_age = int(input(\"Enter your age: \"))\n",
    "    validate_age(user_age)\n",
    "except ValueError as ve:\n",
    "    print(\"Invalid input:\", ve)"
   ]
  },
  {
   "cell_type": "code",
   "execution_count": 8,
   "id": "468075c0-f3a5-45ef-95ab-fb574291c3e2",
   "metadata": {},
   "outputs": [
    {
     "name": "stdout",
     "output_type": "stream",
     "text": [
      "WithdrawalError: Cannot withdraw 1500 from balance 1000\n"
     ]
    }
   ],
   "source": [
    "'''Q5. What are Custom Exceptions in python? Why do we need Custom Exceptions? Explain with an example\n",
    "\n",
    "Custom exceptions in Python are user-defined exceptions that allow you to create your own specific types of\n",
    "exceptions. While Python provides a wide range of built-in exceptions for common scenarios, sometimes you may\n",
    "encounter situations that require more specialized error handling. Creating custom exceptions helps you handle \n",
    "these situations in a more organized and meaningful way.\n",
    "\n",
    "Here's why you might need custom exceptions:\n",
    "\n",
    "1.Specificity: Custom exceptions allow you to create exception classes tailored to your application's \n",
    "            domain or specific error conditions\n",
    "2. Clarity: When you raise and catch custom exceptions, your code becomes more expressive. \n",
    "3.Hierarchical Structure: You can organize custom exceptions in a hierarchy, making it easier to handle related \n",
    "    errors at different levels of granularity.\n",
    "4.Debugging: Custom exceptions can include additional information, attributes, and methods that help with\n",
    "        debugging and error analysis. '''   \n",
    "\n",
    "class WithdrawalError(Exception):\n",
    "    def __init__(self, balance, amount):\n",
    "        self.balance = balance\n",
    "        self.amount = amount\n",
    "        self.message = f\"WithdrawalError: Cannot withdraw {self.amount} from balance {self.balance}\"\n",
    "\n",
    "def withdraw(balance, amount):\n",
    "    if amount > balance:\n",
    "        raise WithdrawalError(balance, amount)\n",
    "    return balance - amount\n",
    "\n",
    "try:\n",
    "    account_balance = 1000\n",
    "    withdrawal_amount = 1500\n",
    "    remaining_balance = withdraw(account_balance, withdrawal_amount)\n",
    "    print(\"Remaining balance:\", remaining_balance)\n",
    "except WithdrawalError as we:\n",
    "    print(we.message)\n"
   ]
  },
  {
   "cell_type": "code",
   "execution_count": 9,
   "id": "3ab3c3ae-c97e-4c9c-8a84-a73ba2c763ab",
   "metadata": {},
   "outputs": [
    {
     "name": "stdout",
     "output_type": "stream",
     "text": [
      "TemperatureTooHighError: Temperature is too high: 110\n"
     ]
    }
   ],
   "source": [
    "#Q6. Create a custom exception class. Use this class to handle an exception.\n",
    "\n",
    "class TemperatureTooHighError(Exception):\n",
    "    def __init__(self, temperature):\n",
    "        self.temperature = temperature\n",
    "        self.message = f\"TemperatureTooHighError: Temperature is too high: {self.temperature}\"\n",
    "\n",
    "def check_temperature(temperature):\n",
    "    if temperature > 100:\n",
    "        raise TemperatureTooHighError(temperature)\n",
    "    print(\"Temperature is within safe limits.\")\n",
    "\n",
    "try:\n",
    "    current_temperature = 110\n",
    "    check_temperature(current_temperature)\n",
    "except TemperatureTooHighError as tthe:\n",
    "    print(tthe.message)\n"
   ]
  },
  {
   "cell_type": "code",
   "execution_count": null,
   "id": "41de6060-49f5-45db-9082-9b5d773e375a",
   "metadata": {},
   "outputs": [],
   "source": []
  }
 ],
 "metadata": {
  "kernelspec": {
   "display_name": "Python 3 (ipykernel)",
   "language": "python",
   "name": "python3"
  },
  "language_info": {
   "codemirror_mode": {
    "name": "ipython",
    "version": 3
   },
   "file_extension": ".py",
   "mimetype": "text/x-python",
   "name": "python",
   "nbconvert_exporter": "python",
   "pygments_lexer": "ipython3",
   "version": "3.10.8"
  }
 },
 "nbformat": 4,
 "nbformat_minor": 5
}
