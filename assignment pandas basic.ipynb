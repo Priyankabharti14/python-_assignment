{
 "cells": [
  {
   "cell_type": "code",
   "execution_count": 2,
   "id": "bc331824-6ac1-4042-8f29-04d3cb29e817",
   "metadata": {},
   "outputs": [
    {
     "name": "stdout",
     "output_type": "stream",
     "text": [
      "0     4\n",
      "1     8\n",
      "2    15\n",
      "3    16\n",
      "4    23\n",
      "5    42\n",
      "dtype: int64\n"
     ]
    }
   ],
   "source": [
    "#Q1. Create a Pandas Series that contains the following data: 4, 8, 15, 16, 23, and 42. Then, print the series.\n",
    "\n",
    "\n",
    "import pandas as pd\n",
    "data = [4,8,15,16,23,42]\n",
    "series = pd.Series(data)\n",
    "print(series)"
   ]
  },
  {
   "cell_type": "code",
   "execution_count": 4,
   "id": "f4938ad1-dc42-47c9-a8bb-e3a1bbf00472",
   "metadata": {},
   "outputs": [
    {
     "name": "stdout",
     "output_type": "stream",
     "text": [
      "0     1\n",
      "1     2\n",
      "2     3\n",
      "3     4\n",
      "4     5\n",
      "5     6\n",
      "6     7\n",
      "7     8\n",
      "8     9\n",
      "9    10\n",
      "dtype: int64\n"
     ]
    }
   ],
   "source": [
    "'''Q2. Create a variable of list type containing 10 elements in it, and apply pandas.Series function on the\n",
    "variable print it.'''\n",
    "\n",
    "import pandas as pd\n",
    "my_list = [1,2,3,4,5,6,7,8,9,10]\n",
    "series = pd.Series(my_list)\n",
    "print(series)"
   ]
  },
  {
   "cell_type": "code",
   "execution_count": 6,
   "id": "bc1332c6-4951-4040-8ebd-39551cf08d17",
   "metadata": {},
   "outputs": [
    {
     "name": "stdout",
     "output_type": "stream",
     "text": [
      "     Name  Age  Gender\n",
      "0   Alice   25  Female\n",
      "1     Bob   30    Male\n",
      "2  Claire   27  Female\n"
     ]
    }
   ],
   "source": [
    "'''Q3. Create a Pandas DataFrame that contains the following data:\n",
    "    Name     Age     Gender\n",
    "    Alice    25       Female\n",
    "    Bob      30        Male\n",
    "    Claire   27        Female\n",
    "\n",
    "Then, print the DataFrame.'''\n",
    "\n",
    "\n",
    "import pandas as pd\n",
    "data= {\n",
    "     'Name' : ['Alice','Bob', 'Claire'],\n",
    "    'Age' : [25,30,27],\n",
    "    'Gender' : ['Female','Male','Female']\n",
    "    }\n",
    "df = pd.DataFrame(data)\n",
    "print(df)"
   ]
  },
  {
   "cell_type": "code",
   "execution_count": 7,
   "id": "d9dfaedb-6594-4fbd-92ff-8a4367dbdb0e",
   "metadata": {},
   "outputs": [
    {
     "name": "stdout",
     "output_type": "stream",
     "text": [
      "0     4\n",
      "1     8\n",
      "2    15\n",
      "3    16\n",
      "4    23\n",
      "5    42\n",
      "dtype: int64\n",
      "\n",
      "DataFrame:\n",
      "     Name  Age  Gender\n",
      "0   Alice   25  Female\n",
      "1     Bob   30    Male\n",
      "2  Claire   27  Female\n"
     ]
    }
   ],
   "source": [
    "'''Q4. What is ‘DataFrame’ in pandas and how is it different from pandas.series? Explain with an example.\n",
    "\n",
    "In Pandas, a DataFrame is a two-dimensional, size-mutable, and potentially heterogeneous tabular data structure\n",
    "with labeled axes (rows and columns). It is similar to a spreadsheet or SQL table, or a dictionary of Series \n",
    "objects. Each column can be of a different data type (integers, strings, floating-point numbers, Python objects,\n",
    "etc.). DataFrames are great for handling real-world data for tasks like data cleaning, data preprocessing, and \n",
    "data analysis.\n",
    "\n",
    "On the other hand, a Series is a one-dimensional labeled array capable of holding any data type. It is similar to\n",
    "a column in a spreadsheet or a single variable in statistics. A DataFrame actually consists of one or more Series.\n",
    "You can think of a DataFrame as a collection of Series objects that share the same index.'''\n",
    "\n",
    "\n",
    "import pandas as pd\n",
    "\n",
    "#creating a series\n",
    "data = [4,8,15,16,23,42]\n",
    "series = pd.Series(data)\n",
    "print(series)\n",
    "\n",
    "#creating  a dataframe\n",
    "import pandas as pd\n",
    "data2= {\n",
    "     'Name' : ['Alice','Bob', 'Claire'],\n",
    "    'Age' : [25,30,27],\n",
    "    'Gender' : ['Female','Male','Female']\n",
    "    }\n",
    "df = pd.DataFrame(data2)\n",
    "print(\"\\nDataFrame:\")\n",
    "print(df)\n"
   ]
  },
  {
   "cell_type": "code",
   "execution_count": 9,
   "id": "80a455cd-25e6-4ea2-9b48-32adde3b1195",
   "metadata": {},
   "outputs": [
    {
     "name": "stdout",
     "output_type": "stream",
     "text": [
      "<class 'pandas.core.frame.DataFrame'>\n",
      "RangeIndex: 3 entries, 0 to 2\n",
      "Data columns (total 3 columns):\n",
      " #   Column  Non-Null Count  Dtype \n",
      "---  ------  --------------  ----- \n",
      " 0   Name    3 non-null      object\n",
      " 1   Age     3 non-null      int64 \n",
      " 2   Gender  3 non-null      object\n",
      "dtypes: int64(1), object(2)\n",
      "memory usage: 200.0+ bytes\n",
      "(3, 3)\n"
     ]
    },
    {
     "ename": "KeyError",
     "evalue": "'column_name'",
     "output_type": "error",
     "traceback": [
      "\u001b[0;31m---------------------------------------------------------------------------\u001b[0m",
      "\u001b[0;31mKeyError\u001b[0m                                  Traceback (most recent call last)",
      "File \u001b[0;32m/opt/conda/lib/python3.10/site-packages/pandas/core/indexes/base.py:3803\u001b[0m, in \u001b[0;36mIndex.get_loc\u001b[0;34m(self, key, method, tolerance)\u001b[0m\n\u001b[1;32m   3802\u001b[0m \u001b[38;5;28;01mtry\u001b[39;00m:\n\u001b[0;32m-> 3803\u001b[0m     \u001b[38;5;28;01mreturn\u001b[39;00m \u001b[38;5;28;43mself\u001b[39;49m\u001b[38;5;241;43m.\u001b[39;49m\u001b[43m_engine\u001b[49m\u001b[38;5;241;43m.\u001b[39;49m\u001b[43mget_loc\u001b[49m\u001b[43m(\u001b[49m\u001b[43mcasted_key\u001b[49m\u001b[43m)\u001b[49m\n\u001b[1;32m   3804\u001b[0m \u001b[38;5;28;01mexcept\u001b[39;00m \u001b[38;5;167;01mKeyError\u001b[39;00m \u001b[38;5;28;01mas\u001b[39;00m err:\n",
      "File \u001b[0;32m/opt/conda/lib/python3.10/site-packages/pandas/_libs/index.pyx:138\u001b[0m, in \u001b[0;36mpandas._libs.index.IndexEngine.get_loc\u001b[0;34m()\u001b[0m\n",
      "File \u001b[0;32m/opt/conda/lib/python3.10/site-packages/pandas/_libs/index.pyx:165\u001b[0m, in \u001b[0;36mpandas._libs.index.IndexEngine.get_loc\u001b[0;34m()\u001b[0m\n",
      "File \u001b[0;32mpandas/_libs/hashtable_class_helper.pxi:5745\u001b[0m, in \u001b[0;36mpandas._libs.hashtable.PyObjectHashTable.get_item\u001b[0;34m()\u001b[0m\n",
      "File \u001b[0;32mpandas/_libs/hashtable_class_helper.pxi:5753\u001b[0m, in \u001b[0;36mpandas._libs.hashtable.PyObjectHashTable.get_item\u001b[0;34m()\u001b[0m\n",
      "\u001b[0;31mKeyError\u001b[0m: 'column_name'",
      "\nThe above exception was the direct cause of the following exception:\n",
      "\u001b[0;31mKeyError\u001b[0m                                  Traceback (most recent call last)",
      "Cell \u001b[0;32mIn[9], line 29\u001b[0m\n\u001b[1;32m     27\u001b[0m \u001b[38;5;66;03m#example:\u001b[39;00m\n\u001b[1;32m     28\u001b[0m column_name \u001b[38;5;241m=\u001b[39m []\n\u001b[0;32m---> 29\u001b[0m \u001b[43mdf\u001b[49m\u001b[43m[\u001b[49m\u001b[38;5;124;43m'\u001b[39;49m\u001b[38;5;124;43mcolumn_name\u001b[39;49m\u001b[38;5;124;43m'\u001b[39;49m\u001b[43m]\u001b[49m\u001b[38;5;241m.\u001b[39mvalue_counts()\n",
      "File \u001b[0;32m/opt/conda/lib/python3.10/site-packages/pandas/core/frame.py:3805\u001b[0m, in \u001b[0;36mDataFrame.__getitem__\u001b[0;34m(self, key)\u001b[0m\n\u001b[1;32m   3803\u001b[0m \u001b[38;5;28;01mif\u001b[39;00m \u001b[38;5;28mself\u001b[39m\u001b[38;5;241m.\u001b[39mcolumns\u001b[38;5;241m.\u001b[39mnlevels \u001b[38;5;241m>\u001b[39m \u001b[38;5;241m1\u001b[39m:\n\u001b[1;32m   3804\u001b[0m     \u001b[38;5;28;01mreturn\u001b[39;00m \u001b[38;5;28mself\u001b[39m\u001b[38;5;241m.\u001b[39m_getitem_multilevel(key)\n\u001b[0;32m-> 3805\u001b[0m indexer \u001b[38;5;241m=\u001b[39m \u001b[38;5;28;43mself\u001b[39;49m\u001b[38;5;241;43m.\u001b[39;49m\u001b[43mcolumns\u001b[49m\u001b[38;5;241;43m.\u001b[39;49m\u001b[43mget_loc\u001b[49m\u001b[43m(\u001b[49m\u001b[43mkey\u001b[49m\u001b[43m)\u001b[49m\n\u001b[1;32m   3806\u001b[0m \u001b[38;5;28;01mif\u001b[39;00m is_integer(indexer):\n\u001b[1;32m   3807\u001b[0m     indexer \u001b[38;5;241m=\u001b[39m [indexer]\n",
      "File \u001b[0;32m/opt/conda/lib/python3.10/site-packages/pandas/core/indexes/base.py:3805\u001b[0m, in \u001b[0;36mIndex.get_loc\u001b[0;34m(self, key, method, tolerance)\u001b[0m\n\u001b[1;32m   3803\u001b[0m     \u001b[38;5;28;01mreturn\u001b[39;00m \u001b[38;5;28mself\u001b[39m\u001b[38;5;241m.\u001b[39m_engine\u001b[38;5;241m.\u001b[39mget_loc(casted_key)\n\u001b[1;32m   3804\u001b[0m \u001b[38;5;28;01mexcept\u001b[39;00m \u001b[38;5;167;01mKeyError\u001b[39;00m \u001b[38;5;28;01mas\u001b[39;00m err:\n\u001b[0;32m-> 3805\u001b[0m     \u001b[38;5;28;01mraise\u001b[39;00m \u001b[38;5;167;01mKeyError\u001b[39;00m(key) \u001b[38;5;28;01mfrom\u001b[39;00m \u001b[38;5;21;01merr\u001b[39;00m\n\u001b[1;32m   3806\u001b[0m \u001b[38;5;28;01mexcept\u001b[39;00m \u001b[38;5;167;01mTypeError\u001b[39;00m:\n\u001b[1;32m   3807\u001b[0m     \u001b[38;5;66;03m# If we have a listlike key, _check_indexing_error will raise\u001b[39;00m\n\u001b[1;32m   3808\u001b[0m     \u001b[38;5;66;03m#  InvalidIndexError. Otherwise we fall through and re-raise\u001b[39;00m\n\u001b[1;32m   3809\u001b[0m     \u001b[38;5;66;03m#  the TypeError.\u001b[39;00m\n\u001b[1;32m   3810\u001b[0m     \u001b[38;5;28mself\u001b[39m\u001b[38;5;241m.\u001b[39m_check_indexing_error(key)\n",
      "\u001b[0;31mKeyError\u001b[0m: 'column_name'"
     ]
    }
   ],
   "source": [
    "'''Q5. What are some common functions you can use to manipulate data in a Pandas DataFrame? Can\n",
    "you give an example of when you might use one of these functions?\n",
    "\n",
    "Pandas provides a wide range of functions to manipulate data in a DataFrame.\n",
    "\n",
    "Here are some common functions and their use cases:\n",
    "\n",
    "1. head() and tail()\n",
    "Use Case: To display the first or last n rows of the DataFrame.'''\n",
    "#example:\n",
    "df.head(5)  # Displays the first 5 rows of the DataFrame\n",
    "df.tail(3)  # Displays the last 3 rows of the DataFrame\n",
    "'''2. info()\n",
    "Use Case: To get a concise summary of the DataFrame, including the data types and missing values.'''\n",
    "#example:\n",
    "df.info()\n",
    "'''3. describe()\n",
    "Use Case: To generate descriptive statistics of the DataFrame, excluding NaN values.'''\n",
    "#example:\n",
    "df.describe()\n",
    "'''4. shape\n",
    "Use Case: To get the dimensions of the DataFrame (number of rows, number of columns).'''\n",
    "#example:\n",
    "print(df.shape)  # Outputs (rows, columns)\n",
    "'''5. value_counts()\n",
    "Use Case: To count unique values in a column.'''\n",
    "#example:\n",
    "column_name = []\n",
    "df['column_name'].value_counts()"
   ]
  },
  {
   "cell_type": "code",
   "execution_count": 10,
   "id": "d0879436-e067-49b9-b055-61807cd07469",
   "metadata": {},
   "outputs": [
    {
     "data": {
      "text/plain": [
       "\"Q6. Which of the following is mutable in nature Series, DataFrame, Panel?\\n\\nIn the context of Pandas, Series and DataFrame are mutable, whereas Panel is immutable.\\n\\n1.Series: Mutable - You can modify the elements of a Series after it has been created.\\n2.DataFrame: Mutable - You can add, remove, or modify columns and rows in a DataFrame.\\n3.Panel: Immutable - Panels have been removed from the latest versions of Pandas (starting from version 0.25.0) \\n    because they were deemed to be not very useful and complicated to work with. If you are using a version of \\n    Pandas released after this, you won't be dealing with Panels. However, if you're working with an older \\n    version of Pandas,it's important to note that Panels were immutable.\""
      ]
     },
     "execution_count": 10,
     "metadata": {},
     "output_type": "execute_result"
    }
   ],
   "source": [
    "'''Q6. Which of the following is mutable in nature Series, DataFrame, Panel?\n",
    "\n",
    "In the context of Pandas, Series and DataFrame are mutable, whereas Panel is immutable.\n",
    "\n",
    "1.Series: Mutable - You can modify the elements of a Series after it has been created.\n",
    "2.DataFrame: Mutable - You can add, remove, or modify columns and rows in a DataFrame.\n",
    "3.Panel: Immutable - Panels have been removed from the latest versions of Pandas (starting from version 0.25.0) \n",
    "    because they were deemed to be not very useful and complicated to work with. If you are using a version of \n",
    "    Pandas released after this, you won't be dealing with Panels. However, if you're working with an older \n",
    "    version of Pandas,it's important to note that Panels were immutable.'''"
   ]
  },
  {
   "cell_type": "code",
   "execution_count": 11,
   "id": "344ab24d-d15e-41f6-a58b-db74157324ac",
   "metadata": {},
   "outputs": [
    {
     "name": "stdout",
     "output_type": "stream",
     "text": [
      "      Name  Age  Score\n",
      "0    Alice   25     85\n",
      "1      Bob   30     90\n",
      "2  Charlie   35     88\n",
      "3    David   40     92\n"
     ]
    }
   ],
   "source": [
    "'''Q7. Create a DataFrame using multiple Series. Explain with an example.\n",
    "\n",
    "You can create a DataFrame using multiple Series in Pandas. Each Series will represent a column in the DataFrame.'''\n",
    "\n",
    "import pandas as pd\n",
    "\n",
    "# Creating multiple Series\n",
    "names = pd.Series(['Alice', 'Bob', 'Charlie', 'David'])\n",
    "ages = pd.Series([25, 30, 35, 40])\n",
    "scores = pd.Series([85, 90, 88, 92])\n",
    "\n",
    "# Creating a DataFrame using the Series\n",
    "data = {'Name': names, 'Age': ages, 'Score': scores}\n",
    "df = pd.DataFrame(data)\n",
    "print(df)\n"
   ]
  },
  {
   "cell_type": "code",
   "execution_count": null,
   "id": "e103a0da-93b1-468c-9ce4-147a98ba0a94",
   "metadata": {},
   "outputs": [],
   "source": []
  }
 ],
 "metadata": {
  "kernelspec": {
   "display_name": "Python 3 (ipykernel)",
   "language": "python",
   "name": "python3"
  },
  "language_info": {
   "codemirror_mode": {
    "name": "ipython",
    "version": 3
   },
   "file_extension": ".py",
   "mimetype": "text/x-python",
   "name": "python",
   "nbconvert_exporter": "python",
   "pygments_lexer": "ipython3",
   "version": "3.10.8"
  }
 },
 "nbformat": 4,
 "nbformat_minor": 5
}
