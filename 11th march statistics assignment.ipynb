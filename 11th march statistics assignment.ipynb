{
 "cells": [
  {
   "cell_type": "code",
   "execution_count": 1,
   "id": "0195d0d5-5ecc-465b-89ba-18c2593e34a2",
   "metadata": {},
   "outputs": [
    {
     "data": {
      "text/plain": [
       "\"Q1: What is the difference between a t-test and a z-test? Provide an example scenario where you would\\nuse each type of test.\\n\\nA t-test and a z-test are both statistical hypothesis tests used to make inferences about population parameters \\nbased on sample data. However, they are used under different circumstances and assumptions.\\n\\n1.Difference:\\nT-test: A t-test is used when the sample size is small (typically less than 30) and the population standard \\ndeviation is unknown. It calculates a t-statistic which follows a t-distribution. There are different types of\\nt-tests such as one-sample t-test, independent samples t-test, and paired samples t-test.\\nZ-test: A z-test is used when the sample size is large (typically greater than 30) or when the population standard\\ndeviation is known. It calculates a z-statistic which follows a standard normal distribution (z-distribution).\\n\\n2.. Example Scenarios:\\nT-test: Let's say you want to compare the mean scores of two groups of students (Group A and Group B) on a\\nstandardized test to see if there is a significant difference between them. Since the sample size of each group \\nis relatively small (less than 30), and you likely don't know the population standard deviation, you would use an\\nindependent samples t-test to compare the means of the two groups.\\nZ-test: Suppose you are interested in testing whether the mean height of all adults in a particular country is \\ndifferent from a known population mean height (for example, the mean height of adults worldwide). Since you have \\na large sample size (more than 30) and you might also have access to the population standard deviation (through \\nprevious studies or reliable data), you can use a z-test to compare the sample mean to the population mean.\""
      ]
     },
     "execution_count": 1,
     "metadata": {},
     "output_type": "execute_result"
    }
   ],
   "source": [
    "'''Q1: What is the difference between a t-test and a z-test? Provide an example scenario where you would\n",
    "use each type of test.\n",
    "\n",
    "A t-test and a z-test are both statistical hypothesis tests used to make inferences about population parameters \n",
    "based on sample data. However, they are used under different circumstances and assumptions.\n",
    "\n",
    "1.Difference:\n",
    "T-test: A t-test is used when the sample size is small (typically less than 30) and the population standard \n",
    "deviation is unknown. It calculates a t-statistic which follows a t-distribution. There are different types of\n",
    "t-tests such as one-sample t-test, independent samples t-test, and paired samples t-test.\n",
    "Z-test: A z-test is used when the sample size is large (typically greater than 30) or when the population standard\n",
    "deviation is known. It calculates a z-statistic which follows a standard normal distribution (z-distribution).\n",
    "\n",
    "2.. Example Scenarios:\n",
    "T-test: Let's say you want to compare the mean scores of two groups of students (Group A and Group B) on a\n",
    "standardized test to see if there is a significant difference between them. Since the sample size of each group \n",
    "is relatively small (less than 30), and you likely don't know the population standard deviation, you would use an\n",
    "independent samples t-test to compare the means of the two groups.\n",
    "Z-test: Suppose you are interested in testing whether the mean height of all adults in a particular country is \n",
    "different from a known population mean height (for example, the mean height of adults worldwide). Since you have \n",
    "a large sample size (more than 30) and you might also have access to the population standard deviation (through \n",
    "previous studies or reliable data), you can use a z-test to compare the sample mean to the population mean.'''"
   ]
  },
  {
   "cell_type": "code",
   "execution_count": 2,
   "id": "e6d04693-8435-4587-918a-a477fb2b13bb",
   "metadata": {},
   "outputs": [
    {
     "data": {
      "text/plain": [
       "'Q2: Differentiate between one-tailed and two-tailed tests.\\n\\nOne-tailed and two-tailed tests refer to the directionality of the hypothesis being tested in a statistical test.\\n\\n1.One-tailed test:\\n.A one-tailed test is used when the hypothesis being tested specifies the direction of the effect.\\n.It examines whether a sample statistic is significantly greater than or less than a certain value.\\n.The critical region for rejection is located entirely in one tail of the distribution (either the left tail or the\\nright tail).\\n.One-tailed tests are more powerful in detecting effects in a specific direction but are less appropriate when the\\ndirection of the effect is uncertain or when both directions are of interest.\\n\\nExample:\\nSuppose you want to test whether a new medicine increases the average response time in a task. The one-tailed \\nhypothesis would be:\\nNull hypothesis (H0): The new medicine has no effect on response time (μ = μ0).\\nAlternative hypothesis (H1): The new medicine increases response time (μ > μ0).\\n\\n2.Two-tailed test:\\n.A two-tailed test is used when the hypothesis being tested does not specify the direction of the effect; it only \\ntests whether there is a difference.\\n.It examines whether a sample statistic is significantly different from a certain value, regardless of the \\ndirection.\\n.The critical region for rejection is divided between both tails of the distribution.\\n.Two-tailed tests are appropriate when there is no prior expectation about the direction of the effect or when \\nboth directions of the effect are equally important.\\n\\nExample:\\nSuppose you want to test whether a coin is biased. The two-tailed hypothesis would be:\\nNull hypothesis (H0): The coin is fair (p = 0.5).\\nAlternative hypothesis (H1): The coin is biased (p ≠ 0.5), where p is the probability of getting heads.'"
      ]
     },
     "execution_count": 2,
     "metadata": {},
     "output_type": "execute_result"
    }
   ],
   "source": [
    "'''Q2: Differentiate between one-tailed and two-tailed tests.\n",
    "\n",
    "One-tailed and two-tailed tests refer to the directionality of the hypothesis being tested in a statistical test.\n",
    "\n",
    "1.One-tailed test:\n",
    ".A one-tailed test is used when the hypothesis being tested specifies the direction of the effect.\n",
    ".It examines whether a sample statistic is significantly greater than or less than a certain value.\n",
    ".The critical region for rejection is located entirely in one tail of the distribution (either the left tail or the\n",
    "right tail).\n",
    ".One-tailed tests are more powerful in detecting effects in a specific direction but are less appropriate when the\n",
    "direction of the effect is uncertain or when both directions are of interest.\n",
    "\n",
    "Example:\n",
    "Suppose you want to test whether a new medicine increases the average response time in a task. The one-tailed \n",
    "hypothesis would be:\n",
    "Null hypothesis (H0): The new medicine has no effect on response time (μ = μ0).\n",
    "Alternative hypothesis (H1): The new medicine increases response time (μ > μ0).\n",
    "\n",
    "2.Two-tailed test:\n",
    ".A two-tailed test is used when the hypothesis being tested does not specify the direction of the effect; it only \n",
    "tests whether there is a difference.\n",
    ".It examines whether a sample statistic is significantly different from a certain value, regardless of the \n",
    "direction.\n",
    ".The critical region for rejection is divided between both tails of the distribution.\n",
    ".Two-tailed tests are appropriate when there is no prior expectation about the direction of the effect or when \n",
    "both directions of the effect are equally important.\n",
    "\n",
    "Example:\n",
    "Suppose you want to test whether a coin is biased. The two-tailed hypothesis would be:\n",
    "Null hypothesis (H0): The coin is fair (p = 0.5).\n",
    "Alternative hypothesis (H1): The coin is biased (p ≠ 0.5), where p is the probability of getting heads.'''"
   ]
  },
  {
   "cell_type": "code",
   "execution_count": 3,
   "id": "a067cb31-4d7e-4c0e-ab9e-59e57f740bcf",
   "metadata": {},
   "outputs": [
    {
     "data": {
      "text/plain": [
       "'Q3: Explain the concept of Type 1 and Type 2 errors in hypothesis testing. Provide an example scenario for\\neach type of error.\\n\\nType 1 and Type 2 errors are two types of mistakes that can occur in hypothesis testing:\\n1.Type 1 Error (False Positive):\\n.A Type 1 error occurs when the null hypothesis (H0) is rejected when it is actually true.\\n.It represents the situation where you conclude that there is a significant effect or difference when \\n  there is none.\\n.The probability of committing a Type 1 error is denoted by α (alpha), also known as the significance level.\\nExample:\\nSuppose a medical researcher is testing a new drug to treat a disease. The null hypothesis (H0) is that the drug \\nhas no effect on the disease. If, based on the study results, the researcher rejects the null hypothesis and\\nconcludes that the drug is effective, but in reality, the drug has no effect or is even harmful, this would be \\na Type 1 error.\\n\\n2.Type 2 Error (False Negative):\\n.A Type 2 error occurs when the null hypothesis (H0) is not rejected when it is actually false.\\n.It represents the situation where you fail to detect a significant effect or difference when one truly exists.\\n.The probability of committing a Type 2 error is denoted by β (beta).\\nExample:\\nContinuing with the previous example, consider the same medical researcher testing the new drug. This time, the \\nnull hypothesis (H0) is that the drug has no effect on the disease. If, based on the study results, the researcher\\nfails to reject the null hypothesis and concludes that the drug is not effective, but in reality, the drug is \\neffective, this would be a Type 2 error.'"
      ]
     },
     "execution_count": 3,
     "metadata": {},
     "output_type": "execute_result"
    }
   ],
   "source": [
    "'''Q3: Explain the concept of Type 1 and Type 2 errors in hypothesis testing. Provide an example scenario for\n",
    "each type of error.\n",
    "\n",
    "Type 1 and Type 2 errors are two types of mistakes that can occur in hypothesis testing:\n",
    "1.Type 1 Error (False Positive):\n",
    ".A Type 1 error occurs when the null hypothesis (H0) is rejected when it is actually true.\n",
    ".It represents the situation where you conclude that there is a significant effect or difference when \n",
    "  there is none.\n",
    ".The probability of committing a Type 1 error is denoted by α (alpha), also known as the significance level.\n",
    "Example:\n",
    "Suppose a medical researcher is testing a new drug to treat a disease. The null hypothesis (H0) is that the drug \n",
    "has no effect on the disease. If, based on the study results, the researcher rejects the null hypothesis and\n",
    "concludes that the drug is effective, but in reality, the drug has no effect or is even harmful, this would be \n",
    "a Type 1 error.\n",
    "\n",
    "2.Type 2 Error (False Negative):\n",
    ".A Type 2 error occurs when the null hypothesis (H0) is not rejected when it is actually false.\n",
    ".It represents the situation where you fail to detect a significant effect or difference when one truly exists.\n",
    ".The probability of committing a Type 2 error is denoted by β (beta).\n",
    "Example:\n",
    "Continuing with the previous example, consider the same medical researcher testing the new drug. This time, the \n",
    "null hypothesis (H0) is that the drug has no effect on the disease. If, based on the study results, the researcher\n",
    "fails to reject the null hypothesis and concludes that the drug is not effective, but in reality, the drug is \n",
    "effective, this would be a Type 2 error.'''"
   ]
  },
  {
   "cell_type": "code",
   "execution_count": 4,
   "id": "5ee9adcb-b887-4e58-86b9-7fc2d97a8274",
   "metadata": {},
   "outputs": [
    {
     "data": {
      "text/plain": [
       "\"'Q4: Explain Bayes's theorem with an example.\\n\\nBayes's theorem is a fundamental concept in probability theory that describes how to update the probability of a\\nhypothesis in light of new evidence. It mathematically relates the probability of A given B (P(A|B)) to the \\nprobability of B given A (P(B|A)).\\nThe theorem is expressed as:\\n\\n\\nP(A∣B)= P(B∣A)×P(A)/p(B)\\nWhere:\\nP(A∣B) is the probability of event A occurring given that event B has occurred.\\nP(B∣A) is the probability of event B occurring given that event A has occurred.\\nP(A) and P(B) are the probabilities of events A and B occurring independently.\""
      ]
     },
     "execution_count": 4,
     "metadata": {},
     "output_type": "execute_result"
    }
   ],
   "source": [
    "''''Q4: Explain Bayes's theorem with an example.\n",
    "\n",
    "Bayes's theorem is a fundamental concept in probability theory that describes how to update the probability of a\n",
    "hypothesis in light of new evidence. It mathematically relates the probability of A given B (P(A|B)) to the \n",
    "probability of B given A (P(B|A)).\n",
    "The theorem is expressed as:\n",
    "\n",
    "\n",
    "P(A∣B)= P(B∣A)×P(A)/p(B)\n",
    "Where:\n",
    "P(A∣B) is the probability of event A occurring given that event B has occurred.\n",
    "P(B∣A) is the probability of event B occurring given that event A has occurred.\n",
    "P(A) and P(B) are the probabilities of events A and B occurring independently.'''"
   ]
  },
  {
   "cell_type": "code",
   "execution_count": 5,
   "id": "23023a12-639f-4c4f-ad97-00fc03dfa283",
   "metadata": {},
   "outputs": [
    {
     "data": {
      "text/plain": [
       "'Q5: What is a confidence interval? How to calculate the confidence interval, explain with an example.\\n\\nA confidence interval is a range of values calculated from sample data that is likely to contain the true \\npopulation parameter with a certain level of confidence. It provides a range within which we believe the true \\npopulation parameter lies.\\nCalculation of Confidence Interval:\\n1.Determine the Sample Mean and Sample Standard Deviation:\\nCalculate the mean (𝑥) and standard deviation (s) of the sample data.\\n2.Select the Confidence Level:\\nChoose a confidence level (often expressed as a percentage), such as 90%, 95%, or 99%. This represents the\\nprobability that the interval will contain the true population parameter.\\n3.Find the Critical Value:\\nDetermine the critical value (z-value or t-value) from the standard normal distribution (z-distribution) or the \\nt-distribution corresponding to the chosen confidence level and the degrees of freedom (if using a t-distribution).\\n4.Calculate the Margin of Error:\\nUse the critical value and the standard error of the mean to calculate the margin of error, which is the maximum \\nlikely difference between the sample mean and the true population mean.\\n5.Construct the Confidence Interval:\\nUse the sample mean, margin of error, and confidence level to construct the confidence interval as:\\nConfidence Interval=𝑥±Margin of Error\\nConfidence Interval= x±Margin of Error'"
      ]
     },
     "execution_count": 5,
     "metadata": {},
     "output_type": "execute_result"
    }
   ],
   "source": [
    "'''Q5: What is a confidence interval? How to calculate the confidence interval, explain with an example.\n",
    "\n",
    "A confidence interval is a range of values calculated from sample data that is likely to contain the true \n",
    "population parameter with a certain level of confidence. It provides a range within which we believe the true \n",
    "population parameter lies.\n",
    "Calculation of Confidence Interval:\n",
    "1.Determine the Sample Mean and Sample Standard Deviation:\n",
    "Calculate the mean (𝑥) and standard deviation (s) of the sample data.\n",
    "2.Select the Confidence Level:\n",
    "Choose a confidence level (often expressed as a percentage), such as 90%, 95%, or 99%. This represents the\n",
    "probability that the interval will contain the true population parameter.\n",
    "3.Find the Critical Value:\n",
    "Determine the critical value (z-value or t-value) from the standard normal distribution (z-distribution) or the \n",
    "t-distribution corresponding to the chosen confidence level and the degrees of freedom (if using a t-distribution).\n",
    "4.Calculate the Margin of Error:\n",
    "Use the critical value and the standard error of the mean to calculate the margin of error, which is the maximum \n",
    "likely difference between the sample mean and the true population mean.\n",
    "5.Construct the Confidence Interval:\n",
    "Use the sample mean, margin of error, and confidence level to construct the confidence interval as:\n",
    "Confidence Interval=𝑥±Margin of Error\n",
    "Confidence Interval= x±Margin of Error'''"
   ]
  },
  {
   "cell_type": "code",
   "execution_count": 6,
   "id": "86d071b6-8127-4fe0-ad11-bba41f7bc284",
   "metadata": {},
   "outputs": [
    {
     "data": {
      "text/plain": [
       "\"Q6. Use Bayes' Theorem to calculate the probability of an event occurring given prior knowledge of the\\nevent's probability and new evidence. Provide a sample problem and solution.\\n\\nCertainly! Let's consider a classic example involving medical diagnosis.\\nSample Problem:\\nSuppose a certain type of cancer affects 1 in 1000 people in a population. Additionally, there is a diagnostic \\ntest for this cancer, which is 99% accurate in detecting the cancer if it is present and 95% accurate in ruling \\nout the cancer if it is not present.\\nNow, let's say a randomly selected person tests positive for the cancer using this diagnostic test. What is the \\nprobability that they actually have the cancer?\\nSolution using Bayes' Theorem:\\nLet's define the events:\\n.Event A: Having the cancer (Cancer)\\n.Event B: Testing positive (Positive Test)\\nWe want to find P(Cancer∣PositiveTest), the probability that the person has the cancer given that they tested\\npositive.\\nUsing Bayes' Theorem:\\nP(Cancer∣PositiveTest)= \\nP(PositiveTest)\\nP(PositiveTest∣Cancer)×P(Cancer)\\nGiven:\\nP(PositiveTest∣Cancer) = 0.99 (the test's sensitivity)\\nP(Cancer) = 0.001 (the prior probability of having cancer)\\nP(PositiveTest) needs to be calculated using the law of total probability.\""
      ]
     },
     "execution_count": 6,
     "metadata": {},
     "output_type": "execute_result"
    }
   ],
   "source": [
    "'''Q6. Use Bayes' Theorem to calculate the probability of an event occurring given prior knowledge of the\n",
    "event's probability and new evidence. Provide a sample problem and solution.\n",
    "\n",
    "Certainly! Let's consider a classic example involving medical diagnosis.\n",
    "Sample Problem:\n",
    "Suppose a certain type of cancer affects 1 in 1000 people in a population. Additionally, there is a diagnostic \n",
    "test for this cancer, which is 99% accurate in detecting the cancer if it is present and 95% accurate in ruling \n",
    "out the cancer if it is not present.\n",
    "Now, let's say a randomly selected person tests positive for the cancer using this diagnostic test. What is the \n",
    "probability that they actually have the cancer?\n",
    "Solution using Bayes' Theorem:\n",
    "Let's define the events:\n",
    ".Event A: Having the cancer (Cancer)\n",
    ".Event B: Testing positive (Positive Test)\n",
    "We want to find P(Cancer∣PositiveTest), the probability that the person has the cancer given that they tested\n",
    "positive.\n",
    "Using Bayes' Theorem:\n",
    "P(Cancer∣PositiveTest)= \n",
    "P(PositiveTest)\n",
    "P(PositiveTest∣Cancer)×P(Cancer)\n",
    "Given:\n",
    "P(PositiveTest∣Cancer) = 0.99 (the test's sensitivity)\n",
    "P(Cancer) = 0.001 (the prior probability of having cancer)\n",
    "P(PositiveTest) needs to be calculated using the law of total probability.'''"
   ]
  },
  {
   "cell_type": "code",
   "execution_count": 8,
   "id": "d3458088-936c-4544-9755-8538839e4c04",
   "metadata": {},
   "outputs": [
    {
     "data": {
      "text/plain": [
       "\"Q7. Calculate the 95% confidence interval for a sample of data with a mean of 50 and a standard deviation\\nof 5. Interpret the results.\\n\\nTo calculate the 95% confidence interval (CI) for a sample of data with a mean of 50 and a standard deviation of 5,\\nwe can use the formula:\\n    Confidence Interval= x±Margin of Error\\nWhere:\\n𝑥ˉx is the sample mean (given as 50).\\nThe Margin of Error (MOE) is calculated as: \\nMOE\\n=Critical Value× Standard Deviation\\nSample Size\\nMOE=Critical Value× \\nSample Size\\nStandard Deviation\\nSince you haven't provided the sample size, let's assume a sample size of n=100 for demonstration purposes.\\nSolution:\\n\\nGiven:\\n\\nSample Mean (x) = 50\\nStandard Deviation (s) = 5\\nSample Size (n) = 100 (for demonstration purposes)\\nFirst, we need to find the critical value corresponding to a 95% confidence level. For a large sample size \\n(usually n>30), we can use the Z-distribution. The critical value for a 95% confidence level is approximately\\n1.96.\\nCritical Value=1.96\\nNow, calculate the Margin of Error:\\nMOE=1.96*5/root of 100\\nMOE = 1.96 * 5/10\\nMOE = 0.98\\nNow, construct the Confidence Interval:\\nConfidence Interval=50±0.98\\nConfidence Interval=(49.02,50.98)\\n\\nSo, the 95% confidence interval for the population mean is approximately (49.02, 50.98). This means that we are \\n95% confident that the true population mean lies within this range. In other words, if we were to repeat this \\nprocess multiple times, we would expect the true population mean to fall within this interval in about 95% of \\nthose instances.\""
      ]
     },
     "execution_count": 8,
     "metadata": {},
     "output_type": "execute_result"
    }
   ],
   "source": [
    "'''Q7. Calculate the 95% confidence interval for a sample of data with a mean of 50 and a standard deviation\n",
    "of 5. Interpret the results.\n",
    "\n",
    "To calculate the 95% confidence interval (CI) for a sample of data with a mean of 50 and a standard deviation of 5,\n",
    "we can use the formula:\n",
    "    Confidence Interval= x±Margin of Error\n",
    "Where:\n",
    "𝑥ˉx is the sample mean (given as 50).\n",
    "The Margin of Error (MOE) is calculated as: \n",
    "MOE\n",
    "=Critical Value× Standard Deviation\n",
    "Sample Size\n",
    "MOE=Critical Value× \n",
    "Sample Size\n",
    "Standard Deviation\n",
    "Since you haven't provided the sample size, let's assume a sample size of n=100 for demonstration purposes.\n",
    "Solution:\n",
    "\n",
    "Given:\n",
    "\n",
    "Sample Mean (x) = 50\n",
    "Standard Deviation (s) = 5\n",
    "Sample Size (n) = 100 (for demonstration purposes)\n",
    "First, we need to find the critical value corresponding to a 95% confidence level. For a large sample size \n",
    "(usually n>30), we can use the Z-distribution. The critical value for a 95% confidence level is approximately\n",
    "1.96.\n",
    "Critical Value=1.96\n",
    "Now, calculate the Margin of Error:\n",
    "MOE=1.96*5/root of 100\n",
    "MOE = 1.96 * 5/10\n",
    "MOE = 0.98\n",
    "Now, construct the Confidence Interval:\n",
    "Confidence Interval=50±0.98\n",
    "Confidence Interval=(49.02,50.98)\n",
    "\n",
    "So, the 95% confidence interval for the population mean is approximately (49.02, 50.98). This means that we are \n",
    "95% confident that the true population mean lies within this range. In other words, if we were to repeat this \n",
    "process multiple times, we would expect the true population mean to fall within this interval in about 95% of \n",
    "those instances.'''   "
   ]
  },
  {
   "cell_type": "code",
   "execution_count": 9,
   "id": "4d373562-14a7-4bdb-bbb8-54be0be1b69e",
   "metadata": {},
   "outputs": [
    {
     "data": {
      "text/plain": [
       "\"Q8. What is the margin of error in a confidence interval? How does sample size affect the margin of error?\\nProvide an example of a scenario where a larger sample size would result in a smaller margin of error.\\n\\nThe margin of error (MOE) in a confidence interval (CI) represents the amount of error or uncertainty associated\\nwith estimating a population parameter (such as the population mean) based on a sample statistic (such as the \\nsample mean). It indicates the maximum likely difference between the sample statistic and the true population \\nparameter. The smaller the margin of error, the more precise the estimate.\\n\\nThe formula to calculate the margin of error depends on several factors, including the confidence level, the \\nstandard deviation of the population (or the sample), and the sample size. Generally, the margin of error is \\ncalculated as:\\n    Margin of Error (MOE)=Critical Value× Standard Deviation/root of (sample size)\\nHow sample size affects the margin of error:\\n1.Inverse Relationship: The margin of error is inversely proportional to the square root of the sample size. This \\nmeans that as the sample size increases, the margin of error decreases, and vice versa.\\n2.Larger Sample Size, Smaller Margin of Error: With a larger sample size, the sample mean becomes a more accurate \\nestimate of the population mean, and the variability of the sample mean decreases. As a result, the standard error\\nof the mean decreases, leading to a smaller margin of error.\\nExample Scenario:\\nLet's consider a scenario where you want to estimate the average time spent per day on social media by teenagers \\nin a certain city. You collect two different samples:\\nSample 1: 100 teenagers\\nSample 2: 1000 teenagers\\nAssuming all other factors remain the same (such as standard deviation and confidence level), the larger sample \\nsize (Sample 2) would result in a smaller margin of error compared to the smaller sample size (Sample 1).\\n\\nFor instance, if the margin of error for Sample 1 is 0.5 hours, the margin of error for Sample 2 might be smaller,\\nperhaps around 0.2 hours. This indicates that with the larger sample size, we can provide a more precise estimate \\nof the average time spent on social media by teenagers in the city.\""
      ]
     },
     "execution_count": 9,
     "metadata": {},
     "output_type": "execute_result"
    }
   ],
   "source": [
    "'''Q8. What is the margin of error in a confidence interval? How does sample size affect the margin of error?\n",
    "Provide an example of a scenario where a larger sample size would result in a smaller margin of error.\n",
    "\n",
    "The margin of error (MOE) in a confidence interval (CI) represents the amount of error or uncertainty associated\n",
    "with estimating a population parameter (such as the population mean) based on a sample statistic (such as the \n",
    "sample mean). It indicates the maximum likely difference between the sample statistic and the true population \n",
    "parameter. The smaller the margin of error, the more precise the estimate.\n",
    "\n",
    "The formula to calculate the margin of error depends on several factors, including the confidence level, the \n",
    "standard deviation of the population (or the sample), and the sample size. Generally, the margin of error is \n",
    "calculated as:\n",
    "    Margin of Error (MOE)=Critical Value× Standard Deviation/root of (sample size)\n",
    "How sample size affects the margin of error:\n",
    "1.Inverse Relationship: The margin of error is inversely proportional to the square root of the sample size. This \n",
    "means that as the sample size increases, the margin of error decreases, and vice versa.\n",
    "2.Larger Sample Size, Smaller Margin of Error: With a larger sample size, the sample mean becomes a more accurate \n",
    "estimate of the population mean, and the variability of the sample mean decreases. As a result, the standard error\n",
    "of the mean decreases, leading to a smaller margin of error.\n",
    "Example Scenario:\n",
    "Let's consider a scenario where you want to estimate the average time spent per day on social media by teenagers \n",
    "in a certain city. You collect two different samples:\n",
    "Sample 1: 100 teenagers\n",
    "Sample 2: 1000 teenagers\n",
    "Assuming all other factors remain the same (such as standard deviation and confidence level), the larger sample \n",
    "size (Sample 2) would result in a smaller margin of error compared to the smaller sample size (Sample 1).\n",
    "\n",
    "For instance, if the margin of error for Sample 1 is 0.5 hours, the margin of error for Sample 2 might be smaller,\n",
    "perhaps around 0.2 hours. This indicates that with the larger sample size, we can provide a more precise estimate \n",
    "of the average time spent on social media by teenagers in the city.'''"
   ]
  },
  {
   "cell_type": "code",
   "execution_count": 10,
   "id": "3c4a03db-603d-4328-97b8-f3722e2c4430",
   "metadata": {},
   "outputs": [
    {
     "data": {
      "text/plain": [
       "'Q9. Calculate the z-score for a data point with a value of 75, a population mean of 70, and a population\\nstandard deviation of 5. Interpret the results.\\n\\nTo calculate the z-score for a data point, we use the formula:\\n𝑍=𝑋−𝜇/𝜎\\nWhere:\\nX is the value of the data point (given as 75).\\nμ is the population mean (given as 70).\\nσ is the population standard deviation (given as 5).\\n\\nSubstituting the given values into the formula:\\nz=75-70/5\\nz=5/5\\nz=1\\nSo, the z-score for a data point with a value of 75, a population mean of 70, and a population standard deviation \\nof 5 is 1.\\n\\nInterpretation:\\nA z-score of 1 indicates that the data point (with a value of 75) is 1 standard deviation above the mean of the \\npopulation. In other words, the data point is relatively higher than the average value of the population by 1 \\nstandard deviation. This means that the data point is above average compared to the rest of the population, in \\nterms of the given distribution.'"
      ]
     },
     "execution_count": 10,
     "metadata": {},
     "output_type": "execute_result"
    }
   ],
   "source": [
    "'''Q9. Calculate the z-score for a data point with a value of 75, a population mean of 70, and a population\n",
    "standard deviation of 5. Interpret the results.\n",
    "\n",
    "To calculate the z-score for a data point, we use the formula:\n",
    "𝑍=𝑋−𝜇/𝜎\n",
    "Where:\n",
    "X is the value of the data point (given as 75).\n",
    "μ is the population mean (given as 70).\n",
    "σ is the population standard deviation (given as 5).\n",
    "\n",
    "Substituting the given values into the formula:\n",
    "z=75-70/5\n",
    "z=5/5\n",
    "z=1\n",
    "So, the z-score for a data point with a value of 75, a population mean of 70, and a population standard deviation \n",
    "of 5 is 1.\n",
    "\n",
    "Interpretation:\n",
    "A z-score of 1 indicates that the data point (with a value of 75) is 1 standard deviation above the mean of the \n",
    "population. In other words, the data point is relatively higher than the average value of the population by 1 \n",
    "standard deviation. This means that the data point is above average compared to the rest of the population, in \n",
    "terms of the given distribution.'''"
   ]
  },
  {
   "cell_type": "code",
   "execution_count": 11,
   "id": "f543de46-982d-4b7c-aae1-c3b9d5bd5fa3",
   "metadata": {},
   "outputs": [
    {
     "data": {
      "text/plain": [
       "\"Q10. In a study of the effectiveness of a new weight loss drug, a sample of 50 participants lost an average\\nof 6 pounds with a standard deviation of 2.5 pounds. Conduct a hypothesis test to determine if the drug is\\nsignificantly effective at a 95% confidence level using a t-test.\\n\\nTo conduct a hypothesis test to determine if the weight loss drug is significantly effective at a 95% confidence\\nlevel using a t-test, we need to set up the null and alternative hypotheses, calculate the test statistic, and \\ncompare it to the critical value or p-value.\\n\\n**Null Hypothesis (H0):** The weight loss drug has no significant effect, and the population mean weight loss \\n(\\\\( \\\\mu \\\\)) is equal to 0 pounds.\\n\\\\[ H0: \\\\mu = 0 \\\\]\\n\\n**Alternative Hypothesis (H1):** The weight loss drug is significantly effective, and the population mean weight\\nloss (\\\\( \\\\mu \\\\)) is not equal to 0 pounds.\\n\\\\[ H1: \\\\mu \\neq 0 \\\\]\\n\\nGiven:\\n- Sample Size (\\\\( n \\\\)) = 50\\n- Sample Mean (\\\\( \\x08ar{x} \\\\)) = 6 pounds\\n- Sample Standard Deviation (\\\\( s \\\\)) = 2.5 pounds\\n- Degrees of Freedom (\\\\( df \\\\)) = \\\\( n - 1 = 49 \\\\)\\n- Confidence Level = 95%\\n\\n**Calculate the t-statistic:**\\n\\\\[ t = \\x0crac{\\x08ar{x} - \\\\mu}{\\x0crac{s}{\\\\sqrt{n}}} \\\\]\\n\\nSubstituting the given values:\\n\\\\[ t = \\x0crac{6 - 0}{\\x0crac{2.5}{\\\\sqrt{50}}} \\\\]\\n\\\\[ t = \\x0crac{6}{\\x0crac{2.5}{\\\\sqrt{50}}} \\\\]\\n\\\\[ t ≈ \\x0crac{6}{0.3536} \\\\]\\n\\\\[ t ≈ 16.97 \\\\]\\n\\n**Find the critical value:**\\nSince we're conducting a two-tailed test at a 95% confidence level, the critical t-value with \\\\( df = 49 \\\\) is\\napproximately \\\\( \\\\pm 2.01 \\\\) (looked up from a t-table or calculated using statistical software).\\n\\n**Conclusion:**\\nThe calculated t-statistic (16.97) is much larger than the critical t-value (±2.01). Therefore, we reject the null\\nhypothesis. This means that we have sufficient evidence to conclude that the weight loss drug is significantly \\neffective at a 95% confidence level. The average weight loss of 6 pounds observed in the sample is statistically\\nsignificant.\""
      ]
     },
     "execution_count": 11,
     "metadata": {},
     "output_type": "execute_result"
    }
   ],
   "source": [
    "'''Q10. In a study of the effectiveness of a new weight loss drug, a sample of 50 participants lost an average\n",
    "of 6 pounds with a standard deviation of 2.5 pounds. Conduct a hypothesis test to determine if the drug is\n",
    "significantly effective at a 95% confidence level using a t-test.\n",
    "\n",
    "To conduct a hypothesis test to determine if the weight loss drug is significantly effective at a 95% confidence\n",
    "level using a t-test, we need to set up the null and alternative hypotheses, calculate the test statistic, and \n",
    "compare it to the critical value or p-value.\n",
    "\n",
    "**Null Hypothesis (H0):** The weight loss drug has no significant effect, and the population mean weight loss \n",
    "(\\( \\mu \\)) is equal to 0 pounds.\n",
    "\\[ H0: \\mu = 0 \\]\n",
    "\n",
    "**Alternative Hypothesis (H1):** The weight loss drug is significantly effective, and the population mean weight\n",
    "loss (\\( \\mu \\)) is not equal to 0 pounds.\n",
    "\\[ H1: \\mu \\neq 0 \\]\n",
    "\n",
    "Given:\n",
    "- Sample Size (\\( n \\)) = 50\n",
    "- Sample Mean (\\( \\bar{x} \\)) = 6 pounds\n",
    "- Sample Standard Deviation (\\( s \\)) = 2.5 pounds\n",
    "- Degrees of Freedom (\\( df \\)) = \\( n - 1 = 49 \\)\n",
    "- Confidence Level = 95%\n",
    "\n",
    "**Calculate the t-statistic:**\n",
    "\\[ t = \\frac{\\bar{x} - \\mu}{\\frac{s}{\\sqrt{n}}} \\]\n",
    "\n",
    "Substituting the given values:\n",
    "\\[ t = \\frac{6 - 0}{\\frac{2.5}{\\sqrt{50}}} \\]\n",
    "\\[ t = \\frac{6}{\\frac{2.5}{\\sqrt{50}}} \\]\n",
    "\\[ t ≈ \\frac{6}{0.3536} \\]\n",
    "\\[ t ≈ 16.97 \\]\n",
    "\n",
    "**Find the critical value:**\n",
    "Since we're conducting a two-tailed test at a 95% confidence level, the critical t-value with \\( df = 49 \\) is\n",
    "approximately \\( \\pm 2.01 \\) (looked up from a t-table or calculated using statistical software).\n",
    "\n",
    "**Conclusion:**\n",
    "The calculated t-statistic (16.97) is much larger than the critical t-value (±2.01). Therefore, we reject the null\n",
    "hypothesis. This means that we have sufficient evidence to conclude that the weight loss drug is significantly \n",
    "effective at a 95% confidence level. The average weight loss of 6 pounds observed in the sample is statistically\n",
    "significant.'''"
   ]
  },
  {
   "cell_type": "code",
   "execution_count": 12,
   "id": "da03c6c8-b96f-41e1-b963-cff499812d01",
   "metadata": {},
   "outputs": [
    {
     "data": {
      "text/plain": [
       "'Q11. In a survey of 500 people, 65% reported being satisfied with their current job. Calculate the 95%\\nconfidence interval for the true proportion of people who are satisfied with their job.\\n\\nTo calculate the 95% confidence interval for the true proportion of people who are satisfied with their job, \\nwe can use the formula for the confidence interval for a population proportion. \\n\\nThe formula for the confidence interval for a population proportion (p) is:\\n\\n\\\\[ \\text{Confidence Interval} = \\\\hat{p} \\\\pm Z \\times \\\\sqrt{\\x0crac{\\\\hat{p}(1-\\\\hat{p})}{n}} \\\\]\\n\\nWhere:\\n- \\\\( \\\\hat{p} \\\\) is the sample proportion (expressed as a decimal).\\n- \\\\( Z \\\\) is the critical value from the standard normal distribution corresponding to the desired confidence\\nlevel.\\n- \\\\( n \\\\) is the sample size.\\n\\nGiven:\\n- Sample proportion (\\\\( \\\\hat{p} \\\\)) = 0.65 (as 65% reported being satisfied with their job).\\n- Sample size (\\\\( n \\\\)) = 500.\\n- Confidence level = 95%.\\n\\nWe need to find the critical value (\\\\( Z \\\\)) corresponding to a 95% confidence level. For a 95% confidence level, \\n\\\\( Z \\\\) is approximately 1.96 (looked up from the standard normal distribution table or calculated using \\nstatistical software).\\n\\nNow, substitute the given values into the formula:\\n\\n\\\\[ \\text{Confidence Interval} = 0.65 \\\\pm 1.96 \\times \\\\sqrt{\\x0crac{0.65 \\times (1-0.65)}{500}} \\\\]\\n\\n\\\\[ \\text{Confidence Interval} = 0.65 \\\\pm 1.96 \\times \\\\sqrt{\\x0crac{0.65 \\times 0.35}{500}} \\\\]\\n\\n\\\\[ \\text{Confidence Interval} = 0.65 \\\\pm 1.96 \\times \\\\sqrt{\\x0crac{0.2275}{500}} \\\\]\\n\\n\\\\[ \\text{Confidence Interval} = 0.65 \\\\pm 1.96 \\times \\\\sqrt{0.000455} \\\\]\\n\\n\\\\[ \\text{Confidence Interval} = 0.65 \\\\pm 1.96 \\times 0.02133 \\\\]\\n\\n\\\\[ \\text{Confidence Interval} = 0.65 \\\\pm 0.0418 \\\\]\\n\\nSo, the 95% confidence interval for the true proportion of people who are satisfied with their job is approximately\\n(0.6082, 0.6918). This means that we are 95% confident that the true proportion of people who are satisfied with\\ntheir job lies within this range.'"
      ]
     },
     "execution_count": 12,
     "metadata": {},
     "output_type": "execute_result"
    }
   ],
   "source": [
    "'''Q11. In a survey of 500 people, 65% reported being satisfied with their current job. Calculate the 95%\n",
    "confidence interval for the true proportion of people who are satisfied with their job.\n",
    "\n",
    "To calculate the 95% confidence interval for the true proportion of people who are satisfied with their job, \n",
    "we can use the formula for the confidence interval for a population proportion. \n",
    "\n",
    "The formula for the confidence interval for a population proportion (p) is:\n",
    "\n",
    "\\[ \\text{Confidence Interval} = \\hat{p} \\pm Z \\times \\sqrt{\\frac{\\hat{p}(1-\\hat{p})}{n}} \\]\n",
    "\n",
    "Where:\n",
    "- \\( \\hat{p} \\) is the sample proportion (expressed as a decimal).\n",
    "- \\( Z \\) is the critical value from the standard normal distribution corresponding to the desired confidence\n",
    "level.\n",
    "- \\( n \\) is the sample size.\n",
    "\n",
    "Given:\n",
    "- Sample proportion (\\( \\hat{p} \\)) = 0.65 (as 65% reported being satisfied with their job).\n",
    "- Sample size (\\( n \\)) = 500.\n",
    "- Confidence level = 95%.\n",
    "\n",
    "We need to find the critical value (\\( Z \\)) corresponding to a 95% confidence level. For a 95% confidence level, \n",
    "\\( Z \\) is approximately 1.96 (looked up from the standard normal distribution table or calculated using \n",
    "statistical software).\n",
    "\n",
    "Now, substitute the given values into the formula:\n",
    "\n",
    "\\[ \\text{Confidence Interval} = 0.65 \\pm 1.96 \\times \\sqrt{\\frac{0.65 \\times (1-0.65)}{500}} \\]\n",
    "\n",
    "\\[ \\text{Confidence Interval} = 0.65 \\pm 1.96 \\times \\sqrt{\\frac{0.65 \\times 0.35}{500}} \\]\n",
    "\n",
    "\\[ \\text{Confidence Interval} = 0.65 \\pm 1.96 \\times \\sqrt{\\frac{0.2275}{500}} \\]\n",
    "\n",
    "\\[ \\text{Confidence Interval} = 0.65 \\pm 1.96 \\times \\sqrt{0.000455} \\]\n",
    "\n",
    "\\[ \\text{Confidence Interval} = 0.65 \\pm 1.96 \\times 0.02133 \\]\n",
    "\n",
    "\\[ \\text{Confidence Interval} = 0.65 \\pm 0.0418 \\]\n",
    "\n",
    "So, the 95% confidence interval for the true proportion of people who are satisfied with their job is approximately\n",
    "(0.6082, 0.6918). This means that we are 95% confident that the true proportion of people who are satisfied with\n",
    "their job lies within this range.'''"
   ]
  },
  {
   "cell_type": "code",
   "execution_count": 13,
   "id": "979aac4e-4f7f-4b16-95f6-f1416e684d54",
   "metadata": {},
   "outputs": [
    {
     "data": {
      "text/plain": [
       "\"Q13. A population has a mean of 60 and a standard deviation of 8. A sample of 50 observations has a mean\\nof 65. Calculate the 90% confidence interval for the true population mean.\\n\\nTo calculate the 90% confidence interval for the true population mean, we'll use the formula for the confidence\\ninterval for the population mean.\\n\\nThe formula for the confidence interval for the population mean (\\\\( \\\\mu \\\\)) is:\\n\\n\\\\[ \\text{Confidence Interval} = \\x08ar{x} \\\\pm Z \\times \\x0crac{\\\\sigma}{\\\\sqrt{n}} \\\\]\\n\\nWhere:\\n- \\\\( \\x08ar{x} \\\\) is the sample mean.\\n- \\\\( Z \\\\) is the critical value from the standard normal distribution corresponding to the desired confidence\\nlevel.\\n- \\\\( \\\\sigma \\\\) is the population standard deviation.\\n- \\\\( n \\\\) is the sample size.\\n\\nGiven:\\n- Sample mean (\\\\( \\x08ar{x} \\\\)) = 65.\\n- Population mean (\\\\( \\\\mu \\\\)) = 60.\\n- Population standard deviation (\\\\( \\\\sigma \\\\)) = 8.\\n- Sample size (\\\\( n \\\\)) = 50.\\n- Confidence level = 90%.\\n\\nFirst, we need to find the critical value (\\\\( Z \\\\)) corresponding to a 90% confidence level. For a 90% confidence\\nlevel, \\\\( Z \\\\) is approximately 1.645 (looked up from the standard normal distribution table or calculated using \\nstatistical software).\\n\\nNow, substitute the given values into the formula:\\n\\n\\\\[ \\text{Confidence Interval} = 65 \\\\pm 1.645 \\times \\x0crac{8}{\\\\sqrt{50}} \\\\]\\n\\n\\\\[ \\text{Confidence Interval} = 65 \\\\pm 1.645 \\times \\x0crac{8}{\\\\sqrt{50}} \\\\]\\n\\n\\\\[ \\text{Confidence Interval} = 65 \\\\pm 1.645 \\times \\x0crac{8}{7.071} \\\\]\\n\\n\\\\[ \\text{Confidence Interval} = 65 \\\\pm 1.645 \\times 1.133 \\\\]\\n\\n\\\\[ \\text{Confidence Interval} = 65 \\\\pm 1.861785 \\\\]\\n\\nSo, the 90% confidence interval for the true population mean is approximately (63.14, 66.86). This means that we \\nare 90% confident that the true population mean lies within this range.\""
      ]
     },
     "execution_count": 13,
     "metadata": {},
     "output_type": "execute_result"
    }
   ],
   "source": [
    "'''Q13. A population has a mean of 60 and a standard deviation of 8. A sample of 50 observations has a mean\n",
    "of 65. Calculate the 90% confidence interval for the true population mean.\n",
    "\n",
    "To calculate the 90% confidence interval for the true population mean, we'll use the formula for the confidence\n",
    "interval for the population mean.\n",
    "\n",
    "The formula for the confidence interval for the population mean (\\( \\mu \\)) is:\n",
    "\n",
    "\\[ \\text{Confidence Interval} = \\bar{x} \\pm Z \\times \\frac{\\sigma}{\\sqrt{n}} \\]\n",
    "\n",
    "Where:\n",
    "- \\( \\bar{x} \\) is the sample mean.\n",
    "- \\( Z \\) is the critical value from the standard normal distribution corresponding to the desired confidence\n",
    "level.\n",
    "- \\( \\sigma \\) is the population standard deviation.\n",
    "- \\( n \\) is the sample size.\n",
    "\n",
    "Given:\n",
    "- Sample mean (\\( \\bar{x} \\)) = 65.\n",
    "- Population mean (\\( \\mu \\)) = 60.\n",
    "- Population standard deviation (\\( \\sigma \\)) = 8.\n",
    "- Sample size (\\( n \\)) = 50.\n",
    "- Confidence level = 90%.\n",
    "\n",
    "First, we need to find the critical value (\\( Z \\)) corresponding to a 90% confidence level. For a 90% confidence\n",
    "level, \\( Z \\) is approximately 1.645 (looked up from the standard normal distribution table or calculated using \n",
    "statistical software).\n",
    "\n",
    "Now, substitute the given values into the formula:\n",
    "\n",
    "\\[ \\text{Confidence Interval} = 65 \\pm 1.645 \\times \\frac{8}{\\sqrt{50}} \\]\n",
    "\n",
    "\\[ \\text{Confidence Interval} = 65 \\pm 1.645 \\times \\frac{8}{\\sqrt{50}} \\]\n",
    "\n",
    "\\[ \\text{Confidence Interval} = 65 \\pm 1.645 \\times \\frac{8}{7.071} \\]\n",
    "\n",
    "\\[ \\text{Confidence Interval} = 65 \\pm 1.645 \\times 1.133 \\]\n",
    "\n",
    "\\[ \\text{Confidence Interval} = 65 \\pm 1.861785 \\]\n",
    "\n",
    "So, the 90% confidence interval for the true population mean is approximately (63.14, 66.86). This means that we \n",
    "are 90% confident that the true population mean lies within this range.'''"
   ]
  },
  {
   "cell_type": "code",
   "execution_count": 15,
   "id": "d4d61cfe-948a-4fe8-82cf-d13232581bdc",
   "metadata": {},
   "outputs": [
    {
     "data": {
      "text/plain": [
       "'Q14. In a study of the effects of caffeine on reaction time, a sample of 30 participants had an average\\nreaction time of 0.25 seconds with a standard deviation of 0.05 seconds. Conduct a hypothesis test to\\ndetermine if the caffeine has a significant effect on reaction time at a 90% confidence level using a t-test.'"
      ]
     },
     "execution_count": 15,
     "metadata": {},
     "output_type": "execute_result"
    }
   ],
   "source": [
    "'''Q14. In a study of the effects of caffeine on reaction time, a sample of 30 participants had an average\n",
    "reaction time of 0.25 seconds with a standard deviation of 0.05 seconds. Conduct a hypothesis test to\n",
    "determine if the caffeine has a significant effect on reaction time at a 90% confidence level using a t-test.'''\n",
    "\n"
   ]
  },
  {
   "cell_type": "code",
   "execution_count": null,
   "id": "a654f1dd-0b33-4591-8b2b-cb66cc1ba8ef",
   "metadata": {},
   "outputs": [],
   "source": []
  }
 ],
 "metadata": {
  "kernelspec": {
   "display_name": "Python 3 (ipykernel)",
   "language": "python",
   "name": "python3"
  },
  "language_info": {
   "codemirror_mode": {
    "name": "ipython",
    "version": 3
   },
   "file_extension": ".py",
   "mimetype": "text/x-python",
   "name": "python",
   "nbconvert_exporter": "python",
   "pygments_lexer": "ipython3",
   "version": "3.10.8"
  }
 },
 "nbformat": 4,
 "nbformat_minor": 5
}
