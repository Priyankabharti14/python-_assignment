{
 "cells": [
  {
   "cell_type": "code",
   "execution_count": 1,
   "id": "f2796c8f-2c7b-4e98-9f46-3b5bbb260269",
   "metadata": {},
   "outputs": [
    {
     "data": {
      "text/plain": [
       "\"Q1: What is Estimation Statistics? Explain point estimate and interval estimate.\\n\\nEstimation statistics is a branch of statistics that deals with estimating population parameters based on sample\\ndata. When we collect data from a sample, we often want to make inferences about the population from which the \\nsample was drawn. Estimation statistics provides methods for estimating population parameters, such as the \\npopulation mean, population proportion, or population variance, based on sample statistics.\\n\\nPoint Estimate:\\nA point estimate is a single value that serves as the best guess or estimate of a population parameter. It's \\ncalculated directly from the sample data and provides a single value that represents the parameter of interest.\\nFor example, if we want to estimate the population mean, the sample mean would serve as the point estimate of\\nthe population mean.\\n\\nInterval Estimate:\\nAn interval estimate, also known as a confidence interval, provides a range of values within which the true \\npopulation parameter is likely to fall. Unlike a point estimate, which provides only one value, an interval \\nestimate gives a range of values along with a level of confidence associated with that range. For example, \\nwe might construct a 95% confidence interval for the population mean, which would give us a range of values \\nwithin\""
      ]
     },
     "execution_count": 1,
     "metadata": {},
     "output_type": "execute_result"
    }
   ],
   "source": [
    "'''Q1: What is Estimation Statistics? Explain point estimate and interval estimate.\n",
    "\n",
    "Estimation statistics is a branch of statistics that deals with estimating population parameters based on sample\n",
    "data. When we collect data from a sample, we often want to make inferences about the population from which the \n",
    "sample was drawn. Estimation statistics provides methods for estimating population parameters, such as the \n",
    "population mean, population proportion, or population variance, based on sample statistics.\n",
    "\n",
    "Point Estimate:\n",
    "A point estimate is a single value that serves as the best guess or estimate of a population parameter. It's \n",
    "calculated directly from the sample data and provides a single value that represents the parameter of interest.\n",
    "For example, if we want to estimate the population mean, the sample mean would serve as the point estimate of\n",
    "the population mean.\n",
    "\n",
    "Interval Estimate:\n",
    "An interval estimate, also known as a confidence interval, provides a range of values within which the true \n",
    "population parameter is likely to fall. Unlike a point estimate, which provides only one value, an interval \n",
    "estimate gives a range of values along with a level of confidence associated with that range. For example, \n",
    "we might construct a 95% confidence interval for the population mean, which would give us a range of values \n",
    "within'''"
   ]
  },
  {
   "cell_type": "code",
   "execution_count": 2,
   "id": "f4d383f9-732f-44e7-a164-4692a44eb552",
   "metadata": {},
   "outputs": [
    {
     "name": "stdout",
     "output_type": "stream",
     "text": [
      "Estimated Population Mean: 50\n"
     ]
    }
   ],
   "source": [
    "'''Q2. Write a Python function to estimate the population mean using a sample mean and standard\n",
    "deviation.'''\n",
    "\n",
    "def estimate_population_mean(sample_mean, sample_std_dev, sample_size):\n",
    "    \"\"\"\n",
    "    Function to estimate the population mean using a sample mean, standard deviation, and sample size.\n",
    "    \n",
    "    Parameters:\n",
    "        sample_mean (float): The mean of the sample.\n",
    "        sample_std_dev (float): The standard deviation of the sample.\n",
    "        sample_size (int): The size of the sample.\n",
    "    \n",
    "    Returns:\n",
    "        population_mean (float): The estimated population mean.\n",
    "    \"\"\"\n",
    "    import math\n",
    "    \n",
    "    # Calculate the standard error of the mean\n",
    "    standard_error = sample_std_dev / math.sqrt(sample_size)\n",
    "    \n",
    "    # Estimate the population mean using the sample mean and standard error\n",
    "    population_mean = sample_mean\n",
    "    \n",
    "    return population_mean\n",
    "\n",
    "# Example usage\n",
    "sample_mean = 50\n",
    "sample_std_dev = 10\n",
    "sample_size = 100\n",
    "\n",
    "estimated_population_mean = estimate_population_mean(sample_mean, sample_std_dev, sample_size)\n",
    "print(\"Estimated Population Mean:\", estimated_population_mean)\n"
   ]
  },
  {
   "cell_type": "code",
   "execution_count": 3,
   "id": "7bf896c0-81e5-4bfe-b4c6-e89d67637ac5",
   "metadata": {},
   "outputs": [
    {
     "data": {
      "text/plain": [
       "\"Q3: What is Hypothesis testing? Why is it used? State the importance of Hypothesis testing.\\n\\nHypothesis testing is a statistical method used to make inferences about population parameters based on sample \\ndata. It involves making a decision, or drawing a conclusion, about whether a specific hypothesis about the \\npopulation parameter is supported by the evidence provided by the sample data.\\n\\nHere's a basic overview of how hypothesis testing works:\\n1.Formulate Hypotheses: The first step is to state the null hypothesis (H0) and the alternative hypothesis (Ha).\\nThe null hypothesis typically represents the status quo or the assumption that there is no effect or no\\ndifference, while the alternative hypothesis represents the opposite.\\n2.Select a Significance Level (α): The significance level, denoted by α, is the threshold for deciding whether \\nto reject the null hypothesis. Commonly used values for α are 0.05 or 0.01, indicating a 5% or 1% probability \\nof rejecting the null hypothesis when it is true.\\n3.Collect and Analyze Data: Collect sample data and perform appropriate statistical analysis to calculate a test\\nstatistic, which measures the degree of agreement between the sample data and the null hypothesis.\\n4.Make a Decision: Compare the test statistic to a critical value or calculate a p-value. If the test statistic \\nfalls in the critical region (i.e., extreme enough to reject the null hypothesis) or if the p-value is less\\nthan α, the null hypothesis is rejected in favor of the alternative hypothesis. Otherwise, if the test \\nstatistic does not fall in the critical region or if the p-value is greater than α, we fail to reject the \\nnull hypothesis.\\n\\nHypothesis testing is used for several reasons:\\n    1.Decision Making: It helps in making decisions based on evidence and data rather than intuition or \\n     guesswork.\\n    2.Drawing Inferences: It allows us to draw conclusions about population parameters based on sample data.\\n    3.Evaluating Hypotheses: It provides a systematic way to evaluate competing hypotheses or theories.\\n    4.Assessing Significance: It helps in determining whether observed differences or effects are statistically\\n      significant or simply due to random chance.\""
      ]
     },
     "execution_count": 3,
     "metadata": {},
     "output_type": "execute_result"
    }
   ],
   "source": [
    "'''Q3: What is Hypothesis testing? Why is it used? State the importance of Hypothesis testing.\n",
    "\n",
    "Hypothesis testing is a statistical method used to make inferences about population parameters based on sample \n",
    "data. It involves making a decision, or drawing a conclusion, about whether a specific hypothesis about the \n",
    "population parameter is supported by the evidence provided by the sample data.\n",
    "\n",
    "Here's a basic overview of how hypothesis testing works:\n",
    "1.Formulate Hypotheses: The first step is to state the null hypothesis (H0) and the alternative hypothesis (Ha).\n",
    "The null hypothesis typically represents the status quo or the assumption that there is no effect or no\n",
    "difference, while the alternative hypothesis represents the opposite.\n",
    "2.Select a Significance Level (α): The significance level, denoted by α, is the threshold for deciding whether \n",
    "to reject the null hypothesis. Commonly used values for α are 0.05 or 0.01, indicating a 5% or 1% probability \n",
    "of rejecting the null hypothesis when it is true.\n",
    "3.Collect and Analyze Data: Collect sample data and perform appropriate statistical analysis to calculate a test\n",
    "statistic, which measures the degree of agreement between the sample data and the null hypothesis.\n",
    "4.Make a Decision: Compare the test statistic to a critical value or calculate a p-value. If the test statistic \n",
    "falls in the critical region (i.e., extreme enough to reject the null hypothesis) or if the p-value is less\n",
    "than α, the null hypothesis is rejected in favor of the alternative hypothesis. Otherwise, if the test \n",
    "statistic does not fall in the critical region or if the p-value is greater than α, we fail to reject the \n",
    "null hypothesis.\n",
    "\n",
    "Hypothesis testing is used for several reasons:\n",
    "    1.Decision Making: It helps in making decisions based on evidence and data rather than intuition or \n",
    "     guesswork.\n",
    "    2.Drawing Inferences: It allows us to draw conclusions about population parameters based on sample data.\n",
    "    3.Evaluating Hypotheses: It provides a systematic way to evaluate competing hypotheses or theories.\n",
    "    4.Assessing Significance: It helps in determining whether observed differences or effects are statistically\n",
    "      significant or simply due to random chance.'''"
   ]
  },
  {
   "cell_type": "code",
   "execution_count": 4,
   "id": "699c53c7-c1c9-4053-9e00-4d8bed83bdef",
   "metadata": {},
   "outputs": [
    {
     "data": {
      "text/plain": [
       "\"Q4. Create a hypothesis that states whether the average weight of male college students is greater than\\nthe average weight of female college students.\\n\\nHere's a hypothesis statement regarding the average weight of male college students compared to \\nfemale college students:\\n\\nNull Hypothesis (H0): The average weight of male college students is equal to or less than the average \\n weight of female college students.\\n\\nAlternative Hypothesis (Ha): The average weight of male college students is greater than the average weight of\\nfemale college students.\\n\\nSymbolically:\\n\\nH0: μ_male ≤ μ_female\\n\\nHa: μ_male > μ_female\\n\\nIn words, the null hypothesis suggests that there is no significant difference or that male college students \\nmay weigh less or equal to female college students on average. The alternative hypothesis proposes that male \\ncollege students have a greater average weight compared to female college students. This hypothesis could be \\ntested through data collection and hypothesis testing methods.\""
      ]
     },
     "execution_count": 4,
     "metadata": {},
     "output_type": "execute_result"
    }
   ],
   "source": [
    "'''Q4. Create a hypothesis that states whether the average weight of male college students is greater than\n",
    "the average weight of female college students.\n",
    "\n",
    "Here's a hypothesis statement regarding the average weight of male college students compared to \n",
    "female college students:\n",
    "\n",
    "Null Hypothesis (H0): The average weight of male college students is equal to or less than the average \n",
    " weight of female college students.\n",
    "\n",
    "Alternative Hypothesis (Ha): The average weight of male college students is greater than the average weight of\n",
    "female college students.\n",
    "\n",
    "Symbolically:\n",
    "\n",
    "H0: μ_male ≤ μ_female\n",
    "\n",
    "Ha: μ_male > μ_female\n",
    "\n",
    "In words, the null hypothesis suggests that there is no significant difference or that male college students \n",
    "may weigh less or equal to female college students on average. The alternative hypothesis proposes that male \n",
    "college students have a greater average weight compared to female college students. This hypothesis could be \n",
    "tested through data collection and hypothesis testing methods.'''"
   ]
  },
  {
   "cell_type": "code",
   "execution_count": 6,
   "id": "7bafbd50-8106-458f-a89a-a1b78c111f83",
   "metadata": {},
   "outputs": [
    {
     "name": "stdout",
     "output_type": "stream",
     "text": [
      "Reject the null hypothesis. There is sufficient evidence to suggest a significant difference between the population means.\n"
     ]
    }
   ],
   "source": [
    "'''Q5. Write a Python script to conduct a hypothesis test on the difference between two population means,\n",
    "given a sample from each population.'''\n",
    "\n",
    "from scipy import stats\n",
    "\n",
    "def hypothesis_test_two_means(sample1, sample2, alpha=0.05):\n",
    "    \"\"\"\n",
    "    Function to conduct a hypothesis test on the difference between two population means.\n",
    "    \n",
    "    Parameters:\n",
    "        sample1 (array-like): Sample data from the first population.\n",
    "        sample2 (array-like): Sample data from the second population.\n",
    "        alpha (float): Significance level (default is 0.05).\n",
    "    \n",
    "    Returns:\n",
    "        result (string): Conclusion of the hypothesis test.\n",
    "    \"\"\"\n",
    "    # Perform two-sample t-test assuming equal variances\n",
    "    t_statistic, p_value = stats.ttest_ind(sample1, sample2, equal_var=True)\n",
    "    \n",
    "    # Compare p-value with significance level\n",
    "    if p_value < alpha:\n",
    "        result = \"Reject the null hypothesis. There is sufficient evidence to suggest a significant difference between the population means.\"\n",
    "    else:\n",
    "        result = \"Fail to reject the null hypothesis. There is not enough evidence to suggest a significant difference between the population means.\"\n",
    "    \n",
    "    return result\n",
    "\n",
    "# Example usage\n",
    "sample1 = [65, 68, 70, 72, 66, 67, 69, 71, 73, 74]  # Sample data from first population\n",
    "sample2 = [60, 62, 63, 65, 64, 61, 59, 66, 63, 67]  # Sample data from second population\n",
    "\n",
    "result = hypothesis_test_two_means(sample1, sample2)\n",
    "print(result)\n",
    "\n"
   ]
  },
  {
   "cell_type": "code",
   "execution_count": 7,
   "id": "9f2d553a-af3d-4441-99f5-ff3252416c89",
   "metadata": {},
   "outputs": [
    {
     "data": {
      "text/plain": [
       "'Q6: What is a null and alternative hypothesis? Give some examples.\\n\\nThe null hypothesis (H0) and the alternative hypothesis (Ha) are fundamental concepts in hypothesis testing. \\nThey represent competing statements about a population parameter or the relationship between variables.\\n\\n1.Null Hypothesis (H0):\\n.The null hypothesis is a statement of no effect, no difference, or no relationship. It represents the status \\nquo or the assumption that there is no change or no effect of an intervention.\\n.In hypothesis testing, the null hypothesis is typically the hypothesis that researchers aim to test or \\nchallenge.\\n.It is denoted as H0.\\n\\nExamples:\\n.H0: There is no difference in the mean exam scores between students who receive tutoring and those who do not.\\n.H0: The mean reaction time of participants is equal across different experimental conditions.\\n.H0: There is no association between smoking status and the risk of developing lung cancer.\\n\\n2.Alternative Hypothesis (Ha):\\n.The alternative hypothesis is the opposite of the null hypothesis. It represents what the researcher hopes to\\n demonstrate or find evidence for.\\n.It states that there is an effect, a difference, or a relationship in the population.\\n.It is denoted as Ha.\\n\\nExamples:\\n.Ha: Students who receive tutoring have higher mean exam scores than those who do not.\\n.Ha: The mean reaction time of participants differs across different experimental conditions.\\n.Ha: There is a positive association between smoking status and the risk of developing lung cancer.'"
      ]
     },
     "execution_count": 7,
     "metadata": {},
     "output_type": "execute_result"
    }
   ],
   "source": [
    "'''Q6: What is a null and alternative hypothesis? Give some examples.\n",
    "\n",
    "The null hypothesis (H0) and the alternative hypothesis (Ha) are fundamental concepts in hypothesis testing. \n",
    "They represent competing statements about a population parameter or the relationship between variables.\n",
    "\n",
    "1.Null Hypothesis (H0):\n",
    ".The null hypothesis is a statement of no effect, no difference, or no relationship. It represents the status \n",
    "quo or the assumption that there is no change or no effect of an intervention.\n",
    ".In hypothesis testing, the null hypothesis is typically the hypothesis that researchers aim to test or \n",
    "challenge.\n",
    ".It is denoted as H0.\n",
    "\n",
    "Examples:\n",
    ".H0: There is no difference in the mean exam scores between students who receive tutoring and those who do not.\n",
    ".H0: The mean reaction time of participants is equal across different experimental conditions.\n",
    ".H0: There is no association between smoking status and the risk of developing lung cancer.\n",
    "\n",
    "2.Alternative Hypothesis (Ha):\n",
    ".The alternative hypothesis is the opposite of the null hypothesis. It represents what the researcher hopes to\n",
    " demonstrate or find evidence for.\n",
    ".It states that there is an effect, a difference, or a relationship in the population.\n",
    ".It is denoted as Ha.\n",
    "\n",
    "Examples:\n",
    ".Ha: Students who receive tutoring have higher mean exam scores than those who do not.\n",
    ".Ha: The mean reaction time of participants differs across different experimental conditions.\n",
    ".Ha: There is a positive association between smoking status and the risk of developing lung cancer.'''\n",
    "\n"
   ]
  },
  {
   "cell_type": "code",
   "execution_count": 8,
   "id": "81853605-3e13-4316-9278-4558f3b98bb8",
   "metadata": {},
   "outputs": [
    {
     "data": {
      "text/plain": [
       "'Q7: Write down the steps involved in hypothesis testing.\\n\\nCertainly! Here are the general steps involved in hypothesis testing:\\n    1.State the Hypotheses:\\n        -Formulate the null hypothesis (H0), which represents the status quo or no effect, difference, or \\n        relationship.\\n        -Formulate the alternative hypothesis (Ha), which represents what you are trying to find evidence for \\n        or demonstrate.\\n    2.Select the Significance Level (α):\\n        -Choose a significance level, denoted by α, which represents the probability of rejecting the null\\n         hypothesis when it is actually true.\\n        -Commonly used significance levels are 0.05 (5%) and 0.01 (1%). \\n    3.Choose the Appropriate Test:\\n        -Select a statistical test that is suitable for the research question, data type, and assumptions.\\n        -Common statistical tests include t-tests, chi-square tests, ANOVA, correlation analysis, etc. \\n    4.Collect Data:Collect sample data relevant to the research question and hypotheses\\n    5.Calculate the Test Statistic:\\n        -Compute the appropriate test statistic based on the selected statistical test and the sample data.\\n        -The test statistic measures the degree of agreement between the sample data and the null hypothesis.\\n    6.Determine the Critical Region or Calculate the p-value:\\n        -Determine the critical region, which is the range of values of the test statistic that would lead to\\n        rejection of the null hypothesis.\\n        -Alternatively, calculate the p-value, which represents the probability of observing the sample data or \\n        more extreme results under the assumption that the null hypothesis is true.\\n    7.Make a Decision:\\n        -If the test statistic falls in the critical region or if the p-value is less than α, reject the null \\n        hypothesis in favor of the alternative hypothesis.\\n        -If the test statistic does not fall in the critical region or if the p-value is greater than α, fail \\n        to reject the null hypothesis. \\n    8.Draw Conclusions:\\n        -Based on the decision made in the previous step, draw conclusions about the population parameter or \\n         the relationship between variables.\\n        -Interpret the results in the context of the research question and the significance level chosen.\\n    9.Report Results:Report the findings of the hypothesis test, including the test statistic, p-value, \\n    decision made, and any relevant effect sizes or confidence intervals.'"
      ]
     },
     "execution_count": 8,
     "metadata": {},
     "output_type": "execute_result"
    }
   ],
   "source": [
    "'''Q7: Write down the steps involved in hypothesis testing.\n",
    "\n",
    "Certainly! Here are the general steps involved in hypothesis testing:\n",
    "    1.State the Hypotheses:\n",
    "        -Formulate the null hypothesis (H0), which represents the status quo or no effect, difference, or \n",
    "        relationship.\n",
    "        -Formulate the alternative hypothesis (Ha), which represents what you are trying to find evidence for \n",
    "        or demonstrate.\n",
    "    2.Select the Significance Level (α):\n",
    "        -Choose a significance level, denoted by α, which represents the probability of rejecting the null\n",
    "         hypothesis when it is actually true.\n",
    "        -Commonly used significance levels are 0.05 (5%) and 0.01 (1%). \n",
    "    3.Choose the Appropriate Test:\n",
    "        -Select a statistical test that is suitable for the research question, data type, and assumptions.\n",
    "        -Common statistical tests include t-tests, chi-square tests, ANOVA, correlation analysis, etc. \n",
    "    4.Collect Data:Collect sample data relevant to the research question and hypotheses\n",
    "    5.Calculate the Test Statistic:\n",
    "        -Compute the appropriate test statistic based on the selected statistical test and the sample data.\n",
    "        -The test statistic measures the degree of agreement between the sample data and the null hypothesis.\n",
    "    6.Determine the Critical Region or Calculate the p-value:\n",
    "        -Determine the critical region, which is the range of values of the test statistic that would lead to\n",
    "        rejection of the null hypothesis.\n",
    "        -Alternatively, calculate the p-value, which represents the probability of observing the sample data or \n",
    "        more extreme results under the assumption that the null hypothesis is true.\n",
    "    7.Make a Decision:\n",
    "        -If the test statistic falls in the critical region or if the p-value is less than α, reject the null \n",
    "        hypothesis in favor of the alternative hypothesis.\n",
    "        -If the test statistic does not fall in the critical region or if the p-value is greater than α, fail \n",
    "        to reject the null hypothesis. \n",
    "    8.Draw Conclusions:\n",
    "        -Based on the decision made in the previous step, draw conclusions about the population parameter or \n",
    "         the relationship between variables.\n",
    "        -Interpret the results in the context of the research question and the significance level chosen.\n",
    "    9.Report Results:Report the findings of the hypothesis test, including the test statistic, p-value, \n",
    "    decision made, and any relevant effect sizes or confidence intervals.'''    \n"
   ]
  },
  {
   "cell_type": "code",
   "execution_count": 9,
   "id": "cb768dc5-b4e2-449c-8ef3-24d1931c5949",
   "metadata": {},
   "outputs": [
    {
     "data": {
      "text/plain": [
       "\"Q8. Define p-value and explain its significance in hypothesis testing.\\n\\nThe p-value, or probability value, is a crucial concept in hypothesis testing. It represents the probability of\\nobserving the sample data or more extreme results under the assumption that the null hypothesis is true. In \\nsimpler terms, the p-value quantifies the strength of the evidence against the null hypothesis.\\n\\nHere's a more detailed explanation of the significance of the p-value in hypothesis testing:\\n1.Interpretation:\\n    -A small p-value (typically less than the chosen significance level α, e.g., 0.05) indicates strong evidence\\n    against the null hypothesis. It suggests that the observed results are unlikely to occur if the null \\n    hypothesis is true.\\n    -A large p-value (greater than α) indicates weak evidence against the null hypothesis. It suggests that the\\n    observed results are likely to occur by random chance, even if the null hypothesis is true.\\n2.Decision Making:\\n    -In hypothesis testing, the p-value is compared to the chosen significance level (α) to make a decision \\n    about whether to reject the null hypothesis.\\n    -If the p-value is less than α, the null hypothesis is rejected in favor of the alternative hypothesis, \\n    indicating that the observed results are statistically significant.\\n    -If the p-value is greater than α, the null hypothesis is not rejected, suggesting that the observed \\n    results are not statistically significant.\\n3.Effect Size:\\n    -In addition to the p-value, it's essential to consider the effect size, which measures the magnitude of the\\n    difference or the strength of the relationship observed in the data.\\n    -Even if the p-value is statistically significant, a small effect size may not have practical significance. \\n    Conversely, a large effect size with a non-significant p-value may still be important in practice. \\n4.Contextual Interpretation:\\n    -The interpretation of the p-value should always consider the context of the research question, the \\n    significance level chosen, and the implications of the findings.\\n    -It's important to avoid interpreting p-values in isolation and to consider other factors such as study \\n    design, sample size, and effect size. \""
      ]
     },
     "execution_count": 9,
     "metadata": {},
     "output_type": "execute_result"
    }
   ],
   "source": [
    "'''Q8. Define p-value and explain its significance in hypothesis testing.\n",
    "\n",
    "The p-value, or probability value, is a crucial concept in hypothesis testing. It represents the probability of\n",
    "observing the sample data or more extreme results under the assumption that the null hypothesis is true. In \n",
    "simpler terms, the p-value quantifies the strength of the evidence against the null hypothesis.\n",
    "\n",
    "Here's a more detailed explanation of the significance of the p-value in hypothesis testing:\n",
    "1.Interpretation:\n",
    "    -A small p-value (typically less than the chosen significance level α, e.g., 0.05) indicates strong evidence\n",
    "    against the null hypothesis. It suggests that the observed results are unlikely to occur if the null \n",
    "    hypothesis is true.\n",
    "    -A large p-value (greater than α) indicates weak evidence against the null hypothesis. It suggests that the\n",
    "    observed results are likely to occur by random chance, even if the null hypothesis is true.\n",
    "2.Decision Making:\n",
    "    -In hypothesis testing, the p-value is compared to the chosen significance level (α) to make a decision \n",
    "    about whether to reject the null hypothesis.\n",
    "    -If the p-value is less than α, the null hypothesis is rejected in favor of the alternative hypothesis, \n",
    "    indicating that the observed results are statistically significant.\n",
    "    -If the p-value is greater than α, the null hypothesis is not rejected, suggesting that the observed \n",
    "    results are not statistically significant.\n",
    "3.Effect Size:\n",
    "    -In addition to the p-value, it's essential to consider the effect size, which measures the magnitude of the\n",
    "    difference or the strength of the relationship observed in the data.\n",
    "    -Even if the p-value is statistically significant, a small effect size may not have practical significance. \n",
    "    Conversely, a large effect size with a non-significant p-value may still be important in practice. \n",
    "4.Contextual Interpretation:\n",
    "    -The interpretation of the p-value should always consider the context of the research question, the \n",
    "    significance level chosen, and the implications of the findings.\n",
    "    -It's important to avoid interpreting p-values in isolation and to consider other factors such as study \n",
    "    design, sample size, and effect size. '''   "
   ]
  },
  {
   "cell_type": "code",
   "execution_count": 10,
   "id": "bef8a87e-aaf8-412e-af07-f14d1b9181f4",
   "metadata": {},
   "outputs": [
    {
     "data": {
      "image/png": "[encoded data removed]",
      "text/plain": [
       "<Figure size 800x600 with 1 Axes>"
      ]
     },
     "metadata": {},
     "output_type": "display_data"
    }
   ],
   "source": [
    "'''Q9. Generate a Student's t-distribution plot using Python's matplotlib library, with the degrees of freedom\n",
    "parameter set to 10.'''\n",
    "\n",
    "import numpy as np\n",
    "import matplotlib.pyplot as plt\n",
    "from scipy.stats import t\n",
    "\n",
    "# Define the degrees of freedom\n",
    "df = 10\n",
    "\n",
    "# Generate x values for the t-distribution plot\n",
    "x = np.linspace(-4, 4, 1000)\n",
    "\n",
    "# Calculate the probability density function (PDF) values for the t-distribution\n",
    "pdf = t.pdf(x, df)\n",
    "\n",
    "# Plot the t-distribution\n",
    "plt.figure(figsize=(8, 6))\n",
    "plt.plot(x, pdf, label='t-distribution (df=10)', color='blue')\n",
    "\n",
    "# Add labels and title\n",
    "plt.title(\"Student's t-distribution Plot (df=10)\")\n",
    "plt.xlabel('x')\n",
    "plt.ylabel('Probability Density')\n",
    "plt.legend()\n",
    "plt.grid(True)\n",
    "\n",
    "# Show the plot\n",
    "plt.show()\n"
   ]
  },
  {
   "cell_type": "code",
   "execution_count": 11,
   "id": "9e8416bd-81fd-41a3-85d5-72982185d25e",
   "metadata": {},
   "outputs": [
    {
     "name": "stdout",
     "output_type": "stream",
     "text": [
      "Two-Sample t-test Results:\n",
      "t-statistic: -2.3981151520102415\n",
      "p-value: 0.019717941865758228\n"
     ]
    }
   ],
   "source": [
    "'''Q10. Write a Python program to calculate the two-sample t-test for independent samples, given two\n",
    "random samples of equal size and a null hypothesis that the population means are equal.'''\n",
    "\n",
    "import numpy as np\n",
    "from scipy import stats\n",
    "\n",
    "def two_sample_t_test(sample1, sample2):\n",
    "    \"\"\"\n",
    "    Function to perform a two-sample t-test for independent samples.\n",
    "    \n",
    "    Parameters:\n",
    "        sample1 (array-like): First sample data.\n",
    "        sample2 (array-like): Second sample data.\n",
    "    \n",
    "    Returns:\n",
    "        t_statistic (float): The calculated t-statistic.\n",
    "        p_value (float): The p-value associated with the t-test.\n",
    "    \"\"\"\n",
    "    # Calculate the t-statistic and p-value using scipy's ttest_ind function\n",
    "    t_statistic, p_value = stats.ttest_ind(sample1, sample2, equal_var=True)\n",
    "    \n",
    "    return t_statistic, p_value\n",
    "\n",
    "# Generate two random samples of equal size\n",
    "np.random.seed(42)  # For reproducibility\n",
    "sample_size = 30\n",
    "sample1 = np.random.normal(loc=50, scale=10, size=sample_size)\n",
    "sample2 = np.random.normal(loc=55, scale=10, size=sample_size)\n",
    "\n",
    "# Perform two-sample t-test\n",
    "t_statistic, p_value = two_sample_t_test(sample1, sample2)\n",
    "\n",
    "# Print the results\n",
    "print(\"Two-Sample t-test Results:\")\n",
    "print(\"t-statistic:\", t_statistic)\n",
    "print(\"p-value:\", p_value)\n"
   ]
  },
  {
   "cell_type": "code",
   "execution_count": 12,
   "id": "fb9a0293-4f1f-40f4-9d56-ad553657c04b",
   "metadata": {},
   "outputs": [
    {
     "data": {
      "text/plain": [
       "\"Q11: What is Student’s t distribution? When to use the t-Distribution.\\n\\nThe Student's t-distribution, often referred to simply as the t-distribution, is a probability distribution \\nthat is used in statistics. It arises when estimating the mean of a normally distributed population in \\nsituations where the sample size is small and the population standard deviation is unknown.\\n\\nHere are some key points about the t-distribution and when to use it:\\n    1.Shape: The t-distribution is similar in shape to the standard normal distribution (bell-shaped), but it \\n    has heavier tails, meaning it has more probability in the tails and less in the center compared to the \\n    normal distribution.\\n    2.Parameter: The t-distribution depends on a parameter called the degrees of freedom (df). The degrees of \\n    freedom is determined by the sample size and is equal to the sample size minus one (df = n - 1).\\n    3.When to use: The t-distribution is used primarily in situations where the sample size is small (typically\\n    n < 30) and the population standard deviation is unknown. It is commonly used in hypothesis testing and \\n    constructing confidence intervals for the population mean when the population standard deviation is \\n    unknown and the sample size is small.\\n    4.Hypothesis Testing: When you're comparing means from two samples or conducting a hypothesis test about a \\n    single mean from a small sample, you would use the t-distribution to account for the uncertainty introduced\\n    by estimating the population standard deviation from the sample.\\n    5.Confidence Intervals: When constructing confidence intervals for the population mean based on a small \\n    sample, the t-distribution is used to determine the critical values.\""
      ]
     },
     "execution_count": 12,
     "metadata": {},
     "output_type": "execute_result"
    }
   ],
   "source": [
    "'''Q11: What is Student’s t distribution? When to use the t-Distribution.\n",
    "\n",
    "The Student's t-distribution, often referred to simply as the t-distribution, is a probability distribution \n",
    "that is used in statistics. It arises when estimating the mean of a normally distributed population in \n",
    "situations where the sample size is small and the population standard deviation is unknown.\n",
    "\n",
    "Here are some key points about the t-distribution and when to use it:\n",
    "    1.Shape: The t-distribution is similar in shape to the standard normal distribution (bell-shaped), but it \n",
    "    has heavier tails, meaning it has more probability in the tails and less in the center compared to the \n",
    "    normal distribution.\n",
    "    2.Parameter: The t-distribution depends on a parameter called the degrees of freedom (df). The degrees of \n",
    "    freedom is determined by the sample size and is equal to the sample size minus one (df = n - 1).\n",
    "    3.When to use: The t-distribution is used primarily in situations where the sample size is small (typically\n",
    "    n < 30) and the population standard deviation is unknown. It is commonly used in hypothesis testing and \n",
    "    constructing confidence intervals for the population mean when the population standard deviation is \n",
    "    unknown and the sample size is small.\n",
    "    4.Hypothesis Testing: When you're comparing means from two samples or conducting a hypothesis test about a \n",
    "    single mean from a small sample, you would use the t-distribution to account for the uncertainty introduced\n",
    "    by estimating the population standard deviation from the sample.\n",
    "    5.Confidence Intervals: When constructing confidence intervals for the population mean based on a small \n",
    "    sample, the t-distribution is used to determine the critical values.'''\n"
   ]
  },
  {
   "cell_type": "code",
   "execution_count": 13,
   "id": "f007cfd3-11e4-4998-befe-56296146d84b",
   "metadata": {},
   "outputs": [
    {
     "data": {
      "text/plain": [
       "\"Q12: What is t-statistic? State the formula for t-statistic.\\n\\nThe t-statistic is a measure used in hypothesis testing to determine if the mean of a sample differs \\nsignificantly from the mean of a population. It's particularly useful when the sample size is small and/or \\nthe population standard deviation is unknown.\\nThe formula for calculating the t-statistic depends on the context, but for testing a population mean (μ) based\\non a single sample mean (x), it is typically calculated as:\\n    t= x−μ/s.root of n\\nWhere:   \\nx baar is the sample mean,\\nμ is the hypothesized population mean (the mean under the null hypothesis),\\ns is the sample standard deviation,\\nn is the sample size.\""
      ]
     },
     "execution_count": 13,
     "metadata": {},
     "output_type": "execute_result"
    }
   ],
   "source": [
    "'''Q12: What is t-statistic? State the formula for t-statistic.\n",
    "\n",
    "The t-statistic is a measure used in hypothesis testing to determine if the mean of a sample differs \n",
    "significantly from the mean of a population. It's particularly useful when the sample size is small and/or \n",
    "the population standard deviation is unknown.\n",
    "The formula for calculating the t-statistic depends on the context, but for testing a population mean (μ) based\n",
    "on a single sample mean (x), it is typically calculated as:\n",
    "    t= x−μ/s.root of n\n",
    "Where:   \n",
    "x baar is the sample mean,\n",
    "μ is the hypothesized population mean (the mean under the null hypothesis),\n",
    "s is the sample standard deviation,\n",
    "n is the sample size.'''"
   ]
  },
  {
   "cell_type": "code",
   "execution_count": 14,
   "id": "832b93d0-accc-445d-b870-7695bc56d812",
   "metadata": {},
   "outputs": [
    {
     "data": {
      "text/plain": [
       "'Q13. A coffee shop owner wants to estimate the average daily revenue for their shop. They take a random\\nsample of 50 days and find the sample mean revenue to be $500 with a standard deviation of $50.\\nEstimate the population mean revenue with a 95% confidence interval.\\n\\nTo estimate the population mean revenue with a 95% confidence interval, we can use the formula for the \\nconfidence interval of the population mean when the population standard deviation is unknown. The formula is:\\n\\n\\\\[ \\text{Confidence Interval} = \\x08ar{x} \\\\pm t \\\\left( \\x0crac{s}{\\\\sqrt{n}} \\right) \\\\]\\n\\nWhere:\\n- \\\\( \\x08ar{x} \\\\) is the sample mean,\\n- \\\\( s \\\\) is the sample standard deviation,\\n- \\\\( n \\\\) is the sample size, and\\n- \\\\( t \\\\) is the critical value from the t-distribution corresponding to the desired confidence level and \\ndegrees of freedom (df = n - 1).\\n\\nGiven:\\n- Sample mean (\\\\( \\x08ar{x} \\\\)) = $500\\n- Sample standard deviation (\\\\( s \\\\)) = $50\\n- Sample size (\\\\( n \\\\)) = 50\\n- Desired confidence level = 95%\\n\\nWe need to find the critical value \\\\( t \\\\) for a 95% confidence level with \\\\( df = 50 - 1 = 49 \\\\). We can look \\nup this value in a t-distribution table or use statistical software. For a 95% confidence level and 49 degrees \\nof freedom, \\\\( t \\x07pprox 2.0096 \\\\) (rounded to four decimal places).\\n\\nNow, we can plug in the values into the formula:\\n\\n\\\\[ \\text{Confidence Interval} = 500 \\\\pm 2.0096 \\\\left( \\x0crac{50}{\\\\sqrt{50}} \\right) \\\\]\\n\\n\\\\[ \\text{Confidence Interval} = 500 \\\\pm 2.0096 \\\\left( \\x0crac{50}{\\\\sqrt{50}} \\right) \\\\]\\n\\n\\\\[ \\text{Confidence Interval} = 500 \\\\pm 2.0096 \\\\left( \\x0crac{50}{7.07} \\right) \\\\]\\n\\n\\\\[ \\text{Confidence Interval} = 500 \\\\pm 2.0096 \\times 7.07 \\\\]\\n\\n\\\\[ \\text{Confidence Interval} = 500 \\\\pm 14.22 \\\\]\\n\\nTherefore, the 95% confidence interval for the population mean revenue is approximately \\\\( \\text{\\\\$500} \\\\pm \\n\\text{\\\\$14.22} \\\\), which means we are 95% confident that the true population mean revenue falls within the \\nrange of approximately $485.78 to $514.22.'"
      ]
     },
     "execution_count": 14,
     "metadata": {},
     "output_type": "execute_result"
    }
   ],
   "source": [
    "'''Q13. A coffee shop owner wants to estimate the average daily revenue for their shop. They take a random\n",
    "sample of 50 days and find the sample mean revenue to be $500 with a standard deviation of $50.\n",
    "Estimate the population mean revenue with a 95% confidence interval.\n",
    "\n",
    "To estimate the population mean revenue with a 95% confidence interval, we can use the formula for the \n",
    "confidence interval of the population mean when the population standard deviation is unknown. The formula is:\n",
    "\n",
    "\\[ \\text{Confidence Interval} = \\bar{x} \\pm t \\left( \\frac{s}{\\sqrt{n}} \\right) \\]\n",
    "\n",
    "Where:\n",
    "- \\( \\bar{x} \\) is the sample mean,\n",
    "- \\( s \\) is the sample standard deviation,\n",
    "- \\( n \\) is the sample size, and\n",
    "- \\( t \\) is the critical value from the t-distribution corresponding to the desired confidence level and \n",
    "degrees of freedom (df = n - 1).\n",
    "\n",
    "Given:\n",
    "- Sample mean (\\( \\bar{x} \\)) = $500\n",
    "- Sample standard deviation (\\( s \\)) = $50\n",
    "- Sample size (\\( n \\)) = 50\n",
    "- Desired confidence level = 95%\n",
    "\n",
    "We need to find the critical value \\( t \\) for a 95% confidence level with \\( df = 50 - 1 = 49 \\). We can look \n",
    "up this value in a t-distribution table or use statistical software. For a 95% confidence level and 49 degrees \n",
    "of freedom, \\( t \\approx 2.0096 \\) (rounded to four decimal places).\n",
    "\n",
    "Now, we can plug in the values into the formula:\n",
    "\n",
    "\\[ \\text{Confidence Interval} = 500 \\pm 2.0096 \\left( \\frac{50}{\\sqrt{50}} \\right) \\]\n",
    "\n",
    "\\[ \\text{Confidence Interval} = 500 \\pm 2.0096 \\left( \\frac{50}{\\sqrt{50}} \\right) \\]\n",
    "\n",
    "\\[ \\text{Confidence Interval} = 500 \\pm 2.0096 \\left( \\frac{50}{7.07} \\right) \\]\n",
    "\n",
    "\\[ \\text{Confidence Interval} = 500 \\pm 2.0096 \\times 7.07 \\]\n",
    "\n",
    "\\[ \\text{Confidence Interval} = 500 \\pm 14.22 \\]\n",
    "\n",
    "Therefore, the 95% confidence interval for the population mean revenue is approximately \\( \\text{\\$500} \\pm \n",
    "\\text{\\$14.22} \\), which means we are 95% confident that the true population mean revenue falls within the \n",
    "range of approximately $485.78 to $514.22.'''"
   ]
  },
  {
   "cell_type": "code",
   "execution_count": 15,
   "id": "b0022da6-2ab3-48e7-904f-6516b723566b",
   "metadata": {},
   "outputs": [
    {
     "data": {
      "text/plain": [
       "\"Q14. A researcher hypothesizes that a new drug will decrease blood pressure by 10 mmHg. They conduct a\\nclinical trial with 100 patients and find that the sample mean decrease in blood pressure is 8 mmHg with a\\nstandard deviation of 3 mmHg. Test the hypothesis with a significance level of 0.05.\\n\\nTo test the hypothesis that the new drug decreases blood pressure by 10 mmHg, we can use a one-sample t-test. \\nThe null and alternative hypotheses are:\\n\\n- Null hypothesis (\\\\(H_0\\\\)): The mean decrease in blood pressure is 10 mmHg.\\n- Alternative hypothesis (\\\\(H_1\\\\)): The mean decrease in blood pressure is not equal to 10 mmHg.\\n\\nWe will conduct a two-tailed test because we're interested in whether the mean decrease is significantly\\ndifferent from 10 mmHg, not just whether it's less than or greater than 10 mmHg.\\n\\nGiven:\\n- Sample mean (\\\\( \\x08ar{x} \\\\)) = 8 mmHg\\n- Population mean under the null hypothesis (\\\\( \\\\mu_0 \\\\)) = 10 mmHg\\n- Sample standard deviation (\\\\( s \\\\)) = 3 mmHg\\n- Sample size (\\\\( n \\\\)) = 100\\n- Significance level (\\\\( \\x07lpha \\\\)) = 0.05\\n\\nWe'll use the formula for the t-statistic:\\n\\n\\\\[ t = \\x0crac{\\x08ar{x} - \\\\mu_0}{\\x0crac{s}{\\\\sqrt{n}}} \\\\]\\n\\nSubstituting the values:\\n\\n\\\\[ t = \\x0crac{8 - 10}{\\x0crac{3}{\\\\sqrt{100}}} \\\\]\\n\\n\\\\[ t = \\x0crac{-2}{\\x0crac{3}{10}} \\\\]\\n\\n\\\\[ t = \\x0crac{-20}{3} \\\\]\\n\\n\\\\[ t = -6.67 \\\\]\\n\\nNow, we need to find the critical value from the t-distribution table or using statistical software. Since this \\nis a two-tailed test with a significance level of 0.05 and degrees of freedom \\\\( df = n - 1 = 100 - 1 = 99 \\\\),\\nthe critical value is approximately \\\\( \\\\pm 1.984 \\\\) (rounded to three decimal places).\\n\\nSince \\\\( |t| = 6.67 > 1.984 \\\\), we reject the null hypothesis. There is sufficient evidence to conclude that\\nthe new drug does not decrease blood pressure by 10 mmHg at the 0.05 significance level.\""
      ]
     },
     "execution_count": 15,
     "metadata": {},
     "output_type": "execute_result"
    }
   ],
   "source": [
    "'''Q14. A researcher hypothesizes that a new drug will decrease blood pressure by 10 mmHg. They conduct a\n",
    "clinical trial with 100 patients and find that the sample mean decrease in blood pressure is 8 mmHg with a\n",
    "standard deviation of 3 mmHg. Test the hypothesis with a significance level of 0.05.\n",
    "\n",
    "To test the hypothesis that the new drug decreases blood pressure by 10 mmHg, we can use a one-sample t-test. \n",
    "The null and alternative hypotheses are:\n",
    "\n",
    "- Null hypothesis (\\(H_0\\)): The mean decrease in blood pressure is 10 mmHg.\n",
    "- Alternative hypothesis (\\(H_1\\)): The mean decrease in blood pressure is not equal to 10 mmHg.\n",
    "\n",
    "We will conduct a two-tailed test because we're interested in whether the mean decrease is significantly\n",
    "different from 10 mmHg, not just whether it's less than or greater than 10 mmHg.\n",
    "\n",
    "Given:\n",
    "- Sample mean (\\( \\bar{x} \\)) = 8 mmHg\n",
    "- Population mean under the null hypothesis (\\( \\mu_0 \\)) = 10 mmHg\n",
    "- Sample standard deviation (\\( s \\)) = 3 mmHg\n",
    "- Sample size (\\( n \\)) = 100\n",
    "- Significance level (\\( \\alpha \\)) = 0.05\n",
    "\n",
    "We'll use the formula for the t-statistic:\n",
    "\n",
    "\\[ t = \\frac{\\bar{x} - \\mu_0}{\\frac{s}{\\sqrt{n}}} \\]\n",
    "\n",
    "Substituting the values:\n",
    "\n",
    "\\[ t = \\frac{8 - 10}{\\frac{3}{\\sqrt{100}}} \\]\n",
    "\n",
    "\\[ t = \\frac{-2}{\\frac{3}{10}} \\]\n",
    "\n",
    "\\[ t = \\frac{-20}{3} \\]\n",
    "\n",
    "\\[ t = -6.67 \\]\n",
    "\n",
    "Now, we need to find the critical value from the t-distribution table or using statistical software. Since this \n",
    "is a two-tailed test with a significance level of 0.05 and degrees of freedom \\( df = n - 1 = 100 - 1 = 99 \\),\n",
    "the critical value is approximately \\( \\pm 1.984 \\) (rounded to three decimal places).\n",
    "\n",
    "Since \\( |t| = 6.67 > 1.984 \\), we reject the null hypothesis. There is sufficient evidence to conclude that\n",
    "the new drug does not decrease blood pressure by 10 mmHg at the 0.05 significance level.'''"
   ]
  },
  {
   "cell_type": "code",
   "execution_count": 16,
   "id": "292336b0-2e5b-4b2b-97c0-f2247e1bd760",
   "metadata": {},
   "outputs": [
    {
     "data": {
      "text/plain": [
       "\"Q15. An electronics company produces a certain type of product with a mean weight of 5 pounds and a\\nstandard deviation of 0.5 pounds. A random sample of 25 products is taken, and the sample mean weight\\nis found to be 4.8 pounds. Test the hypothesis that the true mean weight of the products is less than 5\\npounds with a significance level of 0.01.\\n\\nTo test the hypothesis that the true mean weight of the products is less than 5 pounds, we can use a one-sample\\nt-test for a population mean (\\\\( \\\\mu \\\\)). The null and alternative hypotheses are:\\n\\n- Null hypothesis (\\\\( H_0 \\\\)): The true mean weight (\\\\( \\\\mu \\\\)) is equal to 5 pounds.\\n- Alternative hypothesis (\\\\( H_1 \\\\)): The true mean weight (\\\\( \\\\mu \\\\)) is less than 5 pounds.\\n\\nGiven:\\n- Population mean under the null hypothesis (\\\\( \\\\mu_0 \\\\)) = 5 pounds\\n- Sample mean (\\\\( \\x08ar{x} \\\\)) = 4.8 pounds\\n- Sample standard deviation (\\\\( s \\\\)) = 0.5 pounds\\n- Sample size (\\\\( n \\\\)) = 25\\n- Significance level (\\\\( \\x07lpha \\\\)) = 0.01\\n\\nWe'll use the formula for the t-statistic:\\n\\n\\\\[ t = \\x0crac{\\x08ar{x} - \\\\mu_0}{\\x0crac{s}{\\\\sqrt{n}}} \\\\]\\n\\nSubstituting the values:\\n\\n\\\\[ t = \\x0crac{4.8 - 5}{\\x0crac{0.5}{\\\\sqrt{25}}} \\\\]\\n\\n\\\\[ t = \\x0crac{-0.2}{\\x0crac{0.5}{5}} \\\\]\\n\\n\\\\[ t = \\x0crac{-0.2}{0.1} \\\\]\\n\\n\\\\[ t = -2 \\\\]\\n\\nNow, we need to find the critical value from the t-distribution table or using statistical software. Since this\\nis a one-tailed test (less than), with a significance level of 0.01 and degrees of freedom \\\\( df = n - 1 = 25 - \\n1 = 24 \\\\), the critical value is approximately -2.492 (rounded to three decimal places).\\n\\nSince \\\\( t = -2 < -2.492 \\\\), we reject the null hypothesis. There is sufficient evidence to conclude that the \\ntrue mean weight of the products is less than 5 pounds at the 0.01 significance level.\""
      ]
     },
     "execution_count": 16,
     "metadata": {},
     "output_type": "execute_result"
    }
   ],
   "source": [
    "'''Q15. An electronics company produces a certain type of product with a mean weight of 5 pounds and a\n",
    "standard deviation of 0.5 pounds. A random sample of 25 products is taken, and the sample mean weight\n",
    "is found to be 4.8 pounds. Test the hypothesis that the true mean weight of the products is less than 5\n",
    "pounds with a significance level of 0.01.\n",
    "\n",
    "To test the hypothesis that the true mean weight of the products is less than 5 pounds, we can use a one-sample\n",
    "t-test for a population mean (\\( \\mu \\)). The null and alternative hypotheses are:\n",
    "\n",
    "- Null hypothesis (\\( H_0 \\)): The true mean weight (\\( \\mu \\)) is equal to 5 pounds.\n",
    "- Alternative hypothesis (\\( H_1 \\)): The true mean weight (\\( \\mu \\)) is less than 5 pounds.\n",
    "\n",
    "Given:\n",
    "- Population mean under the null hypothesis (\\( \\mu_0 \\)) = 5 pounds\n",
    "- Sample mean (\\( \\bar{x} \\)) = 4.8 pounds\n",
    "- Sample standard deviation (\\( s \\)) = 0.5 pounds\n",
    "- Sample size (\\( n \\)) = 25\n",
    "- Significance level (\\( \\alpha \\)) = 0.01\n",
    "\n",
    "We'll use the formula for the t-statistic:\n",
    "\n",
    "\\[ t = \\frac{\\bar{x} - \\mu_0}{\\frac{s}{\\sqrt{n}}} \\]\n",
    "\n",
    "Substituting the values:\n",
    "\n",
    "\\[ t = \\frac{4.8 - 5}{\\frac{0.5}{\\sqrt{25}}} \\]\n",
    "\n",
    "\\[ t = \\frac{-0.2}{\\frac{0.5}{5}} \\]\n",
    "\n",
    "\\[ t = \\frac{-0.2}{0.1} \\]\n",
    "\n",
    "\\[ t = -2 \\]\n",
    "\n",
    "Now, we need to find the critical value from the t-distribution table or using statistical software. Since this\n",
    "is a one-tailed test (less than), with a significance level of 0.01 and degrees of freedom \\( df = n - 1 = 25 - \n",
    "1 = 24 \\), the critical value is approximately -2.492 (rounded to three decimal places).\n",
    "\n",
    "Since \\( t = -2 < -2.492 \\), we reject the null hypothesis. There is sufficient evidence to conclude that the \n",
    "true mean weight of the products is less than 5 pounds at the 0.01 significance level.'''"
   ]
  },
  {
   "cell_type": "code",
   "execution_count": 17,
   "id": "a659d4b0-a1b2-4b7a-abcb-9d27850c163f",
   "metadata": {},
   "outputs": [
    {
     "data": {
      "text/plain": [
       "\"Q16. Two groups of students are given different study materials to prepare for a test. The first group (n1 =\\n30) has a mean score of 80 with a standard deviation of 10, and the second group (n2 = 40) has a mean\\nscore of 75 with a standard deviation of 8. Test the hypothesis that the population means for the two\\ngroups are equal with a significance level of 0.01.\\n\\nTo test the hypothesis that the population means for the two groups are equal, we can use a two-sample t-test \\nfor comparing the means of two independent samples. The null and alternative hypotheses are:\\n\\n- Null hypothesis (\\\\( H_0 \\\\)): The population means of the two groups are equal.\\n- Alternative hypothesis (\\\\( H_1 \\\\)): The population means of the two groups are not equal.\\n\\nGiven:\\n- Group 1:\\n  - Sample size (\\\\( n_1 \\\\)) = 30\\n  - Sample mean (\\\\( \\x08ar{x}_1 \\\\)) = 80\\n  - Sample standard deviation (\\\\( s_1 \\\\)) = 10\\n- Group 2:\\n  - Sample size (\\\\( n_2 \\\\)) = 40\\n  - Sample mean (\\\\( \\x08ar{x}_2 \\\\)) = 75\\n  - Sample standard deviation (\\\\( s_2 \\\\)) = 8\\n- Significance level (\\\\( \\x07lpha \\\\)) = 0.01\\n\\nWe'll use the formula for the t-statistic for two independent samples:\\n\\n\\\\[ t = \\x0crac{(\\x08ar{x}_1 - \\x08ar{x}_2) - (\\\\mu_1 - \\\\mu_2)}{\\\\sqrt{\\x0crac{s_1^2}{n_1} + \\x0crac{s_2^2}{n_2}}} \\\\]\\n\\nwhere:\\n- \\\\( (\\x08ar{x}_1 - \\x08ar{x}_2) \\\\) is the difference in sample means,\\n- \\\\( (\\\\mu_1 - \\\\mu_2) \\\\) is the hypothesized difference in population means (0 under the null hypothesis),\\n- \\\\( s_1 \\\\) and \\\\( s_2 \\\\) are the sample standard deviations,\\n- \\\\( n_1 \\\\) and \\\\( n_2 \\\\) are the sample sizes.\\n\\nSubstituting the given values:\\n\\n\\\\[ t = \\x0crac{(80 - 75) - 0}{\\\\sqrt{\\x0crac{10^2}{30} + \\x0crac{8^2}{40}}} \\\\]\\n\\n\\\\[ t = \\x0crac{5}{\\\\sqrt{\\x0crac{100}{30} + \\x0crac{64}{40}}} \\\\]\\n\\n\\\\[ t = \\x0crac{5}{\\\\sqrt{10/3 + 64/40}} \\\\]\\n\\n\\\\[ t = \\x0crac{5}{\\\\sqrt{3.333 + 1.6}} \\\\]\\n\\n\\\\[ t = \\x0crac{5}{\\\\sqrt{4.933}} \\\\]\\n\\n\\\\[ t ≈ \\x0crac{5}{2.221} \\\\]\\n\\n\\\\[ t ≈ 2.25 \\\\]\\n\\nNow, we need to find the critical value from the t-distribution table or using statistical software. Since this \\nis a two-tailed test with a significance level of 0.01 and degrees of freedom \\\\( df = \\\\min(n_1 - 1, n_2 - 1) = \\n\\\\min(30 - 1, 40 - 1) = 29 \\\\), the critical value is approximately \\\\( \\\\pm 2.756 \\\\) (rounded to three decimal \\nplaces).\\n\\nSince \\\\( |t| = 2.25 < 2.756 \\\\), we fail to reject the null hypothesis. There is insufficient evidence to \\nconclude that the population means for the two groups are different at the 0.01 significance level.\""
      ]
     },
     "execution_count": 17,
     "metadata": {},
     "output_type": "execute_result"
    }
   ],
   "source": [
    "'''Q16. Two groups of students are given different study materials to prepare for a test. The first group (n1 =\n",
    "30) has a mean score of 80 with a standard deviation of 10, and the second group (n2 = 40) has a mean\n",
    "score of 75 with a standard deviation of 8. Test the hypothesis that the population means for the two\n",
    "groups are equal with a significance level of 0.01.\n",
    "\n",
    "To test the hypothesis that the population means for the two groups are equal, we can use a two-sample t-test \n",
    "for comparing the means of two independent samples. The null and alternative hypotheses are:\n",
    "\n",
    "- Null hypothesis (\\( H_0 \\)): The population means of the two groups are equal.\n",
    "- Alternative hypothesis (\\( H_1 \\)): The population means of the two groups are not equal.\n",
    "\n",
    "Given:\n",
    "- Group 1:\n",
    "  - Sample size (\\( n_1 \\)) = 30\n",
    "  - Sample mean (\\( \\bar{x}_1 \\)) = 80\n",
    "  - Sample standard deviation (\\( s_1 \\)) = 10\n",
    "- Group 2:\n",
    "  - Sample size (\\( n_2 \\)) = 40\n",
    "  - Sample mean (\\( \\bar{x}_2 \\)) = 75\n",
    "  - Sample standard deviation (\\( s_2 \\)) = 8\n",
    "- Significance level (\\( \\alpha \\)) = 0.01\n",
    "\n",
    "We'll use the formula for the t-statistic for two independent samples:\n",
    "\n",
    "\\[ t = \\frac{(\\bar{x}_1 - \\bar{x}_2) - (\\mu_1 - \\mu_2)}{\\sqrt{\\frac{s_1^2}{n_1} + \\frac{s_2^2}{n_2}}} \\]\n",
    "\n",
    "where:\n",
    "- \\( (\\bar{x}_1 - \\bar{x}_2) \\) is the difference in sample means,\n",
    "- \\( (\\mu_1 - \\mu_2) \\) is the hypothesized difference in population means (0 under the null hypothesis),\n",
    "- \\( s_1 \\) and \\( s_2 \\) are the sample standard deviations,\n",
    "- \\( n_1 \\) and \\( n_2 \\) are the sample sizes.\n",
    "\n",
    "Substituting the given values:\n",
    "\n",
    "\\[ t = \\frac{(80 - 75) - 0}{\\sqrt{\\frac{10^2}{30} + \\frac{8^2}{40}}} \\]\n",
    "\n",
    "\\[ t = \\frac{5}{\\sqrt{\\frac{100}{30} + \\frac{64}{40}}} \\]\n",
    "\n",
    "\\[ t = \\frac{5}{\\sqrt{10/3 + 64/40}} \\]\n",
    "\n",
    "\\[ t = \\frac{5}{\\sqrt{3.333 + 1.6}} \\]\n",
    "\n",
    "\\[ t = \\frac{5}{\\sqrt{4.933}} \\]\n",
    "\n",
    "\\[ t ≈ \\frac{5}{2.221} \\]\n",
    "\n",
    "\\[ t ≈ 2.25 \\]\n",
    "\n",
    "Now, we need to find the critical value from the t-distribution table or using statistical software. Since this \n",
    "is a two-tailed test with a significance level of 0.01 and degrees of freedom \\( df = \\min(n_1 - 1, n_2 - 1) = \n",
    "\\min(30 - 1, 40 - 1) = 29 \\), the critical value is approximately \\( \\pm 2.756 \\) (rounded to three decimal \n",
    "places).\n",
    "\n",
    "Since \\( |t| = 2.25 < 2.756 \\), we fail to reject the null hypothesis. There is insufficient evidence to \n",
    "conclude that the population means for the two groups are different at the 0.01 significance level.'''"
   ]
  },
  {
   "cell_type": "code",
   "execution_count": 18,
   "id": "ca6bd73e-e2c8-4129-ba82-22fd7bd9bd7a",
   "metadata": {},
   "outputs": [
    {
     "data": {
      "text/plain": [
       "'Q17. A marketing company wants to estimate the average number of ads watched by viewers during a TV\\nprogram. They take a random sample of 50 viewers and find that the sample mean is 4 with a standard\\ndeviation of 1.5. Estimate the population mean with a 99% confidence interval.\\n\\nTo estimate the population mean with a 99% confidence interval, we can use the formula for the confidence \\ninterval of the population mean when the population standard deviation is unknown. The formula is:\\n\\n\\\\[ \\text{Confidence Interval} = \\x08ar{x} \\\\pm t \\\\left( \\x0crac{s}{\\\\sqrt{n}} \\right) \\\\]\\n\\nWhere:\\n- \\\\( \\x08ar{x} \\\\) is the sample mean,\\n- \\\\( s \\\\) is the sample standard deviation,\\n- \\\\( n \\\\) is the sample size, and\\n- \\\\( t \\\\) is the critical value from the t-distribution corresponding to the desired confidence level and \\ndegrees of freedom (df = n - 1).\\n\\nGiven:\\n- Sample mean (\\\\( \\x08ar{x} \\\\)) = 4\\n- Sample standard deviation (\\\\( s \\\\)) = 1.5\\n- Sample size (\\\\( n \\\\)) = 50\\n- Desired confidence level = 99%\\n\\nWe need to find the critical value \\\\( t \\\\) for a 99% confidence level with \\\\( df = n - 1 = 50 - 1 = 49 \\\\). We \\ncan look up this value in a t-distribution table or use statistical software. For a 99% confidence level and 49\\ndegrees of freedom, \\\\( t \\x07pprox 2.682 \\\\) (rounded to three decimal places).\\n\\nNow, we can plug in the values into the formula:\\n\\n\\\\[ \\text{Confidence Interval} = 4 \\\\pm 2.682 \\\\left( \\x0crac{1.5}{\\\\sqrt{50}} \\right) \\\\]\\n\\n\\\\[ \\text{Confidence Interval} = 4 \\\\pm 2.682 \\\\left( \\x0crac{1.5}{\\\\sqrt{50}} \\right) \\\\]\\n\\n\\\\[ \\text{Confidence Interval} = 4 \\\\pm 2.682 \\\\left( \\x0crac{1.5}{\\\\sqrt{50}} \\right) \\\\]\\n\\n\\\\[ \\text{Confidence Interval} = 4 \\\\pm 2.682 \\\\left( \\x0crac{1.5}{7.071} \\right) \\\\]\\n\\n\\\\[ \\text{Confidence Interval} = 4 \\\\pm 2.682 \\\\left( 0.2121 \\right) \\\\]\\n\\n\\\\[ \\text{Confidence Interval} = 4 \\\\pm 0.568 \\\\]\\n\\nTherefore, the 99% confidence interval for the population mean number of ads watched by viewers during a TV \\nprogram is approximately \\\\( 4 \\\\pm 0.568 \\\\), which means we are 99% confident that the true population mean \\nfalls within the range of approximately 3.432 to 4.568.'"
      ]
     },
     "execution_count": 18,
     "metadata": {},
     "output_type": "execute_result"
    }
   ],
   "source": [
    "'''Q17. A marketing company wants to estimate the average number of ads watched by viewers during a TV\n",
    "program. They take a random sample of 50 viewers and find that the sample mean is 4 with a standard\n",
    "deviation of 1.5. Estimate the population mean with a 99% confidence interval.\n",
    "\n",
    "To estimate the population mean with a 99% confidence interval, we can use the formula for the confidence \n",
    "interval of the population mean when the population standard deviation is unknown. The formula is:\n",
    "\n",
    "\\[ \\text{Confidence Interval} = \\bar{x} \\pm t \\left( \\frac{s}{\\sqrt{n}} \\right) \\]\n",
    "\n",
    "Where:\n",
    "- \\( \\bar{x} \\) is the sample mean,\n",
    "- \\( s \\) is the sample standard deviation,\n",
    "- \\( n \\) is the sample size, and\n",
    "- \\( t \\) is the critical value from the t-distribution corresponding to the desired confidence level and \n",
    "degrees of freedom (df = n - 1).\n",
    "\n",
    "Given:\n",
    "- Sample mean (\\( \\bar{x} \\)) = 4\n",
    "- Sample standard deviation (\\( s \\)) = 1.5\n",
    "- Sample size (\\( n \\)) = 50\n",
    "- Desired confidence level = 99%\n",
    "\n",
    "We need to find the critical value \\( t \\) for a 99% confidence level with \\( df = n - 1 = 50 - 1 = 49 \\). We \n",
    "can look up this value in a t-distribution table or use statistical software. For a 99% confidence level and 49\n",
    "degrees of freedom, \\( t \\approx 2.682 \\) (rounded to three decimal places).\n",
    "\n",
    "Now, we can plug in the values into the formula:\n",
    "\n",
    "\\[ \\text{Confidence Interval} = 4 \\pm 2.682 \\left( \\frac{1.5}{\\sqrt{50}} \\right) \\]\n",
    "\n",
    "\\[ \\text{Confidence Interval} = 4 \\pm 2.682 \\left( \\frac{1.5}{\\sqrt{50}} \\right) \\]\n",
    "\n",
    "\\[ \\text{Confidence Interval} = 4 \\pm 2.682 \\left( \\frac{1.5}{\\sqrt{50}} \\right) \\]\n",
    "\n",
    "\\[ \\text{Confidence Interval} = 4 \\pm 2.682 \\left( \\frac{1.5}{7.071} \\right) \\]\n",
    "\n",
    "\\[ \\text{Confidence Interval} = 4 \\pm 2.682 \\left( 0.2121 \\right) \\]\n",
    "\n",
    "\\[ \\text{Confidence Interval} = 4 \\pm 0.568 \\]\n",
    "\n",
    "Therefore, the 99% confidence interval for the population mean number of ads watched by viewers during a TV \n",
    "program is approximately \\( 4 \\pm 0.568 \\), which means we are 99% confident that the true population mean \n",
    "falls within the range of approximately 3.432 to 4.568.'''"
   ]
  },
  {
   "cell_type": "code",
   "execution_count": null,
   "id": "8cd6d2ac-0027-4936-8681-5db3bf50cad0",
   "metadata": {},
   "outputs": [],
   "source": []
  }
 ],
 "metadata": {
  "kernelspec": {
   "display_name": "Python 3 (ipykernel)",
   "language": "python",
   "name": "python3"
  },
  "language_info": {
   "codemirror_mode": {
    "name": "ipython",
    "version": 3
   },
   "file_extension": ".py",
   "mimetype": "text/x-python",
   "name": "python",
   "nbconvert_exporter": "python",
   "pygments_lexer": "ipython3",
   "version": "3.10.8"
  }
 },
 "nbformat": 4,
 "nbformat_minor": 5
}
