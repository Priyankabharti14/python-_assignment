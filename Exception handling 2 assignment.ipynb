{
 "cells": [
  {
   "cell_type": "code",
   "execution_count": 1,
   "id": "b30fe5b4-1a76-4b30-b903-5975e4873936",
   "metadata": {},
   "outputs": [
    {
     "data": {
      "text/plain": [
       "\"Q1. Explain why we have to use the Exception class while creating a Custom Exception.\\n\\nCreating custom exceptions can provide better clarity and control in your code when handling specific error \\nscenarios that are not adequately covered by built-in exceptions. When creating a custom exception,\\nit's important to derive it from the base Exception class in programming languages that support object-oriented\\nprogramming.\\n\\nHere's why:\\n    1.Hierarchy and Structure: In many programming languages, exception handling is based on a hierarchy of \\n    exception classes. This hierarchy provides a structured way to organize and categorize different types of\\n    exceptions.\\n    2.Consistency: Using the Exception class as the base ensures consistency with how built-in exceptions\\n    are designed. This makes your code more intuitive for other developers who might work with it. \\n    3.Standardization: Deriving from the Exception class makes your custom exception compatible with existing\\n    exception handling mechanisms and tools provided by the programming language or framework. \\n    4.Documentation and Understanding: Custom exceptions, when named appropriately, can serve as a form of \\n    documentation. The exception name itself can convey the nature of the problem, making it easier for\\n    developers to understand what might have gone wrong without needing to delve deep into the code.\""
      ]
     },
     "execution_count": 1,
     "metadata": {},
     "output_type": "execute_result"
    }
   ],
   "source": [
    "'''Q1. Explain why we have to use the Exception class while creating a Custom Exception.\n",
    "\n",
    "Creating custom exceptions can provide better clarity and control in your code when handling specific error \n",
    "scenarios that are not adequately covered by built-in exceptions. When creating a custom exception,\n",
    "it's important to derive it from the base Exception class in programming languages that support object-oriented\n",
    "programming.\n",
    "\n",
    "Here's why:\n",
    "    1.Hierarchy and Structure: In many programming languages, exception handling is based on a hierarchy of \n",
    "    exception classes. This hierarchy provides a structured way to organize and categorize different types of\n",
    "    exceptions.\n",
    "    2.Consistency: Using the Exception class as the base ensures consistency with how built-in exceptions\n",
    "    are designed. This makes your code more intuitive for other developers who might work with it. \n",
    "    3.Standardization: Deriving from the Exception class makes your custom exception compatible with existing\n",
    "    exception handling mechanisms and tools provided by the programming language or framework. \n",
    "    4.Documentation and Understanding: Custom exceptions, when named appropriately, can serve as a form of \n",
    "    documentation. The exception name itself can convey the nature of the problem, making it easier for\n",
    "    developers to understand what might have gone wrong without needing to delve deep into the code.'''"
   ]
  },
  {
   "cell_type": "code",
   "execution_count": 3,
   "id": "928703b5-199c-4054-a96b-4fd251bf3cb8",
   "metadata": {},
   "outputs": [],
   "source": [
    "#Q2. Write a python program to print Python Exception Hierarchy.\n",
    "\n",
    "def print_exception_hierarchy(exception_class, indent=0):\n",
    "    print(' ' * indent + exception_class.__name__)\n",
    "    for subclass in exception_class.__subclasses__():\n",
    "        print_exception_hierarchy(subclass, indent + 2)\n",
    "        break\n",
    "\n",
    "    print_exception_hierarchy(BaseException)\n"
   ]
  },
  {
   "cell_type": "code",
   "execution_count": 6,
   "id": "fa65dd7c-a2b3-48a5-ae2c-e7d94688c088",
   "metadata": {},
   "outputs": [
    {
     "name": "stdout",
     "output_type": "stream",
     "text": [
      "Error: division by zero\n"
     ]
    }
   ],
   "source": [
    "'''Q3. What errors are defined in the ArithmeticError class? Explain any two with an example.\n",
    "\n",
    "The ArithmeticError class is a base class for arithmetic-related exceptions in Python. It serves as a parent \n",
    "class for more specific arithmetic exception classes. Some of the common exceptions that are derived from\n",
    "ArithmeticError include:\n",
    "\n",
    "1.ZeroDivisionError: This exception is raised when you attempt to divide a number by zero. It occurs when the \n",
    "denominator in a division operation is zero.'''\n",
    "\n",
    "try:\n",
    "    result = 10 / 0  # This will raise ZeroDivisionError\n",
    "except ZeroDivisionError as e:\n",
    "    print(\"Error:\", e)\n",
    "\n",
    "#2.OverflowError: This exception is raised when an arithmetic operation exceeds the limits of the numeric type\n",
    "#used in the operation. It occurs when a value becomes too large to be represented accurately by the data type.\n",
    "\n",
    "import sys\n",
    "\n",
    "try:\n",
    "    big_number = sys.maxsize + 1\n",
    "    result = big_number * 2  # This will raise OverflowError\n",
    "except OverflowError as e:\n",
    "    print(\"Error:\", e)\n"
   ]
  },
  {
   "cell_type": "code",
   "execution_count": 8,
   "id": "7e3738b9-f449-4daa-8327-c6bddab70d8e",
   "metadata": {},
   "outputs": [
    {
     "name": "stdout",
     "output_type": "stream",
     "text": [
      "Error: 'c'\n",
      "Error: list index out of range\n"
     ]
    }
   ],
   "source": [
    "'''Q4. Why LookupError class is used? Explain with an example KeyError and IndexError.\n",
    "\n",
    "The LookupError class in Python is used as a base class for exceptions that occur when an indexing or \n",
    "lookup operation fails. It's a parent class for several more specific exception classes related to indexing \n",
    "and key lookup errors.\n",
    "\n",
    "1.KeyError: This exception is raised when you try to access a dictionary key that doesn't exist.'''\n",
    "\n",
    "my_dict = {'a': 1, 'b': 2}\n",
    "\n",
    "try:\n",
    "    value = my_dict['c']  # This will raise KeyError\n",
    "except KeyError as e:\n",
    "    print(\"Error:\", e)\n",
    "\n",
    "'''2.IndexError: This exception is raised when you try to access an index of a sequence (like a list or a string)\n",
    "that is out of bounds.'''\n",
    "\n",
    "my_list = [10, 20, 30]\n",
    "\n",
    "try:\n",
    "    value = my_list[5]  # This will raise IndexError\n",
    "except IndexError as e:\n",
    "    print(\"Error:\", e)\n"
   ]
  },
  {
   "cell_type": "code",
   "execution_count": 10,
   "id": "299901f4-a225-467e-a2c7-55046172f480",
   "metadata": {},
   "outputs": [
    {
     "name": "stdout",
     "output_type": "stream",
     "text": [
      "Error: No module named 'non_existent_module'\n",
      "Error: No module named 'non_existent_module'\n"
     ]
    }
   ],
   "source": [
    "'''Q5. Explain ImportError. What is ModuleNotFoundError?\n",
    "\n",
    "ImportError and ModuleNotFoundError are both exceptions in Python that are related to importing and using\n",
    "modules or packages. They occur when there are issues with locating or loading the specified modules or packages.\n",
    "\n",
    "1.ImportError: This exception is raised when an import statement fails to locate and import a module or package.\n",
    "It's a general exception that can occur for various reasons, such as if the module doesn't exist'''\n",
    "\n",
    "try:\n",
    "    import non_existent_module  # This will raise ImportError\n",
    "except ImportError as e:\n",
    "    print(\"Error:\", e)\n",
    "\n",
    "'''2.ModuleNotFoundError: This exception is a subclass of ImportError that is specifically raised when a module or \n",
    "package cannot be found. It was introduced in Python 3.6 to provide a more specific error message when the\n",
    "interpreter fails to locate the specified module. '''\n",
    "\n",
    "try:\n",
    "    import non_existent_module  # This will raise ModuleNotFoundError\n",
    "except ModuleNotFoundError as e:\n",
    "    print(\"Error:\", e)\n"
   ]
  },
  {
   "cell_type": "code",
   "execution_count": 11,
   "id": "d6443d6b-a1ac-4a67-b801-c8e072f2f80d",
   "metadata": {},
   "outputs": [
    {
     "data": {
      "text/plain": [
       "\"Q6. List down some best practices for exception handling in python.\\n\\nException handling is a crucial aspect of writing robust and reliable Python code. Here are some best practices \\nto follow when working with exceptions:\\n\\n1.Use Specific Exceptions: Catch specific exceptions rather than catching broad exceptions like Exception or \\nBaseException. This helps you handle errors more accurately and avoids masking unexpected issues.\\n\\n2.One Exception, One Purpose: Each try block should focus on a single operation that might raise a specific type\\nof exception. This makes your code more readable and maintainable.\\n\\n3.Use finally for Cleanup: When you need to ensure certain operations (like closing files or releasing resources)\\nare executed regardless of whether an exception occurred, use a finally block.\\n\\n4.Handle Exceptions Locally: Handle exceptions at the appropriate level of your code. If you can't handle an\\nexception meaningfully, let it propagate up to a higher level where it can be handled properly.\\n\\n5.Logging and Reporting: Use the Python logging module to log exception details. This helps in debugging and\\ntracking issues in production. Additionally, consider sending error reports to a centralized system for monitoring.\""
      ]
     },
     "execution_count": 11,
     "metadata": {},
     "output_type": "execute_result"
    }
   ],
   "source": [
    "'''Q6. List down some best practices for exception handling in python.\n",
    "\n",
    "Exception handling is a crucial aspect of writing robust and reliable Python code. Here are some best practices \n",
    "to follow when working with exceptions:\n",
    "\n",
    "1.Use Specific Exceptions: Catch specific exceptions rather than catching broad exceptions like Exception or \n",
    "BaseException. This helps you handle errors more accurately and avoids masking unexpected issues.\n",
    "\n",
    "2.One Exception, One Purpose: Each try block should focus on a single operation that might raise a specific type\n",
    "of exception. This makes your code more readable and maintainable.\n",
    "\n",
    "3.Use finally for Cleanup: When you need to ensure certain operations (like closing files or releasing resources)\n",
    "are executed regardless of whether an exception occurred, use a finally block.\n",
    "\n",
    "4.Handle Exceptions Locally: Handle exceptions at the appropriate level of your code. If you can't handle an\n",
    "exception meaningfully, let it propagate up to a higher level where it can be handled properly.\n",
    "\n",
    "5.Logging and Reporting: Use the Python logging module to log exception details. This helps in debugging and\n",
    "tracking issues in production. Additionally, consider sending error reports to a centralized system for monitoring.'''"
   ]
  },
  {
   "cell_type": "code",
   "execution_count": null,
   "id": "3fad3b2f-6c54-49b8-ab23-3104a20402ee",
   "metadata": {},
   "outputs": [],
   "source": []
  }
 ],
 "metadata": {
  "kernelspec": {
   "display_name": "Python 3 (ipykernel)",
   "language": "python",
   "name": "python3"
  },
  "language_info": {
   "codemirror_mode": {
    "name": "ipython",
    "version": 3
   },
   "file_extension": ".py",
   "mimetype": "text/x-python",
   "name": "python",
   "nbconvert_exporter": "python",
   "pygments_lexer": "ipython3",
   "version": "3.10.8"
  }
 },
 "nbformat": 4,
 "nbformat_minor": 5
}
