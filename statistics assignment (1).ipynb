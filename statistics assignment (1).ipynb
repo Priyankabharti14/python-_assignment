{
 "cells": [
  {
   "cell_type": "code",
   "execution_count": 1,
   "id": "57cfb555-14e5-4bdb-ab20-770a12ea6d2b",
   "metadata": {},
   "outputs": [
    {
     "data": {
      "text/plain": [
       "'Q1. What is the Probability density function?\\n\\nThe probability density function (PDF) is a concept in probability theory and statistics. It describes the\\nlikelihood of a continuous random variable falling within a particular range of values. In other words, the\\nPDF provides a way to quantify the probability of observing a specific outcome within a continuous probability\\ndistribution.\\n\\nMathematically, for a continuous random variable X. the probability density function f(x) is defined such\\nthat for any two values a and b with a<=b;\\nP(a<=X<=b)=∫f(x)dx\\n \\nHere, \\nf(x) represents the PDF, and the integral of f(x) over a range [a,b] gives the probability that X falls\\nwithin that range.'"
      ]
     },
     "execution_count": 1,
     "metadata": {},
     "output_type": "execute_result"
    }
   ],
   "source": [
    "'''Q1. What is the Probability density function?\n",
    "\n",
    "The probability density function (PDF) is a concept in probability theory and statistics. It describes the\n",
    "likelihood of a continuous random variable falling within a particular range of values. In other words, the\n",
    "PDF provides a way to quantify the probability of observing a specific outcome within a continuous probability\n",
    "distribution.\n",
    "\n",
    "Mathematically, for a continuous random variable X. the probability density function f(x) is defined such\n",
    "that for any two values a and b with a<=b;\n",
    "P(a<=X<=b)=∫f(x)dx\n",
    " \n",
    "Here, \n",
    "f(x) represents the PDF, and the integral of f(x) over a range [a,b] gives the probability that X falls\n",
    "within that range.'''\n",
    "\n"
   ]
  },
  {
   "cell_type": "code",
   "execution_count": 2,
   "id": "b474070c-3c98-4550-9719-a25c5ce65f35",
   "metadata": {},
   "outputs": [
    {
     "data": {
      "text/plain": [
       "'Q2. What are the types of Probability distribution?\\n\\nThere are several types of probability distributions, each with its own characteristics and applications. Some of the most common types include:\\n\\n1.Discrete Probability Distributions:\\n\\n.Bernoulli Distribution: Represents the probability distribution of a random variable that takes the value 1 with\\n      probability p and the value 0 with probability 1-p. \\n.Binomial Distribution: Describes the number of successes in a fixed number of independent Bernoulli trials.\\n.Poisson Distribution: Models the number of events occurring in a fixed interval of time or space, given a \\n    constant average rate of occurrence.\\n    \\n2.Continuous Probability Distributions:\\n\\n.Normal (Gaussian) Distribution: A bell-shaped distribution characterized by its mean and standard deviation,\\n     widely used in statistics due to the central limit theorem.\\n.Uniform Distribution: All outcomes are equally likely over a specified range.\\n.Exponential Distribution: Describes the time between events in a Poisson process, where events occur continuously\\n      and independently at a constant average rate.\\n.Gamma Distribution: Generalizes the exponential distribution and is often used to model waiting times or \\n       lifetimes.\\n.Beta Distribution: Flexible distribution on the interval [0, 1] often used as a prior distribution for\\n       probabilities in Bayesian statistics.\\n.Lognormal Distribution: The distribution of a random variable whose logarithm is normally distributed, often\\n        used to model skewed '"
      ]
     },
     "execution_count": 2,
     "metadata": {},
     "output_type": "execute_result"
    }
   ],
   "source": [
    "'''Q2. What are the types of Probability distribution?\n",
    "\n",
    "There are several types of probability distributions, each with its own characteristics and applications. Some of the most common types include:\n",
    "\n",
    "1.Discrete Probability Distributions:\n",
    "\n",
    ".Bernoulli Distribution: Represents the probability distribution of a random variable that takes the value 1 with\n",
    "      probability p and the value 0 with probability 1-p. \n",
    ".Binomial Distribution: Describes the number of successes in a fixed number of independent Bernoulli trials.\n",
    ".Poisson Distribution: Models the number of events occurring in a fixed interval of time or space, given a \n",
    "    constant average rate of occurrence.\n",
    "    \n",
    "2.Continuous Probability Distributions:\n",
    "\n",
    ".Normal (Gaussian) Distribution: A bell-shaped distribution characterized by its mean and standard deviation,\n",
    "     widely used in statistics due to the central limit theorem.\n",
    ".Uniform Distribution: All outcomes are equally likely over a specified range.\n",
    ".Exponential Distribution: Describes the time between events in a Poisson process, where events occur continuously\n",
    "      and independently at a constant average rate.\n",
    ".Gamma Distribution: Generalizes the exponential distribution and is often used to model waiting times or \n",
    "       lifetimes.\n",
    ".Beta Distribution: Flexible distribution on the interval [0, 1] often used as a prior distribution for\n",
    "       probabilities in Bayesian statistics.\n",
    ".Lognormal Distribution: The distribution of a random variable whose logarithm is normally distributed, often\n",
    "        used to model skewed '''   "
   ]
  },
  {
   "cell_type": "code",
   "execution_count": 1,
   "id": "9a6c79de-3358-4475-9841-5bbe6ce6a964",
   "metadata": {},
   "outputs": [
    {
     "name": "stdout",
     "output_type": "stream",
     "text": [
      "The probability density function at x=1 is 0.2420\n"
     ]
    }
   ],
   "source": [
    "'''Q3. Write a Python function to calculate the probability density function of a normal distribution with\n",
    "given mean and standard deviation at a given point.'''\n",
    "\n",
    "import math\n",
    "\n",
    "def normal_pdf(x, mean, std_dev):\n",
    "    \"\"\"\n",
    "    Calculate the probability density function (pdf) of a normal distribution at a given point.\n",
    "\n",
    "    Args:\n",
    "    x (float): The point at which to evaluate the pdf.\n",
    "    mean (float): The mean of the normal distribution.\n",
    "    std_dev (float): The standard deviation of the normal distribution.\n",
    "\n",
    "    Returns:\n",
    "    float: The probability density function value at the given point.\n",
    "    \"\"\"\n",
    "    coefficient = 1 / (math.sqrt(2 * math.pi) * std_dev)\n",
    "    exponent = -((x - mean) ** 2) / (2 * std_dev ** 2)\n",
    "    pdf_value = coefficient * math.exp(exponent)\n",
    "    return pdf_value\n",
    "\n",
    "# Example usage:\n",
    "mean = 0\n",
    "std_dev = 1\n",
    "point = 1\n",
    "pdf_at_point = normal_pdf(point, mean, std_dev)\n",
    "print(f\"The probability density function at x={point} is {pdf_at_point:.4f}\")"
   ]
  },
  {
   "cell_type": "code",
   "execution_count": 2,
   "id": "d538fdc1-e8bf-4a45-8a4f-567e7d4728be",
   "metadata": {},
   "outputs": [
    {
     "data": {
      "text/plain": [
       "'Q4. What are the properties of Binomial distribution? Give two examples of events where binomial\\ndistribution can be applied.\\n\\nThe binomial distribution has several key properties:\\n1.Fixed Number of Trials: The experiment consists of a fixed number of independent trials, denoted by n.\\n2.Independent Trials: Each trial must result in one of two outcomes: success (usually denoted by S) or\\n    failure (usually denoted by F). The outcomes of different trials are independent of each other. \\n3.Constant Probability of Success: The probability of success, denoted by p, remains constant from trial to trial.\\n      Likewise, the probability of failure (1−p) remains constant. \\n4.Discrete Outcome: The number of successes, X, in n trials is a discrete random variable. \\n5.Probability Mass Function: The probability mass function (PMF) of the binomial distribution is given by:\\nP(X=k)=(n/k)p k(1−p) n−k\\n\\nTwo examples of events where the binomial distribution can be applied are:\\n1.Coin Flipping: Consider flipping a fair coin n times. Each flip is independent, with two possible outcomes \\n    (heads or tails) having equal probabilities (p=0.5). The number of heads obtained in the n flips follows\\n     a binomial distribution\\n2.Medical Trials: In a medical trial, patients might be given a treatment or a placebo. We can model the outcome\\n  of each patient receiving treatment as a success (e.g., recovery) with a certain probability p, and failure \\n    (e.g., no recovery) with probability 1−p. If we conduct the trial with a fixed number of patients, the number\\n    of patients who recover out of the total number of patients follows a binomial distribution. '"
      ]
     },
     "execution_count": 2,
     "metadata": {},
     "output_type": "execute_result"
    }
   ],
   "source": [
    "'''Q4. What are the properties of Binomial distribution? Give two examples of events where binomial\n",
    "distribution can be applied.\n",
    "\n",
    "The binomial distribution has several key properties:\n",
    "1.Fixed Number of Trials: The experiment consists of a fixed number of independent trials, denoted by n.\n",
    "2.Independent Trials: Each trial must result in one of two outcomes: success (usually denoted by S) or\n",
    "    failure (usually denoted by F). The outcomes of different trials are independent of each other. \n",
    "3.Constant Probability of Success: The probability of success, denoted by p, remains constant from trial to trial.\n",
    "      Likewise, the probability of failure (1−p) remains constant. \n",
    "4.Discrete Outcome: The number of successes, X, in n trials is a discrete random variable. \n",
    "5.Probability Mass Function: The probability mass function (PMF) of the binomial distribution is given by:\n",
    "P(X=k)=(n/k)p k(1−p) n−k\n",
    "\n",
    "Two examples of events where the binomial distribution can be applied are:\n",
    "1.Coin Flipping: Consider flipping a fair coin n times. Each flip is independent, with two possible outcomes \n",
    "    (heads or tails) having equal probabilities (p=0.5). The number of heads obtained in the n flips follows\n",
    "     a binomial distribution\n",
    "2.Medical Trials: In a medical trial, patients might be given a treatment or a placebo. We can model the outcome\n",
    "  of each patient receiving treatment as a success (e.g., recovery) with a certain probability p, and failure \n",
    "    (e.g., no recovery) with probability 1−p. If we conduct the trial with a fixed number of patients, the number\n",
    "    of patients who recover out of the total number of patients follows a binomial distribution. '''       \n",
    " "
   ]
  },
  {
   "cell_type": "code",
   "execution_count": 3,
   "id": "3c56ae46-6671-4fda-a59e-a8a8416f3fde",
   "metadata": {},
   "outputs": [
    {
     "data": {
      "image/png": "[encoded data removed]",
      "text/plain": [
       "<Figure size 640x480 with 1 Axes>"
      ]
     },
     "metadata": {},
     "output_type": "display_data"
    }
   ],
   "source": [
    "'''Q5. Generate a random sample of size 1000 from a binomial distribution with probability of success 0.4\n",
    "and plot a histogram of the results using matplotlib.'''\n",
    "\n",
    "import numpy as np\n",
    "import matplotlib.pyplot as plt\n",
    "\n",
    "# Generate random sample from binomial distribution\n",
    "sample_size = 1000\n",
    "probability_of_success = 0.4\n",
    "random_sample = np.random.binomial(1, probability_of_success, sample_size)\n",
    "\n",
    "# Plot histogram\n",
    "plt.hist(random_sample, bins=2, color='skyblue', edgecolor='black', alpha=0.7)\n",
    "plt.title('Histogram of Random Sample from Binomial Distribution')\n",
    "plt.xlabel('Outcome (0: Failure, 1: Success)')\n",
    "plt.ylabel('Frequency')\n",
    "plt.xticks([0, 1], ['Failure', 'Success'])\n",
    "plt.show()\n",
    "\n"
   ]
  },
  {
   "cell_type": "code",
   "execution_count": 4,
   "id": "37c3aca8-9639-40fc-a911-0e4da06ba3b3",
   "metadata": {},
   "outputs": [
    {
     "name": "stdout",
     "output_type": "stream",
     "text": [
      "The cumulative distribution function at k=2 is 0.4232\n"
     ]
    }
   ],
   "source": [
    "'''Q6. Write a Python function to calculate the cumulative distribution function of a Poisson distribution\n",
    "with given mean at a given point.'''\n",
    "\n",
    "import math\n",
    "\n",
    "def poisson_cdf(k, mean):\n",
    "    \"\"\"\n",
    "    Calculate the cumulative distribution function (CDF) of a Poisson distribution at a given point.\n",
    "\n",
    "    Args:\n",
    "    k (int): The point at which to evaluate the CDF.\n",
    "    mean (float): The mean of the Poisson distribution.\n",
    "\n",
    "    Returns:\n",
    "    float: The cumulative distribution function value at the given point.\n",
    "    \"\"\"\n",
    "    cdf = 0\n",
    "    for i in range(k + 1):\n",
    "        cdf += (math.exp(-mean) * mean**i) / math.factorial(i)\n",
    "    return cdf\n",
    "\n",
    "# Example usage:\n",
    "mean = 3\n",
    "point = 2\n",
    "cdf_at_point = poisson_cdf(point, mean)\n",
    "print(f\"The cumulative distribution function at k={point} is {cdf_at_point:.4f}\")"
   ]
  },
  {
   "cell_type": "code",
   "execution_count": 5,
   "id": "26c6a335-de2d-4837-bbdc-91681614728f",
   "metadata": {},
   "outputs": [
    {
     "data": {
      "text/plain": [
       "'Q7. How Binomial distribution different from Poisson distribution?\\n\\n\\nThe binomial distribution and the Poisson distribution are both probability distributions used to model the \\nnumber of occurrences of events. However, they are used in different scenarios and have different characteristics:\\n1.Number of Trials:\\n.Binomial Distribution: The number of trials is fixed (denoted by n).\\n.Poisson Distribution: There is no fixed number of trials; it models events occurring in a fixed interval of \\n      time or space.\\n2.Nature of Events:\\n.Binomial Distribution: Each trial results in one of two outcomes (success or failure).\\n.Poisson Distribution: It models the number of occurrences of rare events over a fixed interval of time or space.\\n3.Parameters:\\n.Binomial Distribution: It is defined by two parameters: the probability of success (p) and the number\\n        of trials (n).\\n.Poisson Distribution: It is defined by one parameter: the average rate of occurrence (λ).\\n4.Assumptions:\\n.Binomial Distribution: Assumes a fixed number of trials, each with a constant probability of success, \\n        and the trials are independent.\\n.Poisson Distribution: Assumes events occur randomly and independently at a constant average rate.\\n5.Probability Function:\\n.Binomial Distribution: The probability mass function (PMF) of the binomial distribution gives the probability of \\n   getting exactly k successes in n trials.\\n.Poisson Distribution: The probability mass function (PMF) of the Poisson distribution gives the probability of \\n   getting exactly k occurrences of an event in a fixed interval of time or space.\\n    \\n6.Limiting Behavior:\\n.Binomial Distribution: As the number of trials (n) increases and the probability of success (p) approaches zero\\n in such a way that the product np remains constant, the binomial distribution approaches the Poisson distribution.\\n.Poisson Distribution: It is often used as an approximation of the binomial distribution when the number of trials\\n  is large and the probability of success is small. '"
      ]
     },
     "execution_count": 5,
     "metadata": {},
     "output_type": "execute_result"
    }
   ],
   "source": [
    "'''Q7. How Binomial distribution different from Poisson distribution?\n",
    "\n",
    "\n",
    "The binomial distribution and the Poisson distribution are both probability distributions used to model the \n",
    "number of occurrences of events. However, they are used in different scenarios and have different characteristics:\n",
    "1.Number of Trials:\n",
    ".Binomial Distribution: The number of trials is fixed (denoted by n).\n",
    ".Poisson Distribution: There is no fixed number of trials; it models events occurring in a fixed interval of \n",
    "      time or space.\n",
    "2.Nature of Events:\n",
    ".Binomial Distribution: Each trial results in one of two outcomes (success or failure).\n",
    ".Poisson Distribution: It models the number of occurrences of rare events over a fixed interval of time or space.\n",
    "3.Parameters:\n",
    ".Binomial Distribution: It is defined by two parameters: the probability of success (p) and the number\n",
    "        of trials (n).\n",
    ".Poisson Distribution: It is defined by one parameter: the average rate of occurrence (λ).\n",
    "4.Assumptions:\n",
    ".Binomial Distribution: Assumes a fixed number of trials, each with a constant probability of success, \n",
    "        and the trials are independent.\n",
    ".Poisson Distribution: Assumes events occur randomly and independently at a constant average rate.\n",
    "5.Probability Function:\n",
    ".Binomial Distribution: The probability mass function (PMF) of the binomial distribution gives the probability of \n",
    "   getting exactly k successes in n trials.\n",
    ".Poisson Distribution: The probability mass function (PMF) of the Poisson distribution gives the probability of \n",
    "   getting exactly k occurrences of an event in a fixed interval of time or space.\n",
    "    \n",
    "6.Limiting Behavior:\n",
    ".Binomial Distribution: As the number of trials (n) increases and the probability of success (p) approaches zero\n",
    " in such a way that the product np remains constant, the binomial distribution approaches the Poisson distribution.\n",
    ".Poisson Distribution: It is often used as an approximation of the binomial distribution when the number of trials\n",
    "  is large and the probability of success is small. '''   "
   ]
  },
  {
   "cell_type": "code",
   "execution_count": 6,
   "id": "e0a7481d-f545-465e-83d8-f58d3e467ed7",
   "metadata": {},
   "outputs": [
    {
     "name": "stdout",
     "output_type": "stream",
     "text": [
      "Sample Mean: 4.949\n",
      "Sample Variance: 5.088398999999999\n"
     ]
    }
   ],
   "source": [
    "'''Q8. Generate a random sample of size 1000 from a Poisson distribution with mean 5 and calculate the\n",
    "sample mean and variance.'''\n",
    "\n",
    "import numpy as np\n",
    "\n",
    "# Generate random sample from Poisson distribution\n",
    "sample_size = 1000\n",
    "mean = 5\n",
    "random_sample = np.random.poisson(mean, sample_size)\n",
    "\n",
    "# Calculate sample mean and variance\n",
    "sample_mean = np.mean(random_sample)\n",
    "sample_variance = np.var(random_sample)\n",
    "\n",
    "print(f\"Sample Mean: {sample_mean}\")\n",
    "print(f\"Sample Variance: {sample_variance}\")\n"
   ]
  },
  {
   "cell_type": "code",
   "execution_count": 7,
   "id": "108111d7-e1fc-47a8-b03b-0239d8be7992",
   "metadata": {},
   "outputs": [
    {
     "data": {
      "text/plain": [
       "'Q9. How mean and variance are related in Binomial distribution and Poisson distribution?\\n\\nIn both the binomial and Poisson distributions, the mean (μ) and variance (σ 2) are related, but their specific\\n  relationships differ due to the nature of these distributions.\\n1.Binomial Distribution:\\n\\n.Mean: For a binomial distribution with parameters n (number of trials) and p (probability of success), the mean \\n    is given by μ=np.\\n.Variance: The variance of a binomial distribution is given by 2=(1−)σ 2 =np(1−p).In the binomial distribution, \\n  the variance depends on both the number of trials and the probability of success. As the probability of success\\n    (p) or the number of trials (n) increases, the variance tends to increase as well.  \\n    \\n2.Poisson Distribution:\\n\\nMean: For a Poisson distribution, the mean (λ) is equal to both the expected value and the variance.\\n   Therefore, μ=σ 2=λ.In the Poisson distribution, the variance is solely determined by the mean (λ). As the \\n    mean (λ) increases, the variance also increases.  '"
      ]
     },
     "execution_count": 7,
     "metadata": {},
     "output_type": "execute_result"
    }
   ],
   "source": [
    "'''Q9. How mean and variance are related in Binomial distribution and Poisson distribution?\n",
    "\n",
    "In both the binomial and Poisson distributions, the mean (μ) and variance (σ 2) are related, but their specific\n",
    "  relationships differ due to the nature of these distributions.\n",
    "1.Binomial Distribution:\n",
    "\n",
    ".Mean: For a binomial distribution with parameters n (number of trials) and p (probability of success), the mean \n",
    "    is given by μ=np.\n",
    ".Variance: The variance of a binomial distribution is given by 2=(1−)σ 2 =np(1−p).In the binomial distribution, \n",
    "  the variance depends on both the number of trials and the probability of success. As the probability of success\n",
    "    (p) or the number of trials (n) increases, the variance tends to increase as well.  \n",
    "    \n",
    "2.Poisson Distribution:\n",
    "\n",
    "Mean: For a Poisson distribution, the mean (λ) is equal to both the expected value and the variance.\n",
    "   Therefore, μ=σ 2=λ.In the Poisson distribution, the variance is solely determined by the mean (λ). As the \n",
    "    mean (λ) increases, the variance also increases.  '''  "
   ]
  },
  {
   "cell_type": "code",
   "execution_count": 8,
   "id": "b2658c4a-a4f2-44dd-8e12-f17a1e3d1f13",
   "metadata": {},
   "outputs": [
    {
     "data": {
      "text/plain": [
       "'Q10. In normal distribution with respect to mean position, where does the least frequent data appear?\\n\\nIn a normal distribution, the least frequent data appear at the tails of the distribution, farthest from the mean.\\nSpecifically, since the normal distribution is symmetric, the least frequent data points are located at the \\nextreme ends of the distribution, which are the tails. These data points are farthest from the mean, and \\nthey represent the rarest occurrences in the distribution.\\nIn standard normal distribution (mean = 0, standard deviation = 1), the least frequent data appear in the tails \\nbeyond approximately ±2 standard deviations from the mean. About 5% of the data fall beyond ±2 standard \\ndeviations, and this percentage decreases further as you move away from the mean.'"
      ]
     },
     "execution_count": 8,
     "metadata": {},
     "output_type": "execute_result"
    }
   ],
   "source": [
    "'''Q10. In normal distribution with respect to mean position, where does the least frequent data appear?\n",
    "\n",
    "In a normal distribution, the least frequent data appear at the tails of the distribution, farthest from the mean.\n",
    "Specifically, since the normal distribution is symmetric, the least frequent data points are located at the \n",
    "extreme ends of the distribution, which are the tails. These data points are farthest from the mean, and \n",
    "they represent the rarest occurrences in the distribution.\n",
    "In standard normal distribution (mean = 0, standard deviation = 1), the least frequent data appear in the tails \n",
    "beyond approximately ±2 standard deviations from the mean. About 5% of the data fall beyond ±2 standard \n",
    "deviations, and this percentage decreases further as you move away from the mean.'''"
   ]
  },
  {
   "cell_type": "code",
   "execution_count": null,
   "id": "18231020-603f-4f0d-8513-e4b9cfb4450e",
   "metadata": {},
   "outputs": [],
   "source": []
  }
 ],
 "metadata": {
  "kernelspec": {
   "display_name": "Python 3 (ipykernel)",
   "language": "python",
   "name": "python3"
  },
  "language_info": {
   "codemirror_mode": {
    "name": "ipython",
    "version": 3
   },
   "file_extension": ".py",
   "mimetype": "text/x-python",
   "name": "python",
   "nbconvert_exporter": "python",
   "pygments_lexer": "ipython3",
   "version": "3.10.8"
  }
 },
 "nbformat": 4,
 "nbformat_minor": 5
}
