{
 "cells": [
  {
   "cell_type": "code",
   "execution_count": 1,
   "id": "9c5bdbea-5e97-4f19-9f00-36956edd91ac",
   "metadata": {},
   "outputs": [
    {
     "name": "stdout",
     "output_type": "stream",
     "text": [
      "Invalid Password\n",
      "Invalid Password\n",
      "Invalid Password\n",
      "Invalid Password\n",
      "Invalid Password\n"
     ]
    }
   ],
   "source": [
    "'''Q1. You are writing code for a company. The requirement of the company is that you create a python\n",
    "function that will check whether the password entered by the user is correct or not. The function should\n",
    "take the password as input and return the string “Valid Password” if the entered password follows the\n",
    "below-given password guidelines else it should return “Invalid Password”.\n",
    "Note: 1. The Password should contain at least two uppercase letters and at least two lowercase letters.\n",
    "2. The Password should contain at least a number and three special characters.\n",
    "3. The length of the password should be 10 characters long.'''\n",
    "import re\n",
    "\n",
    "def validate_password(password):\n",
    "    # Check length\n",
    "    if len(password) != 10:\n",
    "        return \"Invalid Password\"\n",
    "\n",
    "    # Count uppercase and lowercase letters\n",
    "    uppercase_count = sum(1 for char in password if char.isupper())\n",
    "    lowercase_count = sum(1 for char in password if char.islower())\n",
    "    \n",
    "    # Count digits and special characters using regular expressions\n",
    "    digit_count = sum(1 for char in password if char.isdigit())\n",
    "    special_char_count = len(re.findall(r'[!@#$%^&*(),.?\":{}|<>]', password))\n",
    "\n",
    "    # Check conditions\n",
    "    if uppercase_count >= 2 and lowercase_count >= 2 and digit_count >= 1 and special_char_count >= 3:\n",
    "        return \"Valid Password\"\n",
    "    else:\n",
    "        return \"Invalid Password\"\n",
    "\n",
    "# Test cases\n",
    "print(validate_password(\"Abc123!!!@\"))  # Valid Password\n",
    "print(validate_password(\"abc123!!!@\"))  # Invalid Password (no uppercase)\n",
    "print(validate_password(\"ABC123!!!@\"))  # Invalid Password (no lowercase)\n",
    "print(validate_password(\"Abc123\"))      # Invalid Password (no special characters)\n",
    "print(validate_password(\"Abc123!!!\"))   # Invalid Password (length is not 10)\n"
   ]
  },
  {
   "cell_type": "code",
   "execution_count": 3,
   "id": "050567f6-f7f8-465f-858d-f0cbac194bc6",
   "metadata": {},
   "outputs": [
    {
     "name": "stdout",
     "output_type": "stream",
     "text": [
      "True\n",
      "False\n"
     ]
    }
   ],
   "source": [
    "'''Q2. Solve the below-given questions using at least one of the following:\n",
    "1. Lambda functioJ\n",
    "2. Filter functioJ\n",
    "3. Zap functioJ\n",
    "4. List ComprehensioI\n",
    "B Check if the string starts with a particular letterY\n",
    "B Check if the string is numericY\n",
    "B Sort a list of tuples having fruit names and their quantity. [(\"mango\",99),(\"orange\",80), (\"grapes\", 1000)-\n",
    "B Find the squares of numbers from 1 to 10Y\n",
    "B Find the cube root of numbers from 1 to 10Y\n",
    "B Check if a given number is evenY\n",
    "B Filter odd numbers from the given list.\n",
    "[1,2,3,4,5,6,7,8,9,10-\n",
    "B Sort a list of integers into positive and negative integers lists.\n",
    "[1,2,3,4,5,6,-1,-2,-3,-4,-5,0]'''\n",
    "#1.Check if the string starts with a particular letter:\n",
    "#Using str.startswith() with a lambda function:\n",
    "starts_with_a = lambda s: s.startswith('a')\n",
    "print(starts_with_a(\"apple\"))  # True\n",
    "print(starts_with_a(\"banana\"))  # False\n"
   ]
  },
  {
   "cell_type": "code",
   "execution_count": 4,
   "id": "7d8a017a-b4d5-46b0-8fd1-595c44559838",
   "metadata": {},
   "outputs": [
    {
     "name": "stdout",
     "output_type": "stream",
     "text": [
      "True\n",
      "False\n"
     ]
    }
   ],
   "source": [
    "#2.Check if the string is numeric:\n",
    "#Using str.isnumeric() with a lambda function:\n",
    "is_numeric = lambda s: s.isnumeric()\n",
    "print(is_numeric(\"123\"))  # True\n",
    "print(is_numeric(\"abc\"))  # False\n"
   ]
  },
  {
   "cell_type": "code",
   "execution_count": 5,
   "id": "a3b0a5c2-372b-45d4-82e1-a9d5115dd420",
   "metadata": {},
   "outputs": [
    {
     "name": "stdout",
     "output_type": "stream",
     "text": [
      "[('orange', 80), ('mango', 99), ('grapes', 1000)]\n"
     ]
    }
   ],
   "source": [
    "#3.Sort a list of tuples having fruit names and their quantity:\n",
    "#Using sorted() with a lambda function as the key:\n",
    "fruits = [(\"mango\", 99), (\"orange\", 80), (\"grapes\", 1000)]\n",
    "sorted_fruits = sorted(fruits, key=lambda x: x[1])\n",
    "print(sorted_fruits)\n"
   ]
  },
  {
   "cell_type": "code",
   "execution_count": 6,
   "id": "dc170d4e-d10a-4ae4-9b72-58394c286075",
   "metadata": {},
   "outputs": [
    {
     "name": "stdout",
     "output_type": "stream",
     "text": [
      "[1, 4, 9, 16, 25, 36, 49, 64, 81, 100]\n"
     ]
    }
   ],
   "source": [
    "#4.Find the squares of numbers from 1 to 10:\n",
    "#Using list comprehension:\n",
    "squares = [x ** 2 for x in range(1, 11)]\n",
    "print(squares)\n"
   ]
  },
  {
   "cell_type": "code",
   "execution_count": 7,
   "id": "c4a7a692-6393-483a-bc0e-a51f1eb2ffcd",
   "metadata": {},
   "outputs": [
    {
     "name": "stdout",
     "output_type": "stream",
     "text": [
      "[1.0, 1.2599210498948732, 1.4422495703074083, 1.5874010519681994, 1.7099759466766968, 1.8171205928321397, 1.912931182772389, 2.0, 2.080083823051904, 2.154434690031884]\n"
     ]
    }
   ],
   "source": [
    "#5.Find the cube root of numbers from 1 to 10:\n",
    "#Using list comprehension and the math module:\n",
    "import math\n",
    "cube_roots = [math.pow(x, 1/3) for x in range(1, 11)]\n",
    "print(cube_roots)\n"
   ]
  },
  {
   "cell_type": "code",
   "execution_count": 8,
   "id": "c094e585-de2f-4eac-8d56-a5b7317435e2",
   "metadata": {},
   "outputs": [
    {
     "name": "stdout",
     "output_type": "stream",
     "text": [
      "True\n",
      "False\n"
     ]
    }
   ],
   "source": [
    "#6.Check if a given number is even:\n",
    "#Using a lambda function and the modulo operator:\n",
    "is_even = lambda x: x % 2 == 0\n",
    "print(is_even(4))  # True\n",
    "print(is_even(5))  # False\n"
   ]
  },
  {
   "cell_type": "code",
   "execution_count": 9,
   "id": "a2a12629-2f57-43ff-828c-ef8135a69399",
   "metadata": {},
   "outputs": [
    {
     "name": "stdout",
     "output_type": "stream",
     "text": [
      "[1, 3, 5, 7, 9]\n"
     ]
    }
   ],
   "source": [
    "#7.Filter odd numbers from the given list:\n",
    "#Using filter() with a lambda function:\n",
    "numbers = [1, 2, 3, 4, 5, 6, 7, 8, 9, 10]\n",
    "odd_numbers = list(filter(lambda x: x % 2 != 0, numbers))\n",
    "print(odd_numbers)\n"
   ]
  },
  {
   "cell_type": "code",
   "execution_count": 10,
   "id": "71ae965e-3824-482b-ac5e-1fb791e75f63",
   "metadata": {},
   "outputs": [
    {
     "name": "stdout",
     "output_type": "stream",
     "text": [
      "[1, 2, 3, 4, 5, 6]\n",
      "[-1, -2, -3, -4, -5]\n"
     ]
    }
   ],
   "source": [
    "#8.Sort a list of integers into positive and negative integers lists:\n",
    "#Using list comprehension and the abs() function:\n",
    "numbers = [1, 2, 3, 4, 5, 6, -1, -2, -3, -4, -5, 0]\n",
    "positive_numbers = [x for x in numbers if x > 0]\n",
    "negative_numbers = [x for x in numbers if x < 0]\n",
    "print(positive_numbers)\n",
    "print(negative_numbers)\n",
    "\n"
   ]
  },
  {
   "cell_type": "code",
   "execution_count": null,
   "id": "d444ea41-f681-4bea-ac26-945cb0713e60",
   "metadata": {},
   "outputs": [],
   "source": []
  }
 ],
 "metadata": {
  "kernelspec": {
   "display_name": "Python 3 (ipykernel)",
   "language": "python",
   "name": "python3"
  },
  "language_info": {
   "codemirror_mode": {
    "name": "ipython",
    "version": 3
   },
   "file_extension": ".py",
   "mimetype": "text/x-python",
   "name": "python",
   "nbconvert_exporter": "python",
   "pygments_lexer": "ipython3",
   "version": "3.10.8"
  }
 },
 "nbformat": 4,
 "nbformat_minor": 5
}
