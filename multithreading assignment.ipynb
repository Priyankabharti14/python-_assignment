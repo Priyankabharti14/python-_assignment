{
 "cells": [
  {
   "cell_type": "code",
   "execution_count": 2,
   "id": "4806b73f-ef48-4397-a741-1a7059ab39dc",
   "metadata": {},
   "outputs": [
    {
     "data": {
      "text/plain": [
       "\"Q1. What is multithreading in python? hy is it used? Name the module used to handle threads in python\\n\\nMultithreading in Python refers to the ability of the Python interpreter to execute multiple threads\\n(smaller units of a program) concurrently within the same process. Each thread represents an independent flow \\nof control, allowing multiple tasks to be executed concurrently. Python's Global Interpreter Lock (GIL) restricts\\ntrue parallel execution of threads due to the GIL's serialization of access to Python objects, but multithreading \\ncan still be beneficial in certain situations, such as I/O-bound tasks, \\nwhere threads are often waiting for I/O operations to complete.\\n\\nUsed = Multithreading is used to achieve parallelism and to better utilize the available resources, particularly\\nin scenarios where the tasks involve I/O operations, such as reading and writing files, network communication,\\nor interacting with databases. In these cases, while one thread is waiting for an I/O operation to complete, \\nother threads can continue executing, improving the overall program efficiency.\\n\\nModule = Python provides the threading module to handle threads. This module provides a way to create and manage\\nthreads, allowing you to take advantage of multithreading in your programs. The threading module provides classes \\nand functions for working with threads, such as creating threads, synchronizing their execution,\\nand managing shared resources safely using locks.\""
      ]
     },
     "execution_count": 2,
     "metadata": {},
     "output_type": "execute_result"
    }
   ],
   "source": [
    "'''Q1. What is multithreading in python? hy is it used? Name the module used to handle threads in python\n",
    "\n",
    "Multithreading in Python refers to the ability of the Python interpreter to execute multiple threads\n",
    "(smaller units of a program) concurrently within the same process. Each thread represents an independent flow \n",
    "of control, allowing multiple tasks to be executed concurrently. Python's Global Interpreter Lock (GIL) restricts\n",
    "true parallel execution of threads due to the GIL's serialization of access to Python objects, but multithreading \n",
    "can still be beneficial in certain situations, such as I/O-bound tasks, \n",
    "where threads are often waiting for I/O operations to complete.\n",
    "\n",
    "Used = Multithreading is used to achieve parallelism and to better utilize the available resources, particularly\n",
    "in scenarios where the tasks involve I/O operations, such as reading and writing files, network communication,\n",
    "or interacting with databases. In these cases, while one thread is waiting for an I/O operation to complete, \n",
    "other threads can continue executing, improving the overall program efficiency.\n",
    "\n",
    "Module = Python provides the threading module to handle threads. This module provides a way to create and manage\n",
    "threads, allowing you to take advantage of multithreading in your programs. The threading module provides classes \n",
    "and functions for working with threads, such as creating threads, synchronizing their execution,\n",
    "and managing shared resources safely using locks.'''"
   ]
  },
  {
   "cell_type": "code",
   "execution_count": 4,
   "id": "95760cea-c5e6-43a7-92cb-dc3f0086c722",
   "metadata": {},
   "outputs": [
    {
     "name": "stdout",
     "output_type": "stream",
     "text": [
      "Active threads: 8\n",
      "Active threads: [<_MainThread(MainThread, started 140586707646272)>, <Thread(IOPub, started daemon 140586637116992)>, <Heartbeat(Heartbeat, started daemon 140586560517696)>, <Thread(Thread-3 (_watch_pipe_fd), started daemon 140586535339584)>, <Thread(Thread-4 (_watch_pipe_fd), started daemon 140586526946880)>, <ControlThread(Control, started daemon 140586518554176)>, <HistorySavingThread(IPythonHistorySavingThread, started 140586510161472)>, <ParentPollerUnix(Thread-2, started daemon 140586090755648)>]\n"
     ]
    },
    {
     "name": "stderr",
     "output_type": "stream",
     "text": [
      "/tmp/ipykernel_3302/3254679026.py:23: DeprecationWarning: activeCount() is deprecated, use active_count() instead\n",
      "  print(\"Active threads:\", threading.activeCount())\n"
     ]
    },
    {
     "data": {
      "text/plain": [
       "'3.enumerate(): This function returns a list of all Thread objects currently alive. Each Thread object in \\nthe listcorresponds to an active thread.'"
      ]
     },
     "execution_count": 4,
     "metadata": {},
     "output_type": "execute_result"
    }
   ],
   "source": [
    "'''Q2. Why threading module used? write the use of the following functions\n",
    "1.activeCount()\n",
    "2.currentThread()\n",
    "3.enumerate()\n",
    "\n",
    "The threading module in Python is used to work with threads, allowing you to create, manage, and coordinate\n",
    "multiple threads within a single program. It provides a way to achieve concurrency and parallelism, particularly \n",
    "for scenarios involving I/O-bound tasks where threads can wait for I/O operations to complete\n",
    "\n",
    "1.activeCount(): This function returns the number of Thread objects currently alive. It counts all the threads\n",
    "that have been created using the threading module and are still active '''\n",
    "\n",
    "import threading\n",
    "\n",
    "def worker():\n",
    "    pass\n",
    "\n",
    "thread1 = threading.Thread(target=worker)\n",
    "thread2 = threading.Thread(target=worker)\n",
    "\n",
    "thread1.start()\n",
    "thread2.start()\n",
    "print(\"Active threads:\", threading.activeCount()) \n",
    "\n",
    "threads = threading.enumerate()\n",
    "print(\"Active threads:\", threads) \n",
    "\n",
    "'''2.currentThread(): This function returns the Thread object corresponding to the current thread of execution. \n",
    "You can use this function to access and manipulate the attributes of the current thread.'''\n",
    "\n",
    "'''3.enumerate(): This function returns a list of all Thread objects currently alive. Each Thread object in \n",
    "the listcorresponds to an active thread.'''"
   ]
  },
  {
   "cell_type": "code",
   "execution_count": 5,
   "id": "4aa82346-ef8c-4071-ad3a-71924ab2000c",
   "metadata": {},
   "outputs": [
    {
     "data": {
      "text/plain": [
       "\"Q3. Explain the following functions:\\n1.run()\\n2.start()\\n3.join()\\n4.isAlive()\\n\\n1.run(): The run() method is the entry point for the thread's activity. It's the method that gets executed when you\\ncall start() on a Thread object. You can subclass the Thread class and override the run() method to define the\\ncode that the thread should execute. The run() method should contain the logic that you want the thread to perform.\\n\\n2.start(): The start() method is used to initiate the execution of the thread's run() method. It begins the\\nthread's activity and calls the run() method asynchronously. You can't call the run() method directly if you\\nwant to run your code in a separate thread; you must call start().\\n\\n3.join(): The join() method is used to wait for a thread to complete its execution. When you call join() on a \\nThread object, the calling thread (usually the main thread) will pause and wait until the specified thread \\nfinishes its execution. \""
      ]
     },
     "execution_count": 5,
     "metadata": {},
     "output_type": "execute_result"
    }
   ],
   "source": [
    "'''Q3. Explain the following functions:\n",
    "1.run()\n",
    "2.start()\n",
    "3.join()\n",
    "4.isAlive()\n",
    "\n",
    "1.run(): The run() method is the entry point for the thread's activity. It's the method that gets executed when you\n",
    "call start() on a Thread object. You can subclass the Thread class and override the run() method to define the\n",
    "code that the thread should execute. The run() method should contain the logic that you want the thread to perform.\n",
    "\n",
    "2.start(): The start() method is used to initiate the execution of the thread's run() method. It begins the\n",
    "thread's activity and calls the run() method asynchronously. You can't call the run() method directly if you\n",
    "want to run your code in a separate thread; you must call start().\n",
    "\n",
    "3.join(): The join() method is used to wait for a thread to complete its execution. When you call join() on a \n",
    "Thread object, the calling thread (usually the main thread) will pause and wait until the specified thread \n",
    "finishes its execution. '''"
   ]
  },
  {
   "cell_type": "code",
   "execution_count": 6,
   "id": "edf243c1-0178-4c4b-97b1-d8d5c7de2ee2",
   "metadata": {},
   "outputs": [
    {
     "name": "stdout",
     "output_type": "stream",
     "text": [
      "Square of 1: 1\n",
      "Square of 2: 4\n",
      "Square of 3: 9\n",
      "Square of 4: 16\n",
      "Square of 5: 25\n",
      "Cube of 1: 1\n",
      "Cube of 2: 8\n",
      "Cube of 3: 27\n",
      "Cube of 4: 64\n",
      "Cube of 5: 125\n",
      "Both threads have finished.\n"
     ]
    }
   ],
   "source": [
    "'''Q4. Write a python program to create two threads. Thread one must print the list of squares and thread\n",
    "two must print the list of cubes.'''\n",
    "\n",
    "import threading\n",
    "\n",
    "def print_squares(numbers):\n",
    "    for num in numbers:\n",
    "        print(f\"Square of {num}: {num ** 2}\")\n",
    "\n",
    "def print_cubes(numbers):\n",
    "    for num in numbers:\n",
    "        print(f\"Cube of {num}: {num ** 3}\")\n",
    "\n",
    "numbers = [1, 2, 3, 4, 5]\n",
    "\n",
    "# Create threads\n",
    "square_thread = threading.Thread(target=print_squares, args=(numbers,))\n",
    "cube_thread = threading.Thread(target=print_cubes, args=(numbers,))\n",
    "\n",
    "# Start threads\n",
    "square_thread.start()\n",
    "cube_thread.start()\n",
    "\n",
    "# Wait for both threads to finish\n",
    "square_thread.join()\n",
    "cube_thread.join()\n",
    "\n",
    "print(\"Both threads have finished.\")\n"
   ]
  },
  {
   "cell_type": "code",
   "execution_count": 7,
   "id": "ac4590da-be21-435e-9e13-0765df231351",
   "metadata": {},
   "outputs": [
    {
     "data": {
      "text/plain": [
       "\"Q5. State advantages and disadvantages of multithreading.\\n\\nAdvantages of Multithreading:\\n\\n1.Concurrency and Parallelism: Multithreading enables concurrent execution of tasks, allowing different parts of \\n    a program to run in parallel.\\n2.Responsiveness: In applications with graphical user interfaces (GUIs) or event-driven architectures,\\n    multithreading can help maintain responsiveness by ensuring that time-consuming tasks don't block the \\n    main thread,which is responsible for handling user input and interactions.\\n3.Simplicity: Threads can simplify certain programming scenarios compared to managing multiple separate processes,\\n    as they share memory space and can directly interact with each other.\\n4.Resource Sharing: Threads within the same process share memory space, making it easier to share data and\\n    communicate between threads without the need for explicit inter-process communication mechanisms.  \\n    \\nDisadvantages of Multithreading:\\n    \\n1.Complexity: Multithreaded programming introduces complexity due to the potential for race conditions, deadlocks,\\n    and other synchronization issues. Debugging and managing thread-related issues can be challenging.  \\n2.Resource Contentions: Threads within the same process can compete for system resources, potentially causing \\n    contention and slowing down performance if not managed properly.   \\n3.Race Conditions: Race conditions occur when multiple threads access shared resources simultaneously and lead\\n    to unpredictable behavior.\\n4.Deadlocks: Deadlocks occur when two or more threads wait for each other to release resources, preventing \\n    any of them from progressing. \""
      ]
     },
     "execution_count": 7,
     "metadata": {},
     "output_type": "execute_result"
    }
   ],
   "source": [
    "'''Q5. State advantages and disadvantages of multithreading.\n",
    "\n",
    "Advantages of Multithreading:\n",
    "\n",
    "1.Concurrency and Parallelism: Multithreading enables concurrent execution of tasks, allowing different parts of \n",
    "    a program to run in parallel.\n",
    "2.Responsiveness: In applications with graphical user interfaces (GUIs) or event-driven architectures,\n",
    "    multithreading can help maintain responsiveness by ensuring that time-consuming tasks don't block the \n",
    "    main thread,which is responsible for handling user input and interactions.\n",
    "3.Simplicity: Threads can simplify certain programming scenarios compared to managing multiple separate processes,\n",
    "    as they share memory space and can directly interact with each other.\n",
    "4.Resource Sharing: Threads within the same process share memory space, making it easier to share data and\n",
    "    communicate between threads without the need for explicit inter-process communication mechanisms.  \n",
    "    \n",
    "Disadvantages of Multithreading:\n",
    "    \n",
    "1.Complexity: Multithreaded programming introduces complexity due to the potential for race conditions, deadlocks,\n",
    "    and other synchronization issues. Debugging and managing thread-related issues can be challenging.  \n",
    "2.Resource Contentions: Threads within the same process can compete for system resources, potentially causing \n",
    "    contention and slowing down performance if not managed properly.   \n",
    "3.Race Conditions: Race conditions occur when multiple threads access shared resources simultaneously and lead\n",
    "    to unpredictable behavior.\n",
    "4.Deadlocks: Deadlocks occur when two or more threads wait for each other to release resources, preventing \n",
    "    any of them from progressing. '''   "
   ]
  },
  {
   "cell_type": "code",
   "execution_count": 8,
   "id": "8432b61e-ee1b-433b-af64-b718ab29eaa1",
   "metadata": {},
   "outputs": [
    {
     "data": {
      "text/plain": [
       "'Q6. Explain deadlocks and race conditions.\\n\\nDeadlocks:\\nA deadlock is a situation that occurs in a concurrent system when two or more processes or threads become stuck \\nin a circular waiting state, each waiting for a resource that the other process holds.As a result, none of the\\nprocesses can proceed, and the entire system comes to a halt.\\nDeadlocks typically involve a set of processes and a set of resources that these processes are contending for.\\n\\nRace Conditions:\\nA race condition is a situation in which the behavior of a program depends on the relative timing or order of \\nexecution of its concurrent components, such as threads or processes. It arises when multiple threads or processes\\naccess shared resources or variables concurrently, and at least one of them modifies the resource. The final\\noutcome of the program becomes unpredictable because it depends on the exact order in which the threads execute.'"
      ]
     },
     "execution_count": 8,
     "metadata": {},
     "output_type": "execute_result"
    }
   ],
   "source": [
    "'''Q6. Explain deadlocks and race conditions.\n",
    "\n",
    "Deadlocks:\n",
    "A deadlock is a situation that occurs in a concurrent system when two or more processes or threads become stuck \n",
    "in a circular waiting state, each waiting for a resource that the other process holds.As a result, none of the\n",
    "processes can proceed, and the entire system comes to a halt.\n",
    "Deadlocks typically involve a set of processes and a set of resources that these processes are contending for.\n",
    "\n",
    "Race Conditions:\n",
    "A race condition is a situation in which the behavior of a program depends on the relative timing or order of \n",
    "execution of its concurrent components, such as threads or processes. It arises when multiple threads or processes\n",
    "access shared resources or variables concurrently, and at least one of them modifies the resource. The final\n",
    "outcome of the program becomes unpredictable because it depends on the exact order in which the threads execute.'''\n"
   ]
  },
  {
   "cell_type": "code",
   "execution_count": null,
   "id": "ecab8fc5-8061-4f38-a339-83ba0f232190",
   "metadata": {},
   "outputs": [],
   "source": []
  }
 ],
 "metadata": {
  "kernelspec": {
   "display_name": "Python 3 (ipykernel)",
   "language": "python",
   "name": "python3"
  },
  "language_info": {
   "codemirror_mode": {
    "name": "ipython",
    "version": 3
   },
   "file_extension": ".py",
   "mimetype": "text/x-python",
   "name": "python",
   "nbconvert_exporter": "python",
   "pygments_lexer": "ipython3",
   "version": "3.10.8"
  }
 },
 "nbformat": 4,
 "nbformat_minor": 5
}
