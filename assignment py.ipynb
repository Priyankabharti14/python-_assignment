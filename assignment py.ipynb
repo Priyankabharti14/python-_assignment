{
 "cells": [
  {
   "cell_type": "code",
   "execution_count": 1,
   "id": "97b1f970-1c6b-4ce1-bcce-d7d2d8e36693",
   "metadata": {},
   "outputs": [
    {
     "data": {
      "text/plain": [
       "'Q1.who developed python programming language?\\n Python was created by Guido van Rossum. He started working on Python in the late 1980s, and the language was first released in February 1991 as Python 0.9.0. \\nGuido van Rossum continued to lead the development of Python until he stepped down\\nfrom the position of \"Benevolent Dictator For Life\" (BDFL) in July 2018. Since then,\\nPython\\'s development has been managed by the Python Steering Council,\\na group of core developers responsible for making decisions about the language\\'s development and direction.'"
      ]
     },
     "execution_count": 1,
     "metadata": {},
     "output_type": "execute_result"
    }
   ],
   "source": [
    "'''Q1.who developed python programming language?\n",
    " Python was created by Guido van Rossum. He started working on Python in the late 1980s, and the language was first released in February 1991 as Python 0.9.0. \n",
    "Guido van Rossum continued to lead the development of Python until he stepped down\n",
    "from the position of \"Benevolent Dictator For Life\" (BDFL) in July 2018. Since then,\n",
    "Python's development has been managed by the Python Steering Council,\n",
    "a group of core developers responsible for making decisions about the language's development and direction.'''"
   ]
  },
  {
   "cell_type": "code",
   "execution_count": 3,
   "id": "d33c1372-9af1-49d8-ab6b-82f11f8fe553",
   "metadata": {},
   "outputs": [
    {
     "data": {
      "text/plain": [
       "\"Q2.which type of programming does python support?\\n Ans= Python is a versatile programming language that supports various programming paradigms, \\nmaking it suitable for a wide range of applications. Here are the main programming paradigms that Python supports:\\n\\n1.Imperative Programming: Python allows you to write code that consists of a series of\\n            statements that change a program's state. This is the most common programming style\\n2.Object-Oriented Programming (OOP): Python is an object-oriented language, which means you can define\\n            and use classes and objects to structure your code in a modular and reusable way.             \\n3.Functional Programming: Python also supports functional programming concepts. \\n    You can use functions as first-class citizens, pass them as arguments, and return them as values.           \\n4.High-Level Language: Python is considered a high-level language, abstracting many low-level details\\n                and providing built-in functions and libraries for various tasks.\\n                This makes development faster and more accessible.\""
      ]
     },
     "execution_count": 3,
     "metadata": {},
     "output_type": "execute_result"
    }
   ],
   "source": [
    "'''Q2.which type of programming does python support?\n",
    " Ans= Python is a versatile programming language that supports various programming paradigms, \n",
    "making it suitable for a wide range of applications. Here are the main programming paradigms that Python supports:\n",
    "\n",
    "1.Imperative Programming: Python allows you to write code that consists of a series of\n",
    "            statements that change a program's state. This is the most common programming style\n",
    "2.Object-Oriented Programming (OOP): Python is an object-oriented language, which means you can define\n",
    "            and use classes and objects to structure your code in a modular and reusable way.             \n",
    "3.Functional Programming: Python also supports functional programming concepts. \n",
    "    You can use functions as first-class citizens, pass them as arguments, and return them as values.           \n",
    "4.High-Level Language: Python is considered a high-level language, abstracting many low-level details\n",
    "                and providing built-in functions and libraries for various tasks.\n",
    "                This makes development faster and more accessible.'''"
   ]
  },
  {
   "cell_type": "code",
   "execution_count": 2,
   "id": "34782986-8cfd-454d-b4eb-c6db8ea149a9",
   "metadata": {},
   "outputs": [
    {
     "data": {
      "text/plain": [
       "'Q3.Is python case sensitive when dealing with identifiers?\\nAns = Yes, Python is case-sensitive when dealing with identifiers.\\n        This means that variables, function names, class names, and other identifiers \\n        in Python are treated as distinct based on their case.'"
      ]
     },
     "execution_count": 2,
     "metadata": {},
     "output_type": "execute_result"
    }
   ],
   "source": [
    "'''Q3.Is python case sensitive when dealing with identifiers?\n",
    "Ans = Yes, Python is case-sensitive when dealing with identifiers.\n",
    "        This means that variables, function names, class names, and other identifiers \n",
    "        in Python are treated as distinct based on their case.'''\n",
    "\n"
   ]
  },
  {
   "cell_type": "code",
   "execution_count": 4,
   "id": "b81d3c95-aad4-4ddc-ba7a-394123367ba7",
   "metadata": {},
   "outputs": [
    {
     "data": {
      "text/plain": [
       "'Q4.what is the correct extension of the python file?\\nAns = The correct extension for Python files is .py. When you save a Python script, you should use\\n      a file name followed by the .py extension.\\nFor example,\\n  if you\\'re creating a script called \"my_script\", the file should be named \"my_script.py\".\\n Using the .py extension helps both you and the system recognize that the file contains Python code. '"
      ]
     },
     "execution_count": 4,
     "metadata": {},
     "output_type": "execute_result"
    }
   ],
   "source": [
    "'''Q4.what is the correct extension of the python file?\n",
    "Ans = The correct extension for Python files is .py. When you save a Python script, you should use\n",
    "      a file name followed by the .py extension.\n",
    "For example,\n",
    "  if you're creating a script called \"my_script\", the file should be named \"my_script.py\".\n",
    " Using the .py extension helps both you and the system recognize that the file contains Python code. '''\n"
   ]
  },
  {
   "cell_type": "code",
   "execution_count": 5,
   "id": "141c7fac-23fe-4ea1-9e37-dcce8f68625f",
   "metadata": {},
   "outputs": [
    {
     "data": {
      "text/plain": [
       "'Q5.Is python code compiled or interpreted?\\nAns = Python is an interpreted programming language. \\n        This means that Python code is not compiled into machine code before it is run.\\n        Instead, Python source code is executed line by line by an interpreter.'"
      ]
     },
     "execution_count": 5,
     "metadata": {},
     "output_type": "execute_result"
    }
   ],
   "source": [
    "'''Q5.Is python code compiled or interpreted?\n",
    "Ans = Python is an interpreted programming language. \n",
    "        This means that Python code is not compiled into machine code before it is run.\n",
    "        Instead, Python source code is executed line by line by an interpreter.'''\n"
   ]
  },
  {
   "cell_type": "code",
   "execution_count": 7,
   "id": "720b33fe-163f-4327-aa56-bbe12400fe6a",
   "metadata": {},
   "outputs": [
    {
     "data": {
      "text/plain": [
       "\"Q6.Name a few blocks of code used to define in python language?\\nAns = In Python, code blocks are defined using indentation. \\n        Indentation is crucial for grouping statements together to form a block of code.\\n        Here are a few common blocks of code that you'll encounter in Python:\\n\\n#1.Conditional Statements:\\nif condition:\\n    # Code block for when condition is true\\nelse:\\n    # Code block for when condition is false\\n#2.Loops:\\n#For Loop:\\n    for item in iterable:\\n    # Code block to be executed for each item in the iterable\\n#While loop:\\n    while condition:\\n    # Code block to be executed while the condition is true\\n#3.Function  Definitions:\\ndef function_name(arguments):\\n    # Code block for the function's logic\\n    return result\""
      ]
     },
     "execution_count": 7,
     "metadata": {},
     "output_type": "execute_result"
    }
   ],
   "source": [
    "'''Q6.Name a few blocks of code used to define in python language?\n",
    "Ans = In Python, code blocks are defined using indentation. \n",
    "        Indentation is crucial for grouping statements together to form a block of code.\n",
    "        Here are a few common blocks of code that you'll encounter in Python:\n",
    "\n",
    "#1.Conditional Statements:\n",
    "if condition:\n",
    "    # Code block for when condition is true\n",
    "else:\n",
    "    # Code block for when condition is false\n",
    "#2.Loops:\n",
    "#For Loop:\n",
    "    for item in iterable:\n",
    "    # Code block to be executed for each item in the iterable\n",
    "#While loop:\n",
    "    while condition:\n",
    "    # Code block to be executed while the condition is true\n",
    "#3.Function  Definitions:\n",
    "def function_name(arguments):\n",
    "    # Code block for the function's logic\n",
    "    return result'''\n",
    "\n",
    "    \n",
    "\n",
    "\n",
    "\n"
   ]
  },
  {
   "cell_type": "code",
   "execution_count": 8,
   "id": "e3598601-1890-4539-b3e9-967daa41b46b",
   "metadata": {},
   "outputs": [
    {
     "name": "stdout",
     "output_type": "stream",
     "text": [
      "Hello, world!\n"
     ]
    }
   ],
   "source": [
    "'''Q7.state a character used to give single-line comments in python?\n",
    "Ans = In Python, the character used to indicate a single-line comment is the hash symbol (#). \n",
    " Any text following the hash symbol on the same line is considered a comment and is ignored by thePython interpreter.\n",
    "    Comments are used to add explanations, notes, or annotations to your code without affecting its execution.\n",
    "For example:'''\n",
    "# This is a single-line comment in Python\n",
    "\n",
    "print(\"Hello, world!\")  # This is also a comment after a statement\n",
    "\n",
    "\n",
    "\n"
   ]
  },
  {
   "cell_type": "code",
   "execution_count": 9,
   "id": "867230f5-afce-4b30-9d69-93244c938b76",
   "metadata": {},
   "outputs": [
    {
     "name": "stdout",
     "output_type": "stream",
     "text": [
      "Python Version: 3.10.8 | packaged by conda-forge | (main, Nov 22 2022, 08:26:04) [GCC 10.4.0]\n",
      "Python Version Info: sys.version_info(major=3, minor=10, micro=8, releaselevel='final', serial=0)\n",
      "Python Version: 3.10.8\n",
      "Python Version: 3.10\n"
     ]
    },
    {
     "ename": "NameError",
     "evalue": "name 'python' is not defined",
     "output_type": "error",
     "traceback": [
      "\u001b[0;31m---------------------------------------------------------------------------\u001b[0m",
      "\u001b[0;31mNameError\u001b[0m                                 Traceback (most recent call last)",
      "Cell \u001b[0;32mIn[9], line 23\u001b[0m\n\u001b[1;32m     20\u001b[0m \u001b[38;5;28mprint\u001b[39m(\u001b[38;5;124m\"\u001b[39m\u001b[38;5;124mPython Version:\u001b[39m\u001b[38;5;124m\"\u001b[39m, sysconfig\u001b[38;5;241m.\u001b[39mget_python_version())\n\u001b[1;32m     21\u001b[0m \u001b[38;5;124;03m'''4.Command Line:\u001b[39;00m\n\u001b[1;32m     22\u001b[0m \u001b[38;5;124;03m    You can also run the following command in your terminal or command prompt to get the Python version'''\u001b[39;00m\n\u001b[0;32m---> 23\u001b[0m \u001b[43mpython\u001b[49m \u001b[38;5;241m-\u001b[39m\u001b[38;5;241m-\u001b[39mversion\n",
      "\u001b[0;31mNameError\u001b[0m: name 'python' is not defined"
     ]
    }
   ],
   "source": [
    "'''Q8. Mention functions which can help us to find the version of python that we are currently working on?\n",
    "Ans = You can use the following functions and attributes to determine the version of Python you are currently\n",
    "using:\n",
    "\n",
    "1.'sys' Module:\n",
    "    The 'sys' module provides access to some variables used or maintained by the interpreter\n",
    "    and to functions that interact strongly with the interpreter.'''\n",
    "import sys\n",
    "print(\"Python Version:\", sys.version)\n",
    "print(\"Python Version Info:\", sys.version_info)\n",
    "'''2.platform Module:\n",
    "    The platform module provides a way to access underlying platform’s data, \n",
    "    such as the operating system, architecture, and Python implementation.'''\n",
    "import platform\n",
    "print(\"Python Version:\", platform.python_version())\n",
    "'''3.sysconfig Module:\n",
    "    The sysconfig module provides access to Python's configuration information,\n",
    "    which includes version-related details.'''\n",
    "import sysconfig\n",
    "print(\"Python Version:\", sysconfig.get_python_version())\n",
    "'''4.Command Line:\n",
    "    You can also run the following command in your terminal or command prompt to get the Python version'''\n",
    "python --version\n",
    "\n"
   ]
  },
  {
   "cell_type": "code",
   "execution_count": 10,
   "id": "d7f5f0af-c6e3-45c9-99be-a0589eaf9a44",
   "metadata": {},
   "outputs": [
    {
     "name": "stdout",
     "output_type": "stream",
     "text": [
      "25\n",
      "25\n"
     ]
    }
   ],
   "source": [
    "'''Q9.python supports the creation of anonymous functions at runtime,using a construct called\n",
    "Ans= Python supports the creation of anonymous functions at runtime using a construct called \"lambda\" functions.\n",
    "Lambda functions are also known as anonymous functions because they don't have a formal name like regular\n",
    "functions defined with the def keyword.\n",
    "\n",
    "Lambda functions are generally used for short, simple operations where defining a full function using \n",
    "def would be overkill. They are often used as arguments to higher-order functions like map, filter, and sorted.'''\n",
    "#for example:\n",
    "# Regular function definition\n",
    "def square(x):\n",
    "    return x * x\n",
    "\n",
    "# Equivalent lambda function\n",
    "square_lambda = lambda x: x * x\n",
    "\n",
    "print(square(5))           # Output: 25\n",
    "print(square_lambda(5))    # Output: 25\n",
    "\n"
   ]
  },
  {
   "cell_type": "code",
   "execution_count": 11,
   "id": "5fd47e4f-b7ba-4430-9289-79733e124042",
   "metadata": {},
   "outputs": [
    {
     "data": {
      "text/plain": [
       "'Q10.what does pip stand for python?\\nAns = pip stands for \"Pip Installs Packages.\" It is the package installer for Python and is used to install, upgrade, \\nand manage Python packages and libraries from the Python Package Index (PyPI) repository.\\nPyPI is a repository of third-party Python libraries that developers can use in their projects.\\n\\npip makes it easy to install and manage external packages, \\nwhich are collections of pre-written code that provide additional functionality. '"
      ]
     },
     "execution_count": 11,
     "metadata": {},
     "output_type": "execute_result"
    }
   ],
   "source": [
    "'''Q10.what does pip stand for python?\n",
    "Ans = pip stands for \"Pip Installs Packages.\" It is the package installer for Python and is used to install, upgrade, \n",
    "and manage Python packages and libraries from the Python Package Index (PyPI) repository.\n",
    "PyPI is a repository of third-party Python libraries that developers can use in their projects.\n",
    "\n",
    "pip makes it easy to install and manage external packages, \n",
    "which are collections of pre-written code that provide additional functionality. '''"
   ]
  },
  {
   "cell_type": "code",
   "execution_count": 12,
   "id": "6871345d-ddcc-4d51-b1f3-19c747cdbfad",
   "metadata": {},
   "outputs": [
    {
     "data": {
      "text/plain": [
       "\"Q11.Mention a few built-in functions in python?\\nAns= Certainly! Python comes with a wide range of built-in functions that you can use without needing to \\n        import any additional modules. Here are a few common built-in functions:\\n\\nprint(): Prints the specified message to the console.\\nlen(): Returns the length (number of items) of an object like a string, list, or tuple.\\ninput(): Reads a line of text from the user's input.\\ntype(): Returns the type of an object.\\nint(): Converts a value to an integer.\\nfloat(): Converts a value to a floating-point number.\\nstr(): Converts a value to a string.\\nrange(): Generates a sequence of numbers.\\nsum(): Calculates the sum of a sequence.\\nmax(): Returns the largest item in a sequence.\\nmin(): Returns the smallest item in a sequence.\\nround(): Rounds a number to a specified number of decimal places.\\nsorted(): Returns a sorted list from the elements of an iterable.\\n\\nThese are just a few examples of the many built-in functions available in Python.\\nThese functions simplify various common tasks and provide essential functionality that you'll frequently\\nuse while programming in Python.\""
      ]
     },
     "execution_count": 12,
     "metadata": {},
     "output_type": "execute_result"
    }
   ],
   "source": [
    "'''Q11.Mention a few built-in functions in python?\n",
    "Ans= Certainly! Python comes with a wide range of built-in functions that you can use without needing to \n",
    "        import any additional modules. Here are a few common built-in functions:\n",
    "\n",
    "print(): Prints the specified message to the console.\n",
    "len(): Returns the length (number of items) of an object like a string, list, or tuple.\n",
    "input(): Reads a line of text from the user's input.\n",
    "type(): Returns the type of an object.\n",
    "int(): Converts a value to an integer.\n",
    "float(): Converts a value to a floating-point number.\n",
    "str(): Converts a value to a string.\n",
    "range(): Generates a sequence of numbers.\n",
    "sum(): Calculates the sum of a sequence.\n",
    "max(): Returns the largest item in a sequence.\n",
    "min(): Returns the smallest item in a sequence.\n",
    "round(): Rounds a number to a specified number of decimal places.\n",
    "sorted(): Returns a sorted list from the elements of an iterable.\n",
    "\n",
    "These are just a few examples of the many built-in functions available in Python.\n",
    "These functions simplify various common tasks and provide essential functionality that you'll frequently\n",
    "use while programming in Python.'''"
   ]
  },
  {
   "cell_type": "code",
   "execution_count": 13,
   "id": "2ee200bd-82f0-44c0-a1a8-04b2079f6c78",
   "metadata": {},
   "outputs": [
    {
     "data": {
      "text/plain": [
       "'Q12.what is the maximum possible length of an identifier in python?\\nAns = In Python, the maximum length of an identifier is not explicitly specified by the language itself.\\nHowever, there are practical considerations that determine the recommended length for identifiers.\\n\\nPEP 8, the Python Enhancement Proposal for code style, suggests that identifiers (such as variable names, \\nfunction names, etc.) should be kept reasonably short. Specifically,\\nit suggests limiting all lines to a maximum of 79 characters for code, and 72 for docstrings and comments. \\nThis recommendation indirectly suggests keeping identifiers concise and not overly long.'"
      ]
     },
     "execution_count": 13,
     "metadata": {},
     "output_type": "execute_result"
    }
   ],
   "source": [
    "'''Q12.what is the maximum possible length of an identifier in python?\n",
    "Ans = In Python, the maximum length of an identifier is not explicitly specified by the language itself.\n",
    "However, there are practical considerations that determine the recommended length for identifiers.\n",
    "\n",
    "PEP 8, the Python Enhancement Proposal for code style, suggests that identifiers (such as variable names, \n",
    "function names, etc.) should be kept reasonably short. Specifically,\n",
    "it suggests limiting all lines to a maximum of 79 characters for code, and 72 for docstrings and comments. \n",
    "This recommendation indirectly suggests keeping identifiers concise and not overly long.'''\n",
    "\n"
   ]
  },
  {
   "cell_type": "code",
   "execution_count": 14,
   "id": "9137a549-e2f7-4e83-94e2-314da74a1937",
   "metadata": {},
   "outputs": [
    {
     "data": {
      "text/plain": [
       "\"Q13.What are the benefits of using python?\\nPython is a versatile and widely-used programming language that offers several benefits for developers, making it a popular choice for a variety of applications. Here are some of the key benefits of using Python:\\n\\nReadable and Expressive Syntax: Python's clean and readable syntax allows developers to write code that is easy to understand, reducing the need for extensive comments and making collaboration more efficient.\\n\\nHigh-Level Language: Python's abstraction from low-level details makes development faster and more focused on problem-solving rather than managing memory and other system-specific concerns.\\n\\nLarge Standard Library: Python comes with a rich standard library that provides pre-built modules and functions for a wide range of tasks, from web development and data analysis to scientific computing and more.\\n\\nCross-Platform Compatibility: Python code can run on various operating systems with minimal modifications, allowing developers to create applications that work seamlessly on different platforms.\\n\\nOpen Source and Community-Driven: Python is an open-source language, which means its source code is \\navailable for free and can be modified and distributed. Its large and active community contributes to its development, documentation, and a vast ecosystem of third-party libraries.\\n\\nExtensive Ecosystem: Python has a robust ecosystem of third-party libraries and framework\\nthat cover everything from web development (Django, Flask) and scientific computing (NumPy, SciPy)\\nto machine learning (TensorFlow, PyTorch) and data visualization (Matplotlib, Seaborn).\\n\\nEasy Integration: Python can be easily integrated with other languages like C, C++, and Java,\\nmaking it suitable for building complex applications that require a mix of languages.\""
      ]
     },
     "execution_count": 14,
     "metadata": {},
     "output_type": "execute_result"
    }
   ],
   "source": [
    "'''Q13.What are the benefits of using python?\n",
    "Python is a versatile and widely-used programming language that offers several benefits for developers, making it a popular choice for a variety of applications. Here are some of the key benefits of using Python:\n",
    "\n",
    "Readable and Expressive Syntax: Python's clean and readable syntax allows developers to write code that is easy to understand, reducing the need for extensive comments and making collaboration more efficient.\n",
    "\n",
    "High-Level Language: Python's abstraction from low-level details makes development faster and more focused on problem-solving rather than managing memory and other system-specific concerns.\n",
    "\n",
    "Large Standard Library: Python comes with a rich standard library that provides pre-built modules and functions for a wide range of tasks, from web development and data analysis to scientific computing and more.\n",
    "\n",
    "Cross-Platform Compatibility: Python code can run on various operating systems with minimal modifications, allowing developers to create applications that work seamlessly on different platforms.\n",
    "\n",
    "Open Source and Community-Driven: Python is an open-source language, which means its source code is \n",
    "available for free and can be modified and distributed. Its large and active community contributes to its development, documentation, and a vast ecosystem of third-party libraries.\n",
    "\n",
    "Extensive Ecosystem: Python has a robust ecosystem of third-party libraries and framework\n",
    "that cover everything from web development (Django, Flask) and scientific computing (NumPy, SciPy)\n",
    "to machine learning (TensorFlow, PyTorch) and data visualization (Matplotlib, Seaborn).\n",
    "\n",
    "Easy Integration: Python can be easily integrated with other languages like C, C++, and Java,\n",
    "making it suitable for building complex applications that require a mix of languages.'''"
   ]
  },
  {
   "cell_type": "code",
   "execution_count": 15,
   "id": "7f7a360b-8378-46bf-961e-77d1440d802c",
   "metadata": {},
   "outputs": [
    {
     "data": {
      "text/plain": [
       "\"Q14.How is memory managed in python?\\nAns = Memory management in Python is handled by the Python memory manager, \\nwhich is responsible for allocating and deallocating memory for objects in the program. \\nPython uses a combination of techniques to manage memory efficiently:\\n    Reference Counting: Python employs reference counting to keep track of the number of references to an object.\\nMemory Pools: Python's memory manager uses a system of memory pools to allocate and manage memory for objects.\""
      ]
     },
     "execution_count": 15,
     "metadata": {},
     "output_type": "execute_result"
    }
   ],
   "source": [
    "'''Q14.How is memory managed in python?\n",
    "Ans = Memory management in Python is handled by the Python memory manager, \n",
    "which is responsible for allocating and deallocating memory for objects in the program. \n",
    "Python uses a combination of techniques to manage memory efficiently:\n",
    "    Reference Counting: Python employs reference counting to keep track of the number of references to an object.\n",
    "Memory Pools: Python's memory manager uses a system of memory pools to allocate and manage memory for objects.'''\n",
    " "
   ]
  },
  {
   "cell_type": "code",
   "execution_count": 18,
   "id": "6ddc36d0-6e4b-4d3e-8f1b-0ef42cf3df1d",
   "metadata": {},
   "outputs": [
    {
     "data": {
      "text/plain": [
       "'Q15.How to install python on windows and set path variable?\\nInstalling Python on Windows and setting up the PATH variable involves a few simple steps.\\nHere\\'s a guide to help you through the process:\\n\\nInstalling Python:\\n    1.Visit the official Python website: https://www.python.org/\\n    2.Click on the \"Downloads\" tab.\\n    3.Choose the latest version of Python for Windows and download the installer executable (.exe) file.\\n        Make sure to choose the appropriate version (32-bit or 64-bit) based on your Windows system.\\n    4.Run the downloaded installer. \\n        Make sure to check the box that says \"Add Python X.Y to PATH\" during the installation process.\\n        This will automatically set up the PATH variable for you.\\n\\nTo verify the installation and PATH setup, open a Command Prompt or PowerShell window and type python --version. \\nThis should display the version of Python you installed.\\n\\nRemember that the steps might vary slightly depending on your version of Windows.'"
      ]
     },
     "execution_count": 18,
     "metadata": {},
     "output_type": "execute_result"
    }
   ],
   "source": [
    "'''Q15.How to install python on windows and set path variable?\n",
    "Installing Python on Windows and setting up the PATH variable involves a few simple steps.\n",
    "Here's a guide to help you through the process:\n",
    "\n",
    "Installing Python:\n",
    "    1.Visit the official Python website: https://www.python.org/\n",
    "    2.Click on the \"Downloads\" tab.\n",
    "    3.Choose the latest version of Python for Windows and download the installer executable (.exe) file.\n",
    "        Make sure to choose the appropriate version (32-bit or 64-bit) based on your Windows system.\n",
    "    4.Run the downloaded installer. \n",
    "        Make sure to check the box that says \"Add Python X.Y to PATH\" during the installation process.\n",
    "        This will automatically set up the PATH variable for you.\n",
    "\n",
    "To verify the installation and PATH setup, open a Command Prompt or PowerShell window and type python --version. \n",
    "This should display the version of Python you installed.\n",
    "\n",
    "Remember that the steps might vary slightly depending on your version of Windows.'''"
   ]
  },
  {
   "cell_type": "code",
   "execution_count": 17,
   "id": "07e2b214-5991-451f-9b23-b8a8dad9ea95",
   "metadata": {},
   "outputs": [
    {
     "data": {
      "text/plain": [
       "'Q16.is indentation required in python?\\nAns = Yes, indentation is required in Python.\\nUnlike many other programming languages that use braces {} or other symbols to define code blocks,\\nPython uses indentation to indicate the grouping of statements within a block of code.'"
      ]
     },
     "execution_count": 17,
     "metadata": {},
     "output_type": "execute_result"
    }
   ],
   "source": [
    "'''Q16.is indentation required in python?\n",
    "Ans = Yes, indentation is required in Python.\n",
    "Unlike many other programming languages that use braces {} or other symbols to define code blocks,\n",
    "Python uses indentation to indicate the grouping of statements within a block of code.'''"
   ]
  },
  {
   "cell_type": "code",
   "execution_count": null,
   "id": "3a0fe295-825d-4447-aee2-92510d3ea402",
   "metadata": {},
   "outputs": [],
   "source": []
  }
 ],
 "metadata": {
  "kernelspec": {
   "display_name": "Python 3 (ipykernel)",
   "language": "python",
   "name": "python3"
  },
  "language_info": {
   "codemirror_mode": {
    "name": "ipython",
    "version": 3
   },
   "file_extension": ".py",
   "mimetype": "text/x-python",
   "name": "python",
   "nbconvert_exporter": "python",
   "pygments_lexer": "ipython3",
   "version": "3.10.8"
  }
 },
 "nbformat": 4,
 "nbformat_minor": 5
}
