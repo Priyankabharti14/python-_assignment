{
 "cells": [
  {
   "cell_type": "code",
   "execution_count": 1,
   "id": "4161fd0d-53e2-4e17-9afb-227144271407",
   "metadata": {},
   "outputs": [
    {
     "name": "stdout",
     "output_type": "stream",
     "text": [
      "Name: Mountain Bike, Gears: 11 \n"
     ]
    }
   ],
   "source": [
    "'''Q1. Explain Class and Object with respect to Object-Oriented Programming. Give a suitable example.\n",
    "class=A class is a blueprint or a template for creating objects in Object-Oriented Programming.\n",
    "      It defines the properties (attributes) and behaviors (methods) that the objects of that class will have.\n",
    "Object =An object is an instance of a class. It is a concrete realization of the class's blueprint,\n",
    "        with its own unique data and behavior. '''\n",
    "\n",
    "class Bike:\n",
    "    name = \"\"\n",
    "    gear = 0\n",
    "bike1 = Bike()\n",
    "bike1.gear = 11\n",
    "bike1.name = \"Mountain Bike\"\n",
    "\n",
    "print(f\"Name: {bike1.name}, Gears: {bike1.gear} \")\n"
   ]
  },
  {
   "cell_type": "code",
   "execution_count": 2,
   "id": "e766edb1-344e-447b-b903-c66ec54be4c8",
   "metadata": {},
   "outputs": [
    {
     "data": {
      "text/plain": [
       "'Q2. Name the four pillars of OOPs.\\n  The four pillars of Object-Oriented Programming (OOP) are\\n 1. Encapsulation: Encapsulation refers to the bundling of data the methods (functions) that operate on that \\n                  data into a single unit called a class.\\n 2.Abstraction: Abstraction involves simplifying complex reality by modeling classes based on real-world entities. \\n 3.Inheritance: Inheritance allows one class (subclass or derived class) to inherit the attributes \\n                 and methods of another class (superclass or base class). \\n 4.Polymorphism: Polymorphism means \"many forms.\" It allows objects of different \\n                  classes to be treated as objects of a common superclass'"
      ]
     },
     "execution_count": 2,
     "metadata": {},
     "output_type": "execute_result"
    }
   ],
   "source": [
    "'''Q2. Name the four pillars of OOPs.\n",
    "  The four pillars of Object-Oriented Programming (OOP) are\n",
    " 1. Encapsulation: Encapsulation refers to the bundling of data the methods (functions) that operate on that \n",
    "                  data into a single unit called a class.\n",
    " 2.Abstraction: Abstraction involves simplifying complex reality by modeling classes based on real-world entities. \n",
    " 3.Inheritance: Inheritance allows one class (subclass or derived class) to inherit the attributes \n",
    "                 and methods of another class (superclass or base class). \n",
    " 4.Polymorphism: Polymorphism means \"many forms.\" It allows objects of different \n",
    "                  classes to be treated as objects of a common superclass'''\n",
    " "
   ]
  },
  {
   "cell_type": "code",
   "execution_count": 5,
   "id": "da08df54-c7bb-44e1-981b-13f9207c2fd2",
   "metadata": {},
   "outputs": [
    {
     "data": {
      "text/plain": [
       "(101, 1429181912, 'abc@gmail.com')"
      ]
     },
     "execution_count": 5,
     "metadata": {},
     "output_type": "execute_result"
    }
   ],
   "source": [
    "'''Q3. Explain why the __init__() function is used. Give a suitable example\n",
    "ans= the __init__() function (also known as the constructor) is used to initialize the attributes or\n",
    "     properties of an object when it is created from a class. The primary purpose of the __init__() function \n",
    "     is to set up the initial state of the object by assigning values to its attributes.'''\n",
    "class pwskills1:\n",
    "    def __init__(self,phone_number,email_id,student_id):\n",
    "        self.phone_number=phone_number\n",
    "        self.emai_id=email_id\n",
    "        self.student_id=student_id\n",
    "    def student_details(self):\n",
    "        return self.student_id, self.phone_number,self.emai_id,\n",
    "\n",
    "\n",
    "sudh=pwskills1(1429181912,\"abc@gmail.com\",101)\n",
    "sudh.student_details()"
   ]
  },
  {
   "cell_type": "code",
   "execution_count": 6,
   "id": "a5853d55-1f99-41dc-ab9c-ff2357a8d927",
   "metadata": {},
   "outputs": [
    {
     "data": {
      "text/plain": [
       "'Q4. Why self is used in OOPs?\\nAns= In object-oriented programming (OOP), self is a reference that allows an instance of a class to refer to itself.\\nIt\\'s used as the first parameter in method definitions within a class and represents\\nthe instance through which the method is being called. \\nThe name \"self\" is a convention in many programming languages,include python'"
      ]
     },
     "execution_count": 6,
     "metadata": {},
     "output_type": "execute_result"
    }
   ],
   "source": [
    "'''Q4. Why self is used in OOPs?\n",
    "Ans= In object-oriented programming (OOP), self is a reference that allows an instance of \n",
    "  a class to refer to itself.\n",
    "  It's used as the first parameter in method definitions within a class and represents\n",
    "  the instance through which the method is being called. \n",
    "   The name \"self\" is a convention in many programming languages,include python'''\n"
   ]
  },
  {
   "cell_type": "code",
   "execution_count": 7,
   "id": "9bb9cb58-0b1a-4907-8423-bae52a5ab7e1",
   "metadata": {},
   "outputs": [
    {
     "name": "stdout",
     "output_type": "stream",
     "text": [
      "Woof!\n",
      "Meow!\n"
     ]
    }
   ],
   "source": [
    "'''Q5. What is inheritance? Give an example for each type of inheritance.\n",
    "Ans= Inheritance is a fundamental concept in object-oriented programming (OOP) that allows\n",
    "         a new class (subclass or derived class) to inherit attributes \n",
    "       and methods from an existing class (superclass or base class).'''\n",
    "class Animal:\n",
    "    def speak(self):\n",
    "        pass\n",
    "\n",
    "class Dog(Animal):\n",
    "    def speak(self):\n",
    "        return \"Woof!\"\n",
    "\n",
    "class Cat(Animal):\n",
    "    def speak(self):\n",
    "        return \"Meow!\"\n",
    "\n",
    "dog = Dog()\n",
    "cat = Cat()\n",
    "\n",
    "print(dog.speak())  # Output: Woof!\n",
    "print(cat.speak())  # Output: Meow!\n"
   ]
  },
  {
   "cell_type": "code",
   "execution_count": null,
   "id": "8c6ff760-e287-40de-8e55-7bb15f9935d0",
   "metadata": {},
   "outputs": [],
   "source": []
  }
 ],
 "metadata": {
  "kernelspec": {
   "display_name": "Python 3 (ipykernel)",
   "language": "python",
   "name": "python3"
  },
  "language_info": {
   "codemirror_mode": {
    "name": "ipython",
    "version": 3
   },
   "file_extension": ".py",
   "mimetype": "text/x-python",
   "name": "python",
   "nbconvert_exporter": "python",
   "pygments_lexer": "ipython3",
   "version": "3.10.8"
  }
 },
 "nbformat": 4,
 "nbformat_minor": 5
}
