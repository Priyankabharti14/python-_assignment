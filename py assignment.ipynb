{
 "cells": [
  {
   "cell_type": "code",
   "execution_count": 3,
   "id": "e7bdb196-46e8-4867-8c70-13e0da56dafd",
   "metadata": {},
   "outputs": [
    {
     "data": {
      "text/plain": [
       "'B'"
      ]
     },
     "execution_count": 3,
     "metadata": {},
     "output_type": "execute_result"
    }
   ],
   "source": [
    "'''Q1.write a program to accept percentage from the user and display the grade according to the following criteria:\n",
    "    marks                       grade\n",
    "    >90                           A\n",
    "    >80 and <=90                  B\n",
    "    >=60 and <=80                 C\n",
    "    below 60                      D'''\n",
    "def calculate_grade(percentage):\n",
    "    if percentage > 90:\n",
    "        return 'A'\n",
    "    elif percentage > 80:\n",
    "        return 'B'\n",
    "    elif percentage >= 60:\n",
    "        return 'C'\n",
    "    else:\n",
    "        return 'D'\n",
    "\n",
    "calculate_grade(90)"
   ]
  },
  {
   "cell_type": "code",
   "execution_count": 4,
   "id": "1ac7ccf5-c7ee-4aa0-8634-b41f17fdbb3e",
   "metadata": {},
   "outputs": [
    {
     "name": "stdin",
     "output_type": "stream",
     "text": [
      "Enter the cost price of the bike (in Rs):  90000\n"
     ]
    },
    {
     "name": "stdout",
     "output_type": "stream",
     "text": [
      "Cost Price: Rs 90000.00 | Road Tax: Rs 9000.00\n"
     ]
    }
   ],
   "source": [
    "'''Q2.write a program to accept the cost price of a bike and display the road tax to be paid according to\n",
    " the following criteria:\n",
    "        tax              cost price(in Rs)\n",
    "        15%                >100000\n",
    "        10%                >50000 and <=100000\n",
    "        5%                 <=50000'''\n",
    "def calculate_road_tax(cost_price):\n",
    "    if cost_price > 100000:\n",
    "        return 0.15 * cost_price\n",
    "    elif cost_price > 50000:\n",
    "        return 0.10 * cost_price\n",
    "    else:\n",
    "        return 0.05 * cost_price\n",
    "\n",
    "try:\n",
    "    cost_price = float(input(\"Enter the cost price of the bike (in Rs): \"))\n",
    "    if cost_price < 0:\n",
    "        print(\"Invalid cost price. Cost price should be a positive value.\")\n",
    "    else:\n",
    "        road_tax = calculate_road_tax(cost_price)\n",
    "        print(f\"Cost Price: Rs {cost_price:.2f} | Road Tax: Rs {road_tax:.2f}\")\n",
    "except ValueError:\n",
    "    print(\"Invalid input. Please enter a valid cost price.\")\n"
   ]
  },
  {
   "cell_type": "code",
   "execution_count": 5,
   "id": "087f9d96-04d2-4cb4-964e-666e85523c6e",
   "metadata": {},
   "outputs": [
    {
     "name": "stdin",
     "output_type": "stream",
     "text": [
      "Enter the name of the city:  agar\n"
     ]
    },
    {
     "name": "stdout",
     "output_type": "stream",
     "text": [
      "The monument(s) in Agar is/are: Taj Mahal\n"
     ]
    }
   ],
   "source": [
    "'''Q3.Accept any city from the user and display monuments of that city.\n",
    "      city                 monuments\n",
    "     delhi                 red fort\n",
    "    agar                    taj mahal\n",
    "    jaipur                   jai mahal'''\n",
    "\n",
    "monuments = {\n",
    "    \"delhi\": \"Red Fort\",\n",
    "    \"agar\": \"Taj Mahal\",\n",
    "    \"jaipur\": \"Jai Mahal\"\n",
    "}\n",
    "\n",
    "city = input(\"Enter the name of the city: \").lower()\n",
    "\n",
    "if city in monuments:\n",
    "    monument = monuments[city]\n",
    "    print(f\"The monument(s) in {city.capitalize()} is/are: {monument}\")\n",
    "else:\n",
    "    print(\"Monuments for the entered city are not available.\")\n"
   ]
  },
  {
   "cell_type": "code",
   "execution_count": 6,
   "id": "e8bd509b-05b8-47d6-bbcb-d949ac056939",
   "metadata": {},
   "outputs": [
    {
     "name": "stdin",
     "output_type": "stream",
     "text": [
      "Enter a number:  12\n"
     ]
    },
    {
     "name": "stdout",
     "output_type": "stream",
     "text": [
      "The number can be divided by 3 1 times before it is less than or equal to 10.\n"
     ]
    }
   ],
   "source": [
    "#Q4.check how many times a given number can be divided by 3 before it is less than or equal to 10\n",
    "try:\n",
    "    number = float(input(\"Enter a number: \"))\n",
    "    count = 0\n",
    "\n",
    "    while number > 10:\n",
    "        number /= 3\n",
    "        count += 1\n",
    "\n",
    "    print(f\"The number can be divided by 3 {count} times before it is less than or equal to 10.\")\n",
    "except ValueError:\n",
    "    print(\"Invalid input. Please enter a valid number.\")\n"
   ]
  },
  {
   "cell_type": "code",
   "execution_count": 7,
   "id": "79ff86ae-7dd9-462a-994b-9416924a20f4",
   "metadata": {},
   "outputs": [
    {
     "name": "stdin",
     "output_type": "stream",
     "text": [
      "Enter a number:  6\n"
     ]
    },
    {
     "name": "stdout",
     "output_type": "stream",
     "text": [
      "The factorial of 6 is 5040 after 7 iterations.\n"
     ]
    }
   ],
   "source": [
    "'''Q5.why and when to use while loop in python give a detailed description with example\n",
    "Ans = A while loop in Python is used to repeatedly execute a block of code as long as\n",
    "        a specified condition remains true. \n",
    "    It is particularly useful when you need to perform a task multiple times\n",
    "    without knowing in advance how many iterations will be needed.\n",
    "    \n",
    "#Why Use a While Loop:\n",
    "\n",
    "Unknown Iteration Count: When you don't know how many times you need to repeat a task beforehand,\n",
    "        a while loop is appropriate. For example, reading data from a user until they provide a specific input, \n",
    "        or performing calculations until a certain accuracy is achieved.\n",
    "Dynamic Conditions: Sometimes, you might need to modify the condition within the loop based on some dynamic\n",
    "            situation. A while loop allows you to adjust the condition on-the-fly.\n",
    "            \n",
    "#When to Use a While Loop:\n",
    ".User Input Validation: You can use a while loop to repeatedly prompt the user for input until they provide \n",
    "            valid data. This prevents the program from proceeding with incorrect input.\n",
    ".Numeric Operations: When you want to perform numeric operations until a certain threshold or condition is met.\n",
    "        For instance, finding the factorial of a number until it exceeds a certain value.\n",
    ".Game Loops: In game development, while loops can be used for game loops, where the game keeps running as\n",
    "            long as certain conditions (e.g., player lives, game time) are satisfied.\n",
    ".Data Processing: For data processing tasks that involve reading data until a specific condition is met.\n",
    "        For example, reading lines from a file until a certain keyword is encountered..'''\n",
    "\n",
    "try:\n",
    "    number = int(input(\"Enter a number: \"))\n",
    "    factorial = 1\n",
    "    count = 1\n",
    "\n",
    "    while factorial <= 10:\n",
    "        factorial *= count\n",
    "        count += 1\n",
    "\n",
    "    print(f\"The factorial of {number} is {factorial} after {count - 1} iterations.\")\n",
    "except ValueError:\n",
    "    print(\"Invalid input. Please enter a valid number.\")"
   ]
  },
  {
   "cell_type": "code",
   "execution_count": 10,
   "id": "b5ae67fe-b12c-4e9b-958c-908ee9aedbf0",
   "metadata": {},
   "outputs": [
    {
     "name": "stdout",
     "output_type": "stream",
     "text": [
      "*\n",
      "**\n",
      "***\n",
      "****\n",
      "*****\n",
      "*****\n",
      "****\n",
      "***\n",
      "**\n",
      "*\n",
      "*****\n",
      "*   *\n",
      "*   *\n",
      "*   *\n",
      "*****\n"
     ]
    }
   ],
   "source": [
    "'''Q6.use nested while loop to print 3 different pattern.'''\n",
    "#pattern 1: Right Triangle Pattern\n",
    "rows = 5\n",
    "i = 1\n",
    "while i <= rows:\n",
    "    j = 1\n",
    "    while j <= i:\n",
    "        print(\"*\", end=\"\")\n",
    "        j += 1\n",
    "    print()\n",
    "    i += 1\n",
    "#Pattern 2: Inverted Right Triangle Pattern\n",
    "rows = 5\n",
    "i = rows\n",
    "while i >= 1:\n",
    "    j = 1\n",
    "    while j <= i:\n",
    "        print(\"*\", end=\"\")\n",
    "        j += 1\n",
    "    print()\n",
    "    i -= 1\n",
    "#Pattern 3: Hollow Square Pattern\n",
    "rows = 5\n",
    "i = 1\n",
    "while i <= rows:\n",
    "    j = 1\n",
    "    while j <= rows:\n",
    "        if i == 1 or i == rows or j == 1 or j == rows:\n",
    "            print(\"*\", end=\"\")\n",
    "        else:\n",
    "            print(\" \", end=\"\")\n",
    "        j += 1\n",
    "    print()\n",
    "    i += 1"
   ]
  },
  {
   "cell_type": "code",
   "execution_count": 11,
   "id": "b6437708-1c69-481c-bff0-cbd7fec98068",
   "metadata": {},
   "outputs": [
    {
     "name": "stdout",
     "output_type": "stream",
     "text": [
      "10\n",
      "9\n",
      "8\n",
      "7\n",
      "6\n",
      "5\n",
      "4\n",
      "3\n",
      "2\n",
      "1\n"
     ]
    }
   ],
   "source": [
    "#Q7. reverse a while loop to display numbers from 10 to 1\n",
    "num = 10\n",
    "\n",
    "while num >= 1:\n",
    "    print(num)\n",
    "    num -= 1\n"
   ]
  },
  {
   "cell_type": "code",
   "execution_count": 12,
   "id": "e49dbd8e-cbb9-41bc-94c6-c796595401d6",
   "metadata": {},
   "outputs": [
    {
     "name": "stdout",
     "output_type": "stream",
     "text": [
      "10\n",
      "9\n",
      "8\n",
      "7\n",
      "6\n",
      "5\n",
      "4\n",
      "3\n",
      "2\n",
      "1\n"
     ]
    }
   ],
   "source": [
    "#Q8.reverse a for loop to display numbers from 10 to 1\n",
    "for num in range(10, 0, -1):\n",
    "    print(num)\n"
   ]
  },
  {
   "cell_type": "code",
   "execution_count": null,
   "id": "f76849ec-aac9-417d-aaae-0479ec31b61f",
   "metadata": {},
   "outputs": [],
   "source": []
  }
 ],
 "metadata": {
  "kernelspec": {
   "display_name": "Python 3 (ipykernel)",
   "language": "python",
   "name": "python3"
  },
  "language_info": {
   "codemirror_mode": {
    "name": "ipython",
    "version": 3
   },
   "file_extension": ".py",
   "mimetype": "text/x-python",
   "name": "python",
   "nbconvert_exporter": "python",
   "pygments_lexer": "ipython3",
   "version": "3.10.8"
  }
 },
 "nbformat": 4,
 "nbformat_minor": 5
}
