{
 "cells": [
  {
   "cell_type": "code",
   "execution_count": 1,
   "id": "dd590827-626c-4911-b922-da08dad5b816",
   "metadata": {},
   "outputs": [
    {
     "data": {
      "text/plain": [
       "\"Q1. What is Flask Framework? What are the advantages of Flask Framework?\\n\\nFlask is a lightweight and flexible Python web framework that provides developers with the tools to build web\\napplications quickly and efficiently. It is classified as a micro-framework because it does not require particular\\ntools or libraries and does not enforce any dependencies or project layout. Flask is designed to be simple and \\neasy to use, allowing developers to focus on writing their application code rather than dealing with complex \\nconfigurations.\\n\\nAdvantages of Flask Framework:\\n\\n1.Simplicity: Flask is minimalistic and straightforward. It doesn't come with built-in tools and libraries, \\n    allowing developers the flexibility to choose the components they want to use.\\n\\n2.Flexibility: Flask doesn’t enforce any particular way of doing things. Developers have the freedom to structure\\n    their application and choose the components that fit their needs.\\n\\n3.Modularity: Flask is built with modularity in mind. It has a simple core and extensions can be added to enhance \\n    its functionality, allowing developers to add only what they need.\\n\\n4.Jinja2 Templating: Flask uses the Jinja2 template engine, which allows developers to write templates using\\n    simple and readable syntax. It provides powerful features like template inheritance and macros.\\n\\n5.Werkzeug: Flask is built on top of the Werkzeug WSGI toolkit. Werkzeug provides essential functionalities such \\n    as request handling and response generation, making it easier to handle HTTP requests and responses.\""
      ]
     },
     "execution_count": 1,
     "metadata": {},
     "output_type": "execute_result"
    }
   ],
   "source": [
    "'''Q1. What is Flask Framework? What are the advantages of Flask Framework?\n",
    "\n",
    "Flask is a lightweight and flexible Python web framework that provides developers with the tools to build web\n",
    "applications quickly and efficiently. It is classified as a micro-framework because it does not require particular\n",
    "tools or libraries and does not enforce any dependencies or project layout. Flask is designed to be simple and \n",
    "easy to use, allowing developers to focus on writing their application code rather than dealing with complex \n",
    "configurations.\n",
    "\n",
    "Advantages of Flask Framework:\n",
    "\n",
    "1.Simplicity: Flask is minimalistic and straightforward. It doesn't come with built-in tools and libraries, \n",
    "    allowing developers the flexibility to choose the components they want to use.\n",
    "\n",
    "2.Flexibility: Flask doesn’t enforce any particular way of doing things. Developers have the freedom to structure\n",
    "    their application and choose the components that fit their needs.\n",
    "\n",
    "3.Modularity: Flask is built with modularity in mind. It has a simple core and extensions can be added to enhance \n",
    "    its functionality, allowing developers to add only what they need.\n",
    "\n",
    "4.Jinja2 Templating: Flask uses the Jinja2 template engine, which allows developers to write templates using\n",
    "    simple and readable syntax. It provides powerful features like template inheritance and macros.\n",
    "\n",
    "5.Werkzeug: Flask is built on top of the Werkzeug WSGI toolkit. Werkzeug provides essential functionalities such \n",
    "    as request handling and response generation, making it easier to handle HTTP requests and responses.'''"
   ]
  },
  {
   "cell_type": "code",
   "execution_count": 5,
   "id": "8f7869a7-17b3-4a58-9876-449d59dbc8f8",
   "metadata": {},
   "outputs": [
    {
     "data": {
      "text/plain": [
       "\"Q2. Create a simple Flask application to display ‘Hello World!!’. Attach the screenshot of the output in\\nJupyter Notebook.\\n\\nStep 1: Install Flask (if you haven't already)\\nMake sure you have Flask installed. If not, you can install it using pip:\""
      ]
     },
     "execution_count": 5,
     "metadata": {},
     "output_type": "execute_result"
    }
   ],
   "source": [
    "'''Q2. Create a simple Flask application to display ‘Hello World!!’. Attach the screenshot of the output in\n",
    "Jupyter Notebook.\n",
    "\n",
    "Step 1: Install Flask (if you haven't already)\n",
    "Make sure you have Flask installed. If not, you can install it using pip:'''"
   ]
  },
  {
   "cell_type": "code",
   "execution_count": 4,
   "id": "e23babf2-b1fe-4129-9821-66b13e9d44cd",
   "metadata": {},
   "outputs": [
    {
     "name": "stdout",
     "output_type": "stream",
     "text": [
      "Collecting flask\n",
      "  Downloading flask-2.3.3-py3-none-any.whl (96 kB)\n",
      "\u001b[2K     \u001b[90m━━━━━━━━━━━━━━━━━━━━━━━━━━━━━━━━━━━━━━━━\u001b[0m \u001b[32m96.1/96.1 kB\u001b[0m \u001b[31m3.8 MB/s\u001b[0m eta \u001b[36m0:00:00\u001b[0m\n",
      "\u001b[?25hRequirement already satisfied: click>=8.1.3 in /opt/conda/lib/python3.10/site-packages (from flask) (8.1.3)\n",
      "Collecting blinker>=1.6.2\n",
      "  Downloading blinker-1.6.2-py3-none-any.whl (13 kB)\n",
      "Requirement already satisfied: Jinja2>=3.1.2 in /opt/conda/lib/python3.10/site-packages (from flask) (3.1.2)\n",
      "Collecting itsdangerous>=2.1.2\n",
      "  Downloading itsdangerous-2.1.2-py3-none-any.whl (15 kB)\n",
      "Collecting Werkzeug>=2.3.7\n",
      "  Downloading werkzeug-2.3.7-py3-none-any.whl (242 kB)\n",
      "\u001b[2K     \u001b[90m━━━━━━━━━━━━━━━━━━━━━━━━━━━━━━━━━━━━━━\u001b[0m \u001b[32m242.2/242.2 kB\u001b[0m \u001b[31m17.6 MB/s\u001b[0m eta \u001b[36m0:00:00\u001b[0m\n",
      "\u001b[?25hRequirement already satisfied: MarkupSafe>=2.0 in /opt/conda/lib/python3.10/site-packages (from Jinja2>=3.1.2->flask) (2.1.1)\n",
      "Installing collected packages: Werkzeug, itsdangerous, blinker, flask\n",
      "  Attempting uninstall: blinker\n",
      "    Found existing installation: blinker 1.5\n",
      "    Uninstalling blinker-1.5:\n",
      "      Successfully uninstalled blinker-1.5\n",
      "Successfully installed Werkzeug-2.3.7 blinker-1.6.2 flask-2.3.3 itsdangerous-2.1.2\n",
      "Note: you may need to restart the kernel to use updated packages.\n"
     ]
    }
   ],
   "source": [
    "pip install flask"
   ]
  },
  {
   "cell_type": "code",
   "execution_count": 8,
   "id": "529744d7-c9a6-41da-94a8-14b782d3460a",
   "metadata": {},
   "outputs": [
    {
     "ename": "SyntaxError",
     "evalue": "invalid syntax (2939403231.py, line 11)",
     "output_type": "error",
     "traceback": [
      "\u001b[0;36m  Cell \u001b[0;32mIn[8], line 11\u001b[0;36m\u001b[0m\n\u001b[0;31m    python app.py\u001b[0m\n\u001b[0m           ^\u001b[0m\n\u001b[0;31mSyntaxError\u001b[0m\u001b[0;31m:\u001b[0m invalid syntax\n"
     ]
    }
   ],
   "source": [
    "from flask import Flask\n",
    "\n",
    "app = Flask(__name__)\n",
    "\n",
    "@app.route('/')\n",
    "def hello():\n",
    "    return 'Hello World!!'\n",
    "\n",
    "if __name__ == '__main__':\n",
    "    app.run(debug=True)\n",
    "    python app.py\n",
    "from IPython.display import Image\n",
    "\n",
    "Image(filename='path/to/screenshot.png')\n",
    "\n"
   ]
  },
  {
   "cell_type": "code",
   "execution_count": 9,
   "id": "3808cac5-34bf-4133-9dfe-e8bfd73e225a",
   "metadata": {},
   "outputs": [
    {
     "data": {
      "text/plain": [
       "\"Q3. What is App routing in Flask? Why do we use app routes?\\n\\nIn Flask, routing refers to the process of determining which view function should be called when a client requests\\na specific URL from the Flask application. When you build a web application, you often need different parts of\\nyour code to be executed based on the URL requested by the user. Flask uses the concept of route decorators to\\nachieve this, and this is what's commonly referred to as app routing.\\n\\nUse of App Routes:\\n\\n1.Organized Code: App routes allow you to organize your code efficiently. Each route corresponds to a specific\\n            functionality of your application, making your codebase more structured and readable.\\n2.Dynamic Content: Routes enable you to serve dynamic content based on user input or different URLs. For example, \\n            you can have a route that displays different content for different products in an online store.\\n3.RESTful APIs: For building RESTful APIs, routes are crucial. Different routes can handle different HTTP methods\\n            (GET, POST, PUT, DELETE) to perform various operations on resources.\\n4.User Interaction: Routes handle user interaction. When a user clicks a link or submits a form, a specific route\\n        can process the request and return an appropriate response.\\n5.Separation of Concerns: By assigning specific routes to specific functions, Flask applications follow the\\n        principle of separation of concerns. Each route or endpoint can be responsible for one specific \\n        functionality, making your application easier to manage and extend.\""
      ]
     },
     "execution_count": 9,
     "metadata": {},
     "output_type": "execute_result"
    }
   ],
   "source": [
    "'''Q3. What is App routing in Flask? Why do we use app routes?\n",
    "\n",
    "In Flask, routing refers to the process of determining which view function should be called when a client requests\n",
    "a specific URL from the Flask application. When you build a web application, you often need different parts of\n",
    "your code to be executed based on the URL requested by the user. Flask uses the concept of route decorators to\n",
    "achieve this, and this is what's commonly referred to as app routing.\n",
    "\n",
    "Use of App Routes:\n",
    "\n",
    "1.Organized Code: App routes allow you to organize your code efficiently. Each route corresponds to a specific\n",
    "            functionality of your application, making your codebase more structured and readable.\n",
    "2.Dynamic Content: Routes enable you to serve dynamic content based on user input or different URLs. For example, \n",
    "            you can have a route that displays different content for different products in an online store.\n",
    "3.RESTful APIs: For building RESTful APIs, routes are crucial. Different routes can handle different HTTP methods\n",
    "            (GET, POST, PUT, DELETE) to perform various operations on resources.\n",
    "4.User Interaction: Routes handle user interaction. When a user clicks a link or submits a form, a specific route\n",
    "        can process the request and return an appropriate response.\n",
    "5.Separation of Concerns: By assigning specific routes to specific functions, Flask applications follow the\n",
    "        principle of separation of concerns. Each route or endpoint can be responsible for one specific \n",
    "        functionality, making your application easier to manage and extend.'''\n"
   ]
  },
  {
   "cell_type": "code",
   "execution_count": 11,
   "id": "8581a60e-b072-43ab-9a1b-7e7c2d721e4a",
   "metadata": {},
   "outputs": [
    {
     "ename": "SyntaxError",
     "evalue": "unterminated string literal (detected at line 18) (3452501182.py, line 18)",
     "output_type": "error",
     "traceback": [
      "\u001b[0;36m  Cell \u001b[0;32mIn[11], line 18\u001b[0;36m\u001b[0m\n\u001b[0;31m    return \"\u001b[0m\n\u001b[0m           ^\u001b[0m\n\u001b[0;31mSyntaxError\u001b[0m\u001b[0;31m:\u001b[0m unterminated string literal (detected at line 18)\n"
     ]
    }
   ],
   "source": [
    "'''Q4. Create a “/welcome” route to display the welcome message “Welcome to ABC Corporation” and a “/”\n",
    "route to show the following details:\n",
    "Company Name: ABC Corporation\n",
    "Location: India\n",
    "Contact Detail: 999-999-9999\n",
    "Attach the screenshot of the output in Jupyter Notebook.'''\n",
    "\n",
    "from flask import Flask\n",
    "\n",
    "app = Flask(__name__)\n",
    "\n",
    "@app.route('/welcome')\n",
    "def welcome():\n",
    "    return 'Welcome to ABC Corporation'\n",
    "\n",
    "@app.route('/')\n",
    "def info():\n",
    "    return \"\n",
    "    Company Name: ABC Corporation\n",
    "    Location: India\n",
    "    Contact Detail: 999-999-9999\n",
    "    \"\n",
    "\n",
    "if __name__ == '__main__':\n",
    "    app.run(debug=True)\n"
   ]
  },
  {
   "cell_type": "code",
   "execution_count": 13,
   "id": "ea61c9ae-c71f-43ab-bbf1-6bc18f882d21",
   "metadata": {},
   "outputs": [
    {
     "ename": "SyntaxError",
     "evalue": "unterminated string literal (detected at line 25) (665830747.py, line 25)",
     "output_type": "error",
     "traceback": [
      "\u001b[0;36m  Cell \u001b[0;32mIn[13], line 25\u001b[0;36m\u001b[0m\n\u001b[0;31m    return \"\u001b[0m\n\u001b[0m           ^\u001b[0m\n\u001b[0;31mSyntaxError\u001b[0m\u001b[0;31m:\u001b[0m unterminated string literal (detected at line 25)\n"
     ]
    }
   ],
   "source": [
    "'''Q5. What function is used in Flask for URL Building? Write a Python code to demonstrate the working of the\n",
    "url_for() function.\n",
    "\n",
    "In Flask, the url_for() function is used for URL building. It generates a URL to a specific function. This is \n",
    "especially useful when you want to avoid hard-coding URLs in your templates and view functions. Instead, you can\n",
    "use the url_for() function to dynamically build URLs based on the endpoint name.'''\n",
    "\n",
    "from flask import Flask, url_for, render_template\n",
    "\n",
    "app = Flask(__name__)\n",
    "\n",
    "@app.route('/')\n",
    "def index():\n",
    "    welcome_url = url_for('welcome')\n",
    "    info_url = url_for('info')\n",
    "    return render_template('index.html', welcome_url=welcome_url, info_url=info_url)\n",
    "\n",
    "@app.route('/welcome')\n",
    "def welcome():\n",
    "    return 'Welcome to ABC Corporation'\n",
    "\n",
    "\n",
    "@app.route('/info')\n",
    "def info():\n",
    "    return \"\n",
    "    Company Name: ABC Corporation\n",
    "    Location: India\n",
    "    Contact Detail: 999-999-9999\n",
    "    \"\n",
    "\n",
    "if __name__ == '__main__':\n",
    "    app.run(debug=True)\n",
    "\n"
   ]
  },
  {
   "cell_type": "code",
   "execution_count": null,
   "id": "154e6956-a1a9-493e-82cd-bcf74cc0c649",
   "metadata": {},
   "outputs": [],
   "source": []
  }
 ],
 "metadata": {
  "kernelspec": {
   "display_name": "Python 3 (ipykernel)",
   "language": "python",
   "name": "python3"
  },
  "language_info": {
   "codemirror_mode": {
    "name": "ipython",
    "version": 3
   },
   "file_extension": ".py",
   "mimetype": "text/x-python",
   "name": "python",
   "nbconvert_exporter": "python",
   "pygments_lexer": "ipython3",
   "version": "3.10.8"
  }
 },
 "nbformat": 4,
 "nbformat_minor": 5
}
