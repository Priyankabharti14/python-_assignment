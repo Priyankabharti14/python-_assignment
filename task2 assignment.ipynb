{
 "cells": [
  {
   "cell_type": "code",
   "execution_count": 1,
   "id": "8fa5fcfb-6ebc-48c2-947a-5bc6f99724c3",
   "metadata": {},
   "outputs": [
    {
     "name": "stdout",
     "output_type": "stream",
     "text": [
      "Car\n",
      "200\n",
      "60\n",
      "Bike\n",
      "120\n",
      "40\n"
     ]
    }
   ],
   "source": [
    "'''Q1, Create a vehicle class with an init method having instance variables as name_of_vehicle, max_speed\n",
    "and average_of_vehicle.'''\n",
    "\n",
    "class Vehicle:\n",
    "    def __init__(self, name_of_vehicle, max_speed, average_of_vehicle):\n",
    "        self.name_of_vehicle = name_of_vehicle\n",
    "        self.max_speed = max_speed\n",
    "        self.average_of_vehicle = average_of_vehicle\n",
    "# Creating instances of Vehicle class\n",
    "car = Vehicle(\"Car\", 200, 60)\n",
    "bike = Vehicle(\"Bike\", 120, 40)\n",
    "\n",
    "# Accessing instance variables\n",
    "print(car.name_of_vehicle)        \n",
    "print(car.max_speed)              \n",
    "print(car.average_of_vehicle)     \n",
    "\n",
    "print(bike.name_of_vehicle)       \n",
    "print(bike.max_speed)             \n",
    "print(bike.average_of_vehicle)    \n",
    "\n"
   ]
  },
  {
   "cell_type": "code",
   "execution_count": 7,
   "id": "3d7d402e-268f-4bba-8bdd-07e6385074d6",
   "metadata": {},
   "outputs": [
    {
     "name": "stdout",
     "output_type": "stream",
     "text": [
      "sedan has a seating capacity of 5 passengers.\n"
     ]
    }
   ],
   "source": [
    "'''Q2. Create a child class car from the vehicle class created in Que 1, which will inherit the vehicle class.\n",
    "Create a method named seating_capacity which takes capacity as an argument and returns the name of\n",
    "the vehicle and its seating capacity.'''\n",
    "\n",
    "class Car(Vehicle):\n",
    "    def __init__(self, name_of_vehicle, max_speed, average_of_vehicle):\n",
    "        super().__init__(name_of_vehicle, max_speed, average_of_vehicle)\n",
    "    #super() is used to call a method from a parent class within child class\n",
    "    \n",
    "    def seating_capacity(self, capacity):\n",
    "        return f\"{self.name_of_vehicle} has a seating capacity of {capacity} passengers.\"\n",
    "car = Car(\"sedan\", 180, 50)\n",
    "\n",
    "print(car.seating_capacity(5))  \n",
    "   \n"
   ]
  },
  {
   "cell_type": "code",
   "execution_count": 8,
   "id": "d56c0cfd-82ea-4af1-a5b3-48657451bebb",
   "metadata": {},
   "outputs": [
    {
     "name": "stdout",
     "output_type": "stream",
     "text": [
      "Method from Parent1\n",
      "Method from Parent2\n",
      "Method from Child\n"
     ]
    }
   ],
   "source": [
    "'''Q3. What is multiple inheritance? Write a python code to demonstrate multiple inheritance.\n",
    "\n",
    "Multiple inheritance is a feature in object-oriented programming languages where a class can inherit attributes\n",
    "and methods from more than one parent class. In Python, a class can inherit from multiple classes by listing \n",
    "the parent classes in the class definition.'''\n",
    "\n",
    "class Parent1:\n",
    "    def method1(self):\n",
    "        print(\"Method from Parent1\")\n",
    "\n",
    "class Parent2:\n",
    "    def method2(self):\n",
    "        print(\"Method from Parent2\")\n",
    "\n",
    "class Child(Parent1, Parent2):\n",
    "    def method3(self):\n",
    "        print(\"Method from Child\")\n",
    "\n",
    "# Creating an object of the Child class\n",
    "child_obj = Child()\n",
    "\n",
    "# Calling methods from parent classes and the child class\n",
    "child_obj.method1()  \n",
    "child_obj.method2()  \n",
    "child_obj.method3()  \n"
   ]
  },
  {
   "cell_type": "code",
   "execution_count": 9,
   "id": "55c5e8fb-7166-45fb-a7f0-fd4ed31a8c01",
   "metadata": {},
   "outputs": [
    {
     "name": "stdout",
     "output_type": "stream",
     "text": [
      "Name: Alice\n",
      "Age: 30\n"
     ]
    }
   ],
   "source": [
    "'''Q4. What are getter and setter in python? Create a class and create a getter and a setter method in this\n",
    "class.\n",
    "\n",
    "In Python, getters and setters are methods used to control the access and modification of class attributes.\n",
    "They provide a way to encapsulate the attributes and enforce certain behaviors when getting or setting their \n",
    "values. Getters are used to retrieve the value of an attribute,\n",
    "while setters are used to modify the value of an attribute.'''\n",
    "\n",
    "class Person:\n",
    "    def __init__(self, name, age):\n",
    "        self._name = name  \n",
    "        self._age = age\n",
    "\n",
    "    def get_name(self):\n",
    "        return self._name\n",
    "\n",
    "    def set_name(self, new_name):\n",
    "        self._name = new_name\n",
    "\n",
    "    def get_age(self):\n",
    "        return self._age\n",
    "\n",
    "    def set_age(self, new_age):\n",
    "        if new_age < 0:\n",
    "            print(\"Age cannot be negative.\")\n",
    "        else:\n",
    "            self._age = new_age\n",
    "\n",
    "person = Person(\"Alice\", 30)\n",
    "\n",
    "print(\"Name:\", person.get_name())\n",
    "print(\"Age:\", person.get_age())\n",
    "\n",
    "person.set_name(\"Bob\")\n",
    "person.set_age(25)"
   ]
  },
  {
   "cell_type": "code",
   "execution_count": 10,
   "id": "00d4c402-db12-4005-8a0f-b4dac660e610",
   "metadata": {},
   "outputs": [
    {
     "name": "stdout",
     "output_type": "stream",
     "text": [
      "Dog barks\n",
      "Cat meows\n"
     ]
    }
   ],
   "source": [
    "'''Q5.What is method overriding in python? Write a python code to demonstrate method overriding.\n",
    "\n",
    "Method overriding is a concept in object-oriented programming where a subclass provides a specific implementation\n",
    "for a method that is already defined in its superclass. When a method is overridden, the subclass replaces the\n",
    "implementation of the method provided by the superclass with its own implementation.'''\n",
    "\n",
    "class Animal:\n",
    "    def speak(self):\n",
    "        print(\"Animal speaks\")\n",
    "\n",
    "class Dog(Animal):\n",
    "    def speak(self):\n",
    "        print(\"Dog barks\")\n",
    "\n",
    "class Cat(Animal):\n",
    "    def speak(self):\n",
    "        print(\"Cat meows\")\n",
    "\n",
    "# Creating instances of the subclasses\n",
    "dog = Dog()\n",
    "cat = Cat()\n",
    "\n",
    "# Calling the overridden method\n",
    "dog.speak()  \n",
    "cat.speak()  \n"
   ]
  },
  {
   "cell_type": "code",
   "execution_count": null,
   "id": "9cfa7404-8137-4722-8b99-12afb0cbfaff",
   "metadata": {},
   "outputs": [],
   "source": []
  }
 ],
 "metadata": {
  "kernelspec": {
   "display_name": "Python 3 (ipykernel)",
   "language": "python",
   "name": "python3"
  },
  "language_info": {
   "codemirror_mode": {
    "name": "ipython",
    "version": 3
   },
   "file_extension": ".py",
   "mimetype": "text/x-python",
   "name": "python",
   "nbconvert_exporter": "python",
   "pygments_lexer": "ipython3",
   "version": "3.10.8"
  }
 },
 "nbformat": 4,
 "nbformat_minor": 5
}
