{
 "cells": [
  {
   "cell_type": "code",
   "execution_count": 1,
   "id": "53f3842b-becc-4e60-ba1b-b86dbe7fa670",
   "metadata": {},
   "outputs": [
    {
     "name": "stdout",
     "output_type": "stream",
     "text": [
      "The mileage is 30kmph\n",
      "The mileage is 27kmph \n",
      "The mileage is 25kmph \n",
      "The mileage is 24kmph \n"
     ]
    }
   ],
   "source": [
    "'''Q1. What is Abstraction in OOps? Explain with an example.\n",
    "    Abstraction is used to hide the internal functionality of the function from the users.\n",
    "    The users only interact with the basic implementation of the function, but inner working is hidden. \n",
    "    User is familiar with that \"what function does\" but they don't know \"how it does.\" '''\n",
    "from abc import ABC, abstractmethod   \n",
    "class Car(ABC):   \n",
    "    def mileage(self):   \n",
    "        pass  \n",
    "  \n",
    "class Tesla(Car):   \n",
    "    def mileage(self):   \n",
    "        print(\"The mileage is 30kmph\")   \n",
    "class Suzuki(Car):   \n",
    "     def mileage(self):   \n",
    "        print(\"The mileage is 25kmph \")   \n",
    "class Duster(Car):   \n",
    "     def mileage(self):\n",
    "            print(\"The mileage is 24kmph \")   \n",
    "  \n",
    "class Renault(Car):   \n",
    "    def mileage(self):   \n",
    "            print(\"The mileage is 27kmph \")  \n",
    "# Driver code   \n",
    "t= Tesla ()   \n",
    "t.mileage()   \n",
    "  \n",
    "r = Renault()   \n",
    "r.mileage()   \n",
    "  \n",
    "s = Suzuki()   \n",
    "s.mileage()   \n",
    "d = Duster()   \n",
    "d.mileage()              \n",
    "          \n",
    "         \n",
    "  \n"
   ]
  },
  {
   "cell_type": "code",
   "execution_count": 2,
   "id": "8f9a27bf-5a4a-446d-abcc-7440d1eea655",
   "metadata": {},
   "outputs": [
    {
     "data": {
      "text/plain": [
       "'Q2. Differentiate between Abstraction and Encapsulation. Explain with an example.\\n \\n**Abstraction:**\\nAbstraction is the process of simplifying complex reality by modeling classes based on their essential\\ncharacteristics and behavior,  while ignoring unnecessary details. \\n\\n**Example of Abstraction:**\\nLet\\'s consider the concept of a \"Vehicle.\" In an abstract sense, a vehicle has attributes like speed, fuel\\nefficiency, and a method to start the engine. However, we don\\'t need to know the intricate details of how the\\nengine works or how the transmission system functions to use a vehicle. Thus, we create an abstract class or\\ninterface called \"Vehicle\" that defines these essential attributes and methods, allowing us to represent different\\ntypes of vehicles (cars, bikes, trucks) without getting into the nitty-gritty of each specific type\\'s\\nimplementation.\\n\\n**Encapsulation:**\\nEncapsulation involves the bundling of data (attributes) and methods (functions) that operate on the data into \\na single unit, called a class. It enforces the concept of data hiding, where the internal state of \\nan object is not directly accessible from outside the class. Instead, interactions with the object are \\nfacilitated through well-defined methods, providing controlled access to the internal data.\\n\\n**Example of Encapsulation:**\\nContinuing with the \"Vehicle\" example, let\\'s encapsulate the concept of a car. A car class might have attributes\\nlike \"speed,\" \"fuelLevel,\" and \"isEngineRunning.\" These attributes are private or protected, meaning they can only\\nbe accessed within the class. To interact with these attributes, we provide public methods like \"startEngine,\" \\n\"accelerate,\" and \"refuel.\" These methods control how the internal state changes and enforce constraints'"
      ]
     },
     "execution_count": 2,
     "metadata": {},
     "output_type": "execute_result"
    }
   ],
   "source": [
    "'''Q2. Differentiate between Abstraction and Encapsulation. Explain with an example.\n",
    " \n",
    "**Abstraction:**\n",
    "Abstraction is the process of simplifying complex reality by modeling classes based on their essential\n",
    "characteristics and behavior,  while ignoring unnecessary details. \n",
    "\n",
    "**Example of Abstraction:**\n",
    "Let's consider the concept of a \"Vehicle.\" In an abstract sense, a vehicle has attributes like speed, fuel\n",
    "efficiency, and a method to start the engine. However, we don't need to know the intricate details of how the\n",
    "engine works or how the transmission system functions to use a vehicle. Thus, we create an abstract class or\n",
    "interface called \"Vehicle\" that defines these essential attributes and methods, allowing us to represent different\n",
    "types of vehicles (cars, bikes, trucks) without getting into the nitty-gritty of each specific type's\n",
    "implementation.\n",
    "\n",
    "**Encapsulation:**\n",
    "Encapsulation involves the bundling of data (attributes) and methods (functions) that operate on the data into \n",
    "a single unit, called a class. It enforces the concept of data hiding, where the internal state of \n",
    "an object is not directly accessible from outside the class. Instead, interactions with the object are \n",
    "facilitated through well-defined methods, providing controlled access to the internal data.\n",
    "\n",
    "**Example of Encapsulation:**\n",
    "Continuing with the \"Vehicle\" example, let's encapsulate the concept of a car. A car class might have attributes\n",
    "like \"speed,\" \"fuelLevel,\" and \"isEngineRunning.\" These attributes are private or protected, meaning they can only\n",
    "be accessed within the class. To interact with these attributes, we provide public methods like \"startEngine,\" \n",
    "\"accelerate,\" and \"refuel.\" These methods control how the internal state changes and enforce constraints'''\n"
   ]
  },
  {
   "cell_type": "code",
   "execution_count": 3,
   "id": "80b9947d-89da-4258-a94b-38483b19287a",
   "metadata": {},
   "outputs": [
    {
     "data": {
      "text/plain": [
       "'Q3. What is abc module in python? Why is it used?\\nThe abc module in Python stands for \"Abstract Base Classes.\" It is a module within the Python standard library \\nthat provides a framework for creating and working with abstract base classes. Abstract base classes are\\nclasses that cannot be instantiated on their own but are meant to serve as a blueprint for other classes\\n\\nUsed of abc :  the abc module in Python is used to create abstract base classes, which define common methods \\nthat subclasses must implement. This promotes code consistency, reusability, and structured design by \\nensuring that classes adhere to a predefined interface.'"
      ]
     },
     "execution_count": 3,
     "metadata": {},
     "output_type": "execute_result"
    }
   ],
   "source": [
    "'''Q3. What is abc module in python? Why is it used?\n",
    "The abc module in Python stands for \"Abstract Base Classes.\" It is a module within the Python standard library \n",
    "that provides a framework for creating and working with abstract base classes. Abstract base classes are\n",
    "classes that cannot be instantiated on their own but are meant to serve as a blueprint for other classes\n",
    "\n",
    "Used of abc :  the abc module in Python is used to create abstract base classes, which define common methods \n",
    "that subclasses must implement. This promotes code consistency, reusability, and structured design by \n",
    "ensuring that classes adhere to a predefined interface.'''"
   ]
  },
  {
   "cell_type": "code",
   "execution_count": 4,
   "id": "b9e29ae3-469e-4769-96d4-47da9e4ae70e",
   "metadata": {},
   "outputs": [
    {
     "name": "stdout",
     "output_type": "stream",
     "text": [
      "Circle Area: 78.53975\n",
      "Rectangle Area: 24\n"
     ]
    }
   ],
   "source": [
    "'''Q4. How can we achieve data abstraction?\n",
    ". Data abstraction is achieved through the use of abstract classes and interfaces, which define a \n",
    "common interface that subclasses must adhere to while hiding the internal implementation.\n",
    "\n",
    "Here are the key steps to achieve data abstraction:\n",
    "\n",
    "1.Define an Abstract Base Class (ABC): Start by creating an abstract base class that defines the common attributes\n",
    "        and methods that should be present in all subclasses.  Use the abc module in Python to create an\n",
    "        abstract base class.\n",
    "2.Use Abstract Methods: Within the abstract base class, use the @abstractmethod decorator to declare \n",
    "           abstract methods.          \n",
    "3.Inherit from the Abstract Base Class: Create subclasses that inherit from the abstract base class.\n",
    "These subclasses are required to provide concrete implementations for all the abstract methods declared\n",
    "in the base class.\n",
    "\n",
    "4.Implement Subclass-Specific Behavior: In the subclasses, implement methods that provide specific behaviors.\n",
    "These methods can utilize the attributes and methods inherited from the abstract base class.\n",
    "\n",
    "5.Access through the Abstract Interface: When using objects of the subclasses, interact with them through the \n",
    "    abstract interface defined by the abstract base class. This allows you to access the common methods and \n",
    "    attributeswithout needing to know the internal details of the subclasses.'''\n",
    "\n",
    "#Example:\n",
    "\n",
    "from abc import ABC, abstractmethod\n",
    "\n",
    "class Shape(ABC):\n",
    "    @abstractmethod\n",
    "    def area(self):\n",
    "        pass\n",
    "\n",
    "class Circle(Shape):\n",
    "    def __init__(self, radius):\n",
    "        self.radius = radius\n",
    "    \n",
    "    def area(self):\n",
    "        return 3.14159 * self.radius * self.radius\n",
    "\n",
    "class Rectangle(Shape):\n",
    "    def __init__(self, width, height):\n",
    "        self.width = width\n",
    "        self.height = height\n",
    "    \n",
    "    def area(self):\n",
    "        return self.width * self.height\n",
    "\n",
    "# Using the abstract interface\n",
    "circle = Circle(5)\n",
    "rectangle = Rectangle(4, 6)\n",
    "\n",
    "print(\"Circle Area:\", circle.area())         \n",
    "print(\"Rectangle Area:\", rectangle.area())   \n",
    "       "
   ]
  },
  {
   "cell_type": "code",
   "execution_count": 6,
   "id": "cf85791f-e3da-45f0-b24f-2c2d2ee5d11e",
   "metadata": {},
   "outputs": [
    {
     "ename": "TypeError",
     "evalue": "Can't instantiate abstract class AbstractClass with abstract method abstract_method",
     "output_type": "error",
     "traceback": [
      "\u001b[0;31m---------------------------------------------------------------------------\u001b[0m",
      "\u001b[0;31mTypeError\u001b[0m                                 Traceback (most recent call last)",
      "Cell \u001b[0;32mIn[6], line 20\u001b[0m\n\u001b[1;32m     15\u001b[0m     \u001b[38;5;129m@abstractmethod\u001b[39m\n\u001b[1;32m     16\u001b[0m     \u001b[38;5;28;01mdef\u001b[39;00m \u001b[38;5;21mabstract_method\u001b[39m(\u001b[38;5;28mself\u001b[39m):\n\u001b[1;32m     17\u001b[0m         \u001b[38;5;28;01mpass\u001b[39;00m\n\u001b[0;32m---> 20\u001b[0m instance \u001b[38;5;241m=\u001b[39m \u001b[43mAbstractClass\u001b[49m\u001b[43m(\u001b[49m\u001b[43m)\u001b[49m\n",
      "\u001b[0;31mTypeError\u001b[0m: Can't instantiate abstract class AbstractClass with abstract method abstract_method"
     ]
    }
   ],
   "source": [
    "'''Q5. Can we create an instance of an abstract class? Explain your answer.\n",
    "\n",
    "No, you cannot create an instance of an abstract class in most object-oriented programming languages, including\n",
    "Python. Abstract classes are designed to serve as blueprints for other classes and are meant to be subclassed. \n",
    "They cannot be instantiated directly because they often contain one or more abstract methods that lack\n",
    "implementations in the abstract class itself.\n",
    "\n",
    "An abstract class can be thought of as an incomplete class that defines a contract for its subclasses to fulfill.\n",
    "It provides a common structure and interface that its subclasses must adhere to, but it doesn't  provide \n",
    "complete implementations for all the methods.'''\n",
    "\n",
    "from abc import ABC, abstractmethod\n",
    "\n",
    "class AbstractClass(ABC):\n",
    "    @abstractmethod\n",
    "    def abstract_method(self):\n",
    "        pass\n",
    "\n",
    "\n",
    "instance = AbstractClass()\n"
   ]
  },
  {
   "cell_type": "code",
   "execution_count": null,
   "id": "4a7b5479-58ab-4249-a8a0-4fcc6c18b253",
   "metadata": {},
   "outputs": [],
   "source": []
  }
 ],
 "metadata": {
  "kernelspec": {
   "display_name": "Python 3 (ipykernel)",
   "language": "python",
   "name": "python3"
  },
  "language_info": {
   "codemirror_mode": {
    "name": "ipython",
    "version": 3
   },
   "file_extension": ".py",
   "mimetype": "text/x-python",
   "name": "python",
   "nbconvert_exporter": "python",
   "pygments_lexer": "ipython3",
   "version": "3.10.8"
  }
 },
 "nbformat": 4,
 "nbformat_minor": 5
}
