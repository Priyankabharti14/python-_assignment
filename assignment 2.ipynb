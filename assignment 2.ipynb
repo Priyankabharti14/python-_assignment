{
 "cells": [
  {
   "cell_type": "code",
   "execution_count": 15,
   "id": "fbce8dc5-0fcf-4699-9009-6a72a38b39d4",
   "metadata": {},
   "outputs": [
    {
     "name": "stdout",
     "output_type": "stream",
     "text": [
      "[1, 3, 5, 7, 9, 11, 13, 15, 17, 19, 21, 23, 25]\n"
     ]
    }
   ],
   "source": [
    "'''Q1. Which keyword is used to create a function? Create a function to return a list of odd numbers in the\n",
    "range of 1 to 25.\n",
    "ans= the def keyword is used to creat a function'''\n",
    "def get_odd_numbers():\n",
    "    odd_numbers = []\n",
    "    for num in range(1, 26):\n",
    "        if num % 2 != 0:\n",
    "            odd_numbers.append(num)\n",
    "    return odd_numbers\n",
    "\n",
    "result_list = get_odd_numbers()\n",
    "print(result_list)\n",
    "\n",
    "       "
   ]
  },
  {
   "cell_type": "code",
   "execution_count": 19,
   "id": "84f9dff0-96a5-497e-a85e-40e08b00b4bf",
   "metadata": {},
   "outputs": [
    {
     "name": "stdout",
     "output_type": "stream",
     "text": [
      "Sum of numbers: 15\n",
      "Person Information:\n",
      "name: xyz\n",
      "age: 30\n",
      "city: New York\n"
     ]
    }
   ],
   "source": [
    "'''Q2. Why *args and **kwargs is used in some functions? Create a function each for *args and **kwargs\n",
    "to demonstrate their use.\n",
    "ans=  *args used to pass many number of arguments to function.\n",
    " *kwargs used to pass a keyworded, variable length argument list, you can provide name to variable \n",
    "you pass like it used to pass list'''\n",
    "\n",
    "# Function using *args\n",
    "def sum_numbers(*args):\n",
    "    total = 0\n",
    "    for num in args:\n",
    "        total += num\n",
    "    return total\n",
    "\n",
    "# Function using **kwargs\n",
    "def print_person_info(**kwargs):\n",
    "    print(\"Person Information:\")\n",
    "    for key, value in kwargs.items():\n",
    "        print(f\"{key}: {value}\")\n",
    "\n",
    "result1 = sum_numbers(1, 2, 3, 4, 5)\n",
    "print(\"Sum of numbers:\", result1)  \n",
    "\n",
    "print_person_info(name=\"xyz\", age=30, city=\"New York\")\n"
   ]
  },
  {
   "cell_type": "code",
   "execution_count": 18,
   "id": "ae27e0f5-b419-441b-8313-957773093b07",
   "metadata": {},
   "outputs": [
    {
     "name": "stdout",
     "output_type": "stream",
     "text": [
      "2\n",
      "4\n",
      "6\n",
      "8\n",
      "10\n"
     ]
    }
   ],
   "source": [
    "'''Q3. What is an iterator in python? Name the method used to initialise the iterator object and the method\n",
    "used for iteration. Use these methods to print the first five elements of the given list [2, 4, 6, 8, 10, 12, 14,\n",
    "16, 18, 20].\n",
    "ans = An iterator is an object that contain countable number of values. iter() and next() used to implement \n",
    "iterator.'''\n",
    "\n",
    "my_list = [2, 4, 6, 8, 10, 12, 14, 16, 18, 20]\n",
    "my_iterator = iter(my_list)\n",
    "\n",
    "\n",
    "for _ in range(5):\n",
    "    element = next(my_iterator)\n",
    "    print(element)\n"
   ]
  },
  {
   "cell_type": "code",
   "execution_count": 21,
   "id": "53162833-0f97-41a8-bd86-10d541a294ad",
   "metadata": {},
   "outputs": [
    {
     "name": "stdout",
     "output_type": "stream",
     "text": [
      "0\n",
      "1\n",
      "2\n"
     ]
    }
   ],
   "source": [
    "'''Q4. What is a generator function in python? Why yield keyword is used? Give an example of a generator\n",
    "function.\n",
    "ans = generator function return a iterator that produces a sequence of values when iterated over.\n",
    "    useful when we want to generate \n",
    "last sequence of values, but we don't want to store in memory at once \n",
    "yield keyword used to produce value from generator.'''\n",
    "def my_generator(n):\n",
    "    value = 0\n",
    "    while value < n:\n",
    "        yield value\n",
    "        value = value+1\n",
    "for value in my_generator(3):\n",
    "    print(value)\n",
    "\n"
   ]
  },
  {
   "cell_type": "code",
   "execution_count": 25,
   "id": "05c4d4f5-80fb-4533-85da-377b71f39188",
   "metadata": {},
   "outputs": [
    {
     "ename": "SyntaxError",
     "evalue": "invalid syntax (3950720895.py, line 20)",
     "output_type": "error",
     "traceback": [
      "\u001b[0;36m  Cell \u001b[0;32mIn[25], line 20\u001b[0;36m\u001b[0m\n\u001b[0;31m    for j in range(1:20):\u001b[0m\n\u001b[0m                    ^\u001b[0m\n\u001b[0;31mSyntaxError\u001b[0m\u001b[0;31m:\u001b[0m invalid syntax\n"
     ]
    }
   ],
   "source": [
    "'''Q5. Create a generator function for prime numbers less than 1000. Use the next() method to print the\n",
    "first 20 prime numbers.'''\n",
    "def genPrime():\n",
    "    num = 1\n",
    "    prime = False\n",
    "    while True:\n",
    "        for i in range(2, num+1):\n",
    "            if num % i == 0:\n",
    "                prime = False\n",
    "                if i == num:\n",
    "                    prime = True\n",
    "                break\n",
    "        if prime:\n",
    "            yield num\n",
    "            num = num+1\n",
    "        else:\n",
    "             num = num+1\n",
    "prime = genPrime()\n",
    "for i in range(1000):\n",
    "    for j in range(1:20):\n",
    "        print(next(prime))"
   ]
  },
  {
   "cell_type": "code",
   "execution_count": 26,
   "id": "53dd58c1-7447-4c72-9a92-23a16d66aaad",
   "metadata": {},
   "outputs": [
    {
     "name": "stdout",
     "output_type": "stream",
     "text": [
      "0 1 1 2 3 5 8 13 21 34 "
     ]
    }
   ],
   "source": [
    "#Q6. Write a python program to print the first 10 Fibonacci numbers using a while loop.\n",
    "num = 10\n",
    "n1 = 0\n",
    "n2 = 1\n",
    "sum = 0\n",
    "i = 0\n",
    "while(i < num):\n",
    "    print(n1,end = ' ')\n",
    "    sum = sum + n1\n",
    "    next = n1 + n2\n",
    "    n1 = n2\n",
    "    n2 = next\n",
    "    i = i+1"
   ]
  },
  {
   "cell_type": "code",
   "execution_count": 27,
   "id": "d759f52b-c695-404b-b1f7-e91197c090ca",
   "metadata": {},
   "outputs": [
    {
     "name": "stdout",
     "output_type": "stream",
     "text": [
      "['p', 'w', 's', 'k', 'i', 'l', 'l', 's']\n"
     ]
    }
   ],
   "source": [
    "'''Q7. Write a List Comprehension to iterate through the given string: ‘pwskills’.\n",
    "Expected output: ['p', 'w', 's', 'k', 'i', 'l', 'l', 's']'''\n",
    "list = []\n",
    "for i in 'pwskills':\n",
    "    list.append(i)\n",
    "print(list)"
   ]
  },
  {
   "cell_type": "code",
   "execution_count": 28,
   "id": "9ac1a19f-8bc8-44e2-bebc-9df60b399309",
   "metadata": {},
   "outputs": [
    {
     "name": "stdin",
     "output_type": "stream",
     "text": [
      "enter a number: 34\n"
     ]
    },
    {
     "name": "stdout",
     "output_type": "stream",
     "text": [
      "34 not palindrome\n"
     ]
    }
   ],
   "source": [
    "#Q8. Write a python program to check whether a given number is Palindrome or not using a while loop.\n",
    "\n",
    "num = int(input(\"enter a number:\"))\n",
    "reverse = 0\n",
    "number = num\n",
    "while(num != 0):\n",
    "    remainder = num % 10\n",
    "    reverse = reverse * 10 + remainder\n",
    "    num = int(num / 10)\n",
    "if(number == reverse):\n",
    "    print(number, \"is palindrome\")\n",
    "else:\n",
    "    print(number, \"not palindrome\")"
   ]
  },
  {
   "cell_type": "code",
   "execution_count": 29,
   "id": "8c9f0d33-c650-4a67-9266-69d9c19ebb1a",
   "metadata": {},
   "outputs": [
    {
     "name": "stdout",
     "output_type": "stream",
     "text": [
      "[1, 3, 5, 7, 9, 11, 13, 15, 17, 19, 21, 23, 25, 27, 29, 31, 33, 35, 37, 39, 41, 43, 45, 47, 49, 51, 53, 55, 57, 59, 61, 63, 65, 67, 69, 71, 73, 75, 77, 79, 81, 83, 85, 87, 89, 91, 93, 95, 97, 99]\n"
     ]
    }
   ],
   "source": [
    "#Q9. Write a code to print odd numbers from 1 to 100 using list comprehension.\n",
    "odd_list = [element for element in range(1,101) if element % 2 == 1]\n",
    "print(odd_list)"
   ]
  },
  {
   "cell_type": "code",
   "execution_count": null,
   "id": "6eeebd9d-89d1-4d6f-8a37-0e5415d63205",
   "metadata": {},
   "outputs": [],
   "source": []
  }
 ],
 "metadata": {
  "kernelspec": {
   "display_name": "Python 3 (ipykernel)",
   "language": "python",
   "name": "python3"
  },
  "language_info": {
   "codemirror_mode": {
    "name": "ipython",
    "version": 3
   },
   "file_extension": ".py",
   "mimetype": "text/x-python",
   "name": "python",
   "nbconvert_exporter": "python",
   "pygments_lexer": "ipython3",
   "version": "3.10.8"
  }
 },
 "nbformat": 4,
 "nbformat_minor": 5
}
