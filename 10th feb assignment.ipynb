{
 "cells": [
  {
   "cell_type": "code",
   "execution_count": 1,
   "id": "4806b73f-ef48-4397-a741-1a7059ab39dc",
   "metadata": {},
   "outputs": [
    {
     "data": {
      "text/plain": [
       "\"Q1. Which function is used to open a file? What are the different modes of opening a file? Explain each mode\\nof file opening.\\nAns =the function used to open a file is typically named open(). The open() function is used to establish a\\n    connection between your program and a file on the disk, allowing you to read from or write to the file.\\n\\nHere are the different modes of opening a file and their explanations:\\n    1.'r' (Read mode):\\n            This mode is used to open an existing file for reading.\\n            The file pointer is placed at the beginning of the file.\\n            If the file does not exist, an error will occur.\\n            Example: file = open('example.txt', 'r')\\n    2.'w' (Write mode):\\n            This mode is used to open a file for writing.\\n            If the file already exists, its contents are truncated (erased).\\n            If the file does not exist, a new empty file is created.\\n            Example: file = open('output.txt', 'w')\\n    3.'a' (Append mode):\\n            This mode is used to open a file for writing, but it appends data to the end of the file.\\n            If the file does not exist, a new empty file is created.\\n            Example: file = open('log.txt', 'a')\\n    4.'b' (Binary mode):\\n            This mode is used to open a file in binary mode, which is important when working with non-text files \\n            like images,audio, etc.\\n            It can be combined with other modes. For example, 'rb' or 'wb'.\\n            Example: file = open('image.jpg', 'rb')\\n    5.'x' (Exclusive creation mode):\\n            This mode is used to open a file exclusively for writing.\\n            If the file already exists, an error will occur.\\n            Example: file = open('new_file.txt', 'x')\\n    6.'t' (Text mode, default):\\n            This mode is used to open a file in text mode, which is the default mode if no 'b' is included.\\n            In this mode, the file contents are treated as strings.\\n            Example: file = open('text_file.txt', 'rt')\""
      ]
     },
     "execution_count": 1,
     "metadata": {},
     "output_type": "execute_result"
    }
   ],
   "source": [
    "'''Q1. Which function is used to open a file? What are the different modes of opening a file? Explain each mode\n",
    "of file opening.\n",
    "Ans =the function used to open a file is typically named open(). The open() function is used to establish a\n",
    "    connection between your program and a file on the disk, allowing you to read from or write to the file.\n",
    "\n",
    "Here are the different modes of opening a file and their explanations:\n",
    "    1.'r' (Read mode):\n",
    "            This mode is used to open an existing file for reading.\n",
    "            The file pointer is placed at the beginning of the file.\n",
    "            If the file does not exist, an error will occur.\n",
    "            Example: file = open('example.txt', 'r')\n",
    "    2.'w' (Write mode):\n",
    "            This mode is used to open a file for writing.\n",
    "            If the file already exists, its contents are truncated (erased).\n",
    "            If the file does not exist, a new empty file is created.\n",
    "            Example: file = open('output.txt', 'w')\n",
    "    3.'a' (Append mode):\n",
    "            This mode is used to open a file for writing, but it appends data to the end of the file.\n",
    "            If the file does not exist, a new empty file is created.\n",
    "            Example: file = open('log.txt', 'a')\n",
    "    4.'b' (Binary mode):\n",
    "            This mode is used to open a file in binary mode, which is important when working with non-text files \n",
    "            like images,audio, etc.\n",
    "            It can be combined with other modes. For example, 'rb' or 'wb'.\n",
    "            Example: file = open('image.jpg', 'rb')\n",
    "    5.'x' (Exclusive creation mode):\n",
    "            This mode is used to open a file exclusively for writing.\n",
    "            If the file already exists, an error will occur.\n",
    "            Example: file = open('new_file.txt', 'x')\n",
    "    6.'t' (Text mode, default):\n",
    "            This mode is used to open a file in text mode, which is the default mode if no 'b' is included.\n",
    "            In this mode, the file contents are treated as strings.\n",
    "            Example: file = open('text_file.txt', 'rt')'''"
   ]
  },
  {
   "cell_type": "code",
   "execution_count": 6,
   "id": "5f5da156-36af-4c21-9064-a85b58632bf4",
   "metadata": {},
   "outputs": [
    {
     "data": {
      "text/plain": [
       "\"Q2. Why close() function is used? Why is it important to close a file?\\n\\nThe close() function is used to close a file that was previously opened using the open() function.\\nIt's important to close a file after you're done working with it for several reasons:\\n    1.Resource Management:Opening a file consumes system resources such as memory and file handles. \\n    2.Data Integrity:When you write data to a file, it might not be immediately written to disk.\\n              Instead, it could be buffered in memory for efficiency .\\n    3. File Locking:Some operating systems implement file locking, which prevents other programs from modifying\\n                the file while it's open by another program.\\n    4. Avoiding Data Loss:\\n            Not closing a file properly can lead to data loss or corruption, especially when writing data.\\n            If the file is not closed and your program terminates unexpectedly (due to a crash or error),\\n            the data you wrote might not be fully saved, leaving the file in an inconsistent state.  \\nclosing a file using the close() function is important for releasing resources, maintaining data integrity, \\npreventing file locking issues, and avoiding data loss or corruption.\""
      ]
     },
     "execution_count": 6,
     "metadata": {},
     "output_type": "execute_result"
    }
   ],
   "source": [
    "'''Q2. Why close() function is used? Why is it important to close a file?\n",
    "\n",
    "The close() function is used to close a file that was previously opened using the open() function.\n",
    "It's important to close a file after you're done working with it for several reasons:\n",
    "    1.Resource Management:Opening a file consumes system resources such as memory and file handles. \n",
    "    2.Data Integrity:When you write data to a file, it might not be immediately written to disk.\n",
    "              Instead, it could be buffered in memory for efficiency .\n",
    "    3. File Locking:Some operating systems implement file locking, which prevents other programs from modifying\n",
    "                the file while it's open by another program.\n",
    "    4. Avoiding Data Loss:\n",
    "            Not closing a file properly can lead to data loss or corruption, especially when writing data.\n",
    "            If the file is not closed and your program terminates unexpectedly (due to a crash or error),\n",
    "            the data you wrote might not be fully saved, leaving the file in an inconsistent state.  \n",
    "closing a file using the close() function is important for releasing resources, maintaining data integrity, \n",
    "preventing file locking issues, and avoiding data loss or corruption.'''  "
   ]
  },
  {
   "cell_type": "code",
   "execution_count": 3,
   "id": "37af3b52-b68b-4893-933f-3a4ff1aba510",
   "metadata": {},
   "outputs": [
    {
     "name": "stdout",
     "output_type": "stream",
     "text": [
      "Content written to the file successfully.\n",
      "Content read from the file:\n",
      "I want to become a Data Scientist\n"
     ]
    }
   ],
   "source": [
    "'''Q3. Write a python program to create a text file. Write ‘I want to become a Data Scientist’ in that file. Then\n",
    "close the file. Open this file and read the content of the file.'''\n",
    "# Step 1: Create a text file and write content to it\n",
    "content = 'I want to become a Data Scientist'\n",
    "\n",
    "# Open the file in write mode ('w')\n",
    "with open('data_scientist.txt', 'w') as file:\n",
    "    file.write(content)\n",
    "\n",
    "print('Content written to the file successfully.')\n",
    "\n",
    "# Step 2: Open the file and read its content\n",
    "with open('data_scientist.txt', 'r') as file:\n",
    "    file_content = file.read()\n",
    "    print('Content read from the file:')\n",
    "    print(file_content)\n",
    "\n"
   ]
  },
  {
   "cell_type": "code",
   "execution_count": 8,
   "id": "a69bf751-6838-45ab-bdb7-a3e2c474c65a",
   "metadata": {},
   "outputs": [
    {
     "ename": "FileNotFoundError",
     "evalue": "[Errno 2] No such file or directory: 'sample.txt'",
     "output_type": "error",
     "traceback": [
      "\u001b[0;31m---------------------------------------------------------------------------\u001b[0m",
      "\u001b[0;31mFileNotFoundError\u001b[0m                         Traceback (most recent call last)",
      "Cell \u001b[0;32mIn[8], line 5\u001b[0m\n\u001b[1;32m      1\u001b[0m \u001b[38;5;124;03m'''Q4. Explain the following with python code: read(), readline() and readlines().\u001b[39;00m\n\u001b[1;32m      2\u001b[0m \n\u001b[1;32m      3\u001b[0m \u001b[38;5;124;03m1.read() Method:\u001b[39;00m\n\u001b[1;32m      4\u001b[0m \u001b[38;5;124;03m        The read() method is used to read the entire content of a file as a single string.'''\u001b[39;00m\n\u001b[0;32m----> 5\u001b[0m \u001b[38;5;28;01mwith\u001b[39;00m \u001b[38;5;28;43mopen\u001b[39;49m\u001b[43m(\u001b[49m\u001b[38;5;124;43m'\u001b[39;49m\u001b[38;5;124;43msample.txt\u001b[39;49m\u001b[38;5;124;43m'\u001b[39;49m\u001b[43m,\u001b[49m\u001b[43m \u001b[49m\u001b[38;5;124;43m'\u001b[39;49m\u001b[38;5;124;43mr\u001b[39;49m\u001b[38;5;124;43m'\u001b[39;49m\u001b[43m)\u001b[49m \u001b[38;5;28;01mas\u001b[39;00m file:\n\u001b[1;32m      6\u001b[0m     content \u001b[38;5;241m=\u001b[39m file\u001b[38;5;241m.\u001b[39mread()\n\u001b[1;32m      7\u001b[0m     \u001b[38;5;28mprint\u001b[39m(content)\n",
      "File \u001b[0;32m/opt/conda/lib/python3.10/site-packages/IPython/core/interactiveshell.py:282\u001b[0m, in \u001b[0;36m_modified_open\u001b[0;34m(file, *args, **kwargs)\u001b[0m\n\u001b[1;32m    275\u001b[0m \u001b[38;5;28;01mif\u001b[39;00m file \u001b[38;5;129;01min\u001b[39;00m {\u001b[38;5;241m0\u001b[39m, \u001b[38;5;241m1\u001b[39m, \u001b[38;5;241m2\u001b[39m}:\n\u001b[1;32m    276\u001b[0m     \u001b[38;5;28;01mraise\u001b[39;00m \u001b[38;5;167;01mValueError\u001b[39;00m(\n\u001b[1;32m    277\u001b[0m         \u001b[38;5;124mf\u001b[39m\u001b[38;5;124m\"\u001b[39m\u001b[38;5;124mIPython won\u001b[39m\u001b[38;5;124m'\u001b[39m\u001b[38;5;124mt let you open fd=\u001b[39m\u001b[38;5;132;01m{\u001b[39;00mfile\u001b[38;5;132;01m}\u001b[39;00m\u001b[38;5;124m by default \u001b[39m\u001b[38;5;124m\"\u001b[39m\n\u001b[1;32m    278\u001b[0m         \u001b[38;5;124m\"\u001b[39m\u001b[38;5;124mas it is likely to crash IPython. If you know what you are doing, \u001b[39m\u001b[38;5;124m\"\u001b[39m\n\u001b[1;32m    279\u001b[0m         \u001b[38;5;124m\"\u001b[39m\u001b[38;5;124myou can use builtins\u001b[39m\u001b[38;5;124m'\u001b[39m\u001b[38;5;124m open.\u001b[39m\u001b[38;5;124m\"\u001b[39m\n\u001b[1;32m    280\u001b[0m     )\n\u001b[0;32m--> 282\u001b[0m \u001b[38;5;28;01mreturn\u001b[39;00m \u001b[43mio_open\u001b[49m\u001b[43m(\u001b[49m\u001b[43mfile\u001b[49m\u001b[43m,\u001b[49m\u001b[43m \u001b[49m\u001b[38;5;241;43m*\u001b[39;49m\u001b[43margs\u001b[49m\u001b[43m,\u001b[49m\u001b[43m \u001b[49m\u001b[38;5;241;43m*\u001b[39;49m\u001b[38;5;241;43m*\u001b[39;49m\u001b[43mkwargs\u001b[49m\u001b[43m)\u001b[49m\n",
      "\u001b[0;31mFileNotFoundError\u001b[0m: [Errno 2] No such file or directory: 'sample.txt'"
     ]
    }
   ],
   "source": [
    "'''Q4. Explain the following with python code: read(), readline() and readlines().\n",
    "\n",
    "1.read() Method:\n",
    "        The read() method is used to read the entire content of a file as a single string.'''\n",
    "with open('sample.txt', 'r') as file:\n",
    "    content = file.read()\n",
    "    print(content)\n",
    "    \n",
    "'''2.readline() Method:\n",
    "            The readline() method is used to read a single line from the file.\n",
    "            It moves the file pointer to the beginning of the next line after reading.'''\n",
    "\n",
    "with open('sample.txt', 'r') as file:\n",
    "    line1 = file.readline()\n",
    "    line2 = file.readline()\n",
    "    print('Line 1:', line1)\n",
    "    print('Line 2:', line2)\n",
    "    \n",
    "'''3.readlines() Method:\n",
    "                The readlines() method is used to read all lines from the file and returns a list of strings, \n",
    "                where each string corresponds to a line in the file.'''\n",
    "\n",
    "\n",
    "with open('sample.txt', 'r') as file:\n",
    "    lines = file.readlines()\n",
    "    for line in lines:\n",
    "        print(line)"
   ]
  },
  {
   "cell_type": "code",
   "execution_count": 9,
   "id": "e6184dfe-4f0b-45f6-8885-1b538425ba52",
   "metadata": {},
   "outputs": [
    {
     "data": {
      "text/plain": [
       "\"Q5. Explain why with statement is used with open(). What is the advantage of using with statement and\\nopen() together?\\n\\nThe with statement in Python is used with the open() function to provide a cleaner and more concise way of working\\nwith external resources, such as files. It simplifies resource management and ensures that resources are properly\\nacquired and released, even in the presence of  exceptions.\\n\\nAdvantages of using the with statement with open():\\n1.Automatic Resource Management:\\n    When the code block inside the with statement is exited the file is automatically closed. \\n    This eliminates the need to explicitly call close() on the file object,reducing \\n    the chance of resource leaks and errors.\\nusing the with statement with the open() function provides automatic resource management, \\nimproves code readability, enhances exception safety, and isolates the context of file operations.\\nIt's a recommended approach for working with files and other resources that need proper opening and closing.\""
      ]
     },
     "execution_count": 9,
     "metadata": {},
     "output_type": "execute_result"
    }
   ],
   "source": [
    "'''Q5. Explain why with statement is used with open(). What is the advantage of using with statement and\n",
    "open() together?\n",
    "\n",
    "The with statement in Python is used with the open() function to provide a cleaner and more concise way of working\n",
    "with external resources, such as files. It simplifies resource management and ensures that resources are properly\n",
    "acquired and released, even in the presence of  exceptions.\n",
    "\n",
    "Advantages of using the with statement with open():\n",
    "1.Automatic Resource Management:\n",
    "    When the code block inside the with statement is exited the file is automatically closed. \n",
    "    This eliminates the need to explicitly call close() on the file object,reducing \n",
    "    the chance of resource leaks and errors.\n",
    "using the with statement with the open() function provides automatic resource management, \n",
    "improves code readability, enhances exception safety, and isolates the context of file operations.\n",
    "It's a recommended approach for working with files and other resources that need proper opening and closing.'''"
   ]
  },
  {
   "cell_type": "code",
   "execution_count": 11,
   "id": "c059a314-fc13-43bf-98e0-05b728cb1988",
   "metadata": {},
   "outputs": [],
   "source": [
    "'''Q6. Explain the write() and writelines() functions. Give a suitable example.\n",
    "\n",
    "1.write() Function:\n",
    "            The write() function is used to write a single string of data to the file.\n",
    "            It appends the given string to the end of the file's current content. \n",
    "            If the file does not exist, it creates a new file.\n",
    "2.writelines() Function:\n",
    "            The writelines() function is used to write a list of strings to the file.\n",
    "            It takes an iterable (such as a list or generator) of strings and\n",
    "            writes each string as a separateline in the file.''' \n",
    "\n",
    "content = \"This is a line of text.\\n\"\n",
    "\n",
    "with open('output.txt', 'w') as file:\n",
    "    file.write(content)\n",
    "lines = [\"Line 1\\n\", \"Line 2\\n\", \"Line 3\\n\"]\n",
    "\n",
    "with open('output.txt', 'w') as file:\n",
    "    file.writelines(lines)\n",
    "    \n"
   ]
  },
  {
   "cell_type": "code",
   "execution_count": null,
   "id": "fd12fe53-9491-41d0-9e3d-a777f093b124",
   "metadata": {},
   "outputs": [],
   "source": []
  }
 ],
 "metadata": {
  "kernelspec": {
   "display_name": "Python 3 (ipykernel)",
   "language": "python",
   "name": "python3"
  },
  "language_info": {
   "codemirror_mode": {
    "name": "ipython",
    "version": 3
   },
   "file_extension": ".py",
   "mimetype": "text/x-python",
   "name": "python",
   "nbconvert_exporter": "python",
   "pygments_lexer": "ipython3",
   "version": "3.10.8"
  }
 },
 "nbformat": 4,
 "nbformat_minor": 5
}
