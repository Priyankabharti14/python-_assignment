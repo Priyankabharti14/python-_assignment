{
 "cells": [
  {
   "cell_type": "code",
   "execution_count": 1,
   "id": "d000b623-7110-4745-9af8-f744f5170bcf",
   "metadata": {},
   "outputs": [
    {
     "data": {
      "text/plain": [
       "\"Q1. Explain GET and POST methods.\\n\\nGET and POST are two different HTTP methods used to request and send data between a client (such as a web browser)\\nand a server. They are fundamental concepts in web development and are often used in the context of HTML forms.\\n\\nGET Method:\\n1.Purpose: GET is used to request data from a specified resource.\\n2.Data Handling: Data is appended to the URL in the form of parameters. \\n3.Security: Data is visible in the URL, which means it's not suitable for sensitive information. It has length \\n        restrictions, and data can be cached and bookmarked.\\n4.Idempotent: GET requests are idempotent, meaning making the same request multiple times will produce the same \\n        result.\\n5.Usage: GET requests are used for safe operations, such as retrieving data from a server.\\n\\nPOST Method:\\n1.Purpose: POST is used to submit data to be processed to a specified resource.\\n2.Data Handling: Data is sent in the body of the HTTP request. It's not visible in the URL. This makes it suitable\\n        for sensitive information like passwords.\\n3.Security: POST provides a higher level of security because data is not visible in the URL. It is not cached or\\n    bookmarked. However, it can still be intercepted and modified, so sensitive data should be encrypted.\\n4.Idempotent: POST requests are not idempotent. Making the same request multiple times can have different effects\\n    each time.\\n5.Usage: POST requests are used for operations that cause a state change on the server, such as submitting a form,\\n    creating a new resource, or updating an existing resource.\""
      ]
     },
     "execution_count": 1,
     "metadata": {},
     "output_type": "execute_result"
    }
   ],
   "source": [
    "'''Q1. Explain GET and POST methods.\n",
    "\n",
    "GET and POST are two different HTTP methods used to request and send data between a client (such as a web browser)\n",
    "and a server. They are fundamental concepts in web development and are often used in the context of HTML forms.\n",
    "\n",
    "GET Method:\n",
    "1.Purpose: GET is used to request data from a specified resource.\n",
    "2.Data Handling: Data is appended to the URL in the form of parameters. \n",
    "3.Security: Data is visible in the URL, which means it's not suitable for sensitive information. It has length \n",
    "        restrictions, and data can be cached and bookmarked.\n",
    "4.Idempotent: GET requests are idempotent, meaning making the same request multiple times will produce the same \n",
    "        result.\n",
    "5.Usage: GET requests are used for safe operations, such as retrieving data from a server.\n",
    "\n",
    "POST Method:\n",
    "1.Purpose: POST is used to submit data to be processed to a specified resource.\n",
    "2.Data Handling: Data is sent in the body of the HTTP request. It's not visible in the URL. This makes it suitable\n",
    "        for sensitive information like passwords.\n",
    "3.Security: POST provides a higher level of security because data is not visible in the URL. It is not cached or\n",
    "    bookmarked. However, it can still be intercepted and modified, so sensitive data should be encrypted.\n",
    "4.Idempotent: POST requests are not idempotent. Making the same request multiple times can have different effects\n",
    "    each time.\n",
    "5.Usage: POST requests are used for operations that cause a state change on the server, such as submitting a form,\n",
    "    creating a new resource, or updating an existing resource.'''"
   ]
  },
  {
   "cell_type": "code",
   "execution_count": 2,
   "id": "7b5aa696-46ee-48d6-b7d5-1581748f0f5e",
   "metadata": {},
   "outputs": [
    {
     "data": {
      "text/plain": [
       "'Q2. Why is request used in Flask?\\n\\nIn Flask, the request object is used to access incoming data from a client, such as form data, query parameters,\\nJSON payloads, and more. It provides a way for the server-side Flask application to handle and process data sent\\nby the client (typically a web browser)'"
      ]
     },
     "execution_count": 2,
     "metadata": {},
     "output_type": "execute_result"
    }
   ],
   "source": [
    "'''Q2. Why is request used in Flask?\n",
    "\n",
    "In Flask, the request object is used to access incoming data from a client, such as form data, query parameters,\n",
    "JSON payloads, and more. It provides a way for the server-side Flask application to handle and process data sent\n",
    "by the client (typically a web browser)'''"
   ]
  },
  {
   "cell_type": "code",
   "execution_count": 4,
   "id": "7c9497be-aee2-4ef9-8b46-8ac5fc345967",
   "metadata": {},
   "outputs": [
    {
     "data": {
      "text/plain": [
       "\"Q3. Why is redirect() used in Flask?\\n\\nIn Flask, the redirect() function is used to redirect the user's browser to a different route or URL. It plays a\\ncrucial role in web applications for several reasons:\\n\\n1.Page Redirection: When a user performs a certain action or accesses a specific route, the server might need to\\n            redirect them to another page.\\n2.Handling Post-Redirect-Get Pattern: In web applications, it's a best practice to use the Post-Redirect-Get \\n                (PRG) pattern to avoid duplicate form submissions.  \\n3.Dynamic URL Generation: The redirect() function allows developers to generate redirect URLs dynamically.\""
      ]
     },
     "execution_count": 4,
     "metadata": {},
     "output_type": "execute_result"
    }
   ],
   "source": [
    "'''Q3. Why is redirect() used in Flask?\n",
    "\n",
    "In Flask, the redirect() function is used to redirect the user's browser to a different route or URL. It plays a\n",
    "crucial role in web applications for several reasons:\n",
    "\n",
    "1.Page Redirection: When a user performs a certain action or accesses a specific route, the server might need to\n",
    "            redirect them to another page.\n",
    "2.Handling Post-Redirect-Get Pattern: In web applications, it's a best practice to use the Post-Redirect-Get \n",
    "                (PRG) pattern to avoid duplicate form submissions.  \n",
    "3.Dynamic URL Generation: The redirect() function allows developers to generate redirect URLs dynamically.''' "
   ]
  },
  {
   "cell_type": "code",
   "execution_count": 5,
   "id": "5c1a9452-9995-4996-b1a2-eb1a66b378cc",
   "metadata": {},
   "outputs": [
    {
     "data": {
      "text/plain": [
       "'Q4. What are templates in Flask? Why is the render_template() function used?\\n\\nIn Flask, templates are files containing HTML and dynamic content that allows you to build web pages more \\nefficiently. Instead of generating HTML content in your Python code, you can separate the presentation logic\\n(HTML, CSS) from the application logic (Python code). Templates can include placeholders and control structures \\nthat are replaced by actual values and data during runtime. Flask uses the Jinja2 template engine, which provides\\npowerful features like template inheritance, macros, and filters.\\n\\nThe render_template() function in Flask is used to render templates. It takes the name of the template file and \\nany additional arguments (variables) that should be passed to the template for rendering. '"
      ]
     },
     "execution_count": 5,
     "metadata": {},
     "output_type": "execute_result"
    }
   ],
   "source": [
    "'''Q4. What are templates in Flask? Why is the render_template() function used?\n",
    "\n",
    "In Flask, templates are files containing HTML and dynamic content that allows you to build web pages more \n",
    "efficiently. Instead of generating HTML content in your Python code, you can separate the presentation logic\n",
    "(HTML, CSS) from the application logic (Python code). Templates can include placeholders and control structures \n",
    "that are replaced by actual values and data during runtime. Flask uses the Jinja2 template engine, which provides\n",
    "powerful features like template inheritance, macros, and filters.\n",
    "\n",
    "The render_template() function in Flask is used to render templates. It takes the name of the template file and \n",
    "any additional arguments (variables) that should be passed to the template for rendering. '''"
   ]
  },
  {
   "cell_type": "code",
   "execution_count": 6,
   "id": "3ccc6662-9f23-4694-aa49-dbae3b698f80",
   "metadata": {},
   "outputs": [],
   "source": [
    "#Q5. Create a simple API. Use Postman to test it. Attach the screenshot of the output in the Jupyter Notebook."
   ]
  },
  {
   "cell_type": "code",
   "execution_count": 7,
   "id": "e8744e05-203b-4e2f-9c6d-d8bedb476028",
   "metadata": {},
   "outputs": [
    {
     "name": "stdout",
     "output_type": "stream",
     "text": [
      "Collecting flask\n",
      "  Downloading flask-3.0.0-py3-none-any.whl (99 kB)\n",
      "\u001b[2K     \u001b[90m━━━━━━━━━━━━━━━━━━━━━━━━━━━━━━━━━━━━━━━━\u001b[0m \u001b[32m99.7/99.7 kB\u001b[0m \u001b[31m4.3 MB/s\u001b[0m eta \u001b[36m0:00:00\u001b[0m\n",
      "\u001b[?25hCollecting itsdangerous>=2.1.2\n",
      "  Downloading itsdangerous-2.1.2-py3-none-any.whl (15 kB)\n",
      "Collecting Werkzeug>=3.0.0\n",
      "  Downloading werkzeug-3.0.0-py3-none-any.whl (226 kB)\n",
      "\u001b[2K     \u001b[90m━━━━━━━━━━━━━━━━━━━━━━━━━━━━━━━━━━━━━━\u001b[0m \u001b[32m226.6/226.6 kB\u001b[0m \u001b[31m26.3 MB/s\u001b[0m eta \u001b[36m0:00:00\u001b[0m\n",
      "\u001b[?25hCollecting blinker>=1.6.2\n",
      "  Downloading blinker-1.6.3-py3-none-any.whl (13 kB)\n",
      "Requirement already satisfied: click>=8.1.3 in /opt/conda/lib/python3.10/site-packages (from flask) (8.1.3)\n",
      "Requirement already satisfied: Jinja2>=3.1.2 in /opt/conda/lib/python3.10/site-packages (from flask) (3.1.2)\n",
      "Requirement already satisfied: MarkupSafe>=2.0 in /opt/conda/lib/python3.10/site-packages (from Jinja2>=3.1.2->flask) (2.1.1)\n",
      "Installing collected packages: Werkzeug, itsdangerous, blinker, flask\n",
      "  Attempting uninstall: blinker\n",
      "    Found existing installation: blinker 1.5\n",
      "    Uninstalling blinker-1.5:\n",
      "      Successfully uninstalled blinker-1.5\n",
      "Successfully installed Werkzeug-3.0.0 blinker-1.6.3 flask-3.0.0 itsdangerous-2.1.2\n",
      "Note: you may need to restart the kernel to use updated packages.\n"
     ]
    }
   ],
   "source": [
    "pip install flask\n"
   ]
  },
  {
   "cell_type": "code",
   "execution_count": 8,
   "id": "2bb1e71e-0500-4011-9e43-8619cceb46ae",
   "metadata": {},
   "outputs": [
    {
     "name": "stdout",
     "output_type": "stream",
     "text": [
      " * Serving Flask app '__main__'\n",
      " * Debug mode: on\n"
     ]
    },
    {
     "name": "stderr",
     "output_type": "stream",
     "text": [
      "WARNING: This is a development server. Do not use it in a production deployment. Use a production WSGI server instead.\n",
      " * Running on http://127.0.0.1:5000\n",
      "Press CTRL+C to quit\n",
      " * Restarting with stat\n",
      "Traceback (most recent call last):\n",
      "  File \"/opt/conda/lib/python3.10/runpy.py\", line 196, in _run_module_as_main\n",
      "    return _run_code(code, main_globals, None,\n",
      "  File \"/opt/conda/lib/python3.10/runpy.py\", line 86, in _run_code\n",
      "    exec(code, run_globals)\n",
      "  File \"/opt/conda/lib/python3.10/site-packages/ipykernel_launcher.py\", line 17, in <module>\n",
      "    app.launch_new_instance()\n",
      "  File \"/opt/conda/lib/python3.10/site-packages/traitlets/config/application.py\", line 991, in launch_instance\n",
      "    app.initialize(argv)\n",
      "  File \"/opt/conda/lib/python3.10/site-packages/traitlets/config/application.py\", line 113, in inner\n",
      "    return method(app, *args, **kwargs)\n",
      "  File \"/opt/conda/lib/python3.10/site-packages/ipykernel/kernelapp.py\", line 665, in initialize\n",
      "    self.init_sockets()\n",
      "  File \"/opt/conda/lib/python3.10/site-packages/ipykernel/kernelapp.py\", line 309, in init_sockets\n",
      "    self.shell_port = self._bind_socket(self.shell_socket, self.shell_port)\n",
      "  File \"/opt/conda/lib/python3.10/site-packages/ipykernel/kernelapp.py\", line 246, in _bind_socket\n",
      "    return self._try_bind_socket(s, port)\n",
      "  File \"/opt/conda/lib/python3.10/site-packages/ipykernel/kernelapp.py\", line 222, in _try_bind_socket\n",
      "    s.bind(\"tcp://%s:%i\" % (self.ip, port))\n",
      "  File \"/opt/conda/lib/python3.10/site-packages/zmq/sugar/socket.py\", line 232, in bind\n",
      "    super().bind(addr)\n",
      "  File \"zmq/backend/cython/socket.pyx\", line 568, in zmq.backend.cython.socket.Socket.bind\n",
      "  File \"zmq/backend/cython/checkrc.pxd\", line 28, in zmq.backend.cython.checkrc._check_rc\n",
      "zmq.error.ZMQError: Address already in use\n"
     ]
    },
    {
     "ename": "SystemExit",
     "evalue": "1",
     "output_type": "error",
     "traceback": [
      "An exception has occurred, use %tb to see the full traceback.\n",
      "\u001b[0;31mSystemExit\u001b[0m\u001b[0;31m:\u001b[0m 1\n"
     ]
    },
    {
     "name": "stderr",
     "output_type": "stream",
     "text": [
      "/opt/conda/lib/python3.10/site-packages/IPython/core/interactiveshell.py:3441: UserWarning: To exit: use 'exit', 'quit', or Ctrl-D.\n",
      "  warn(\"To exit: use 'exit', 'quit', or Ctrl-D.\", stacklevel=1)\n"
     ]
    }
   ],
   "source": [
    "from flask import Flask, jsonify\n",
    "\n",
    "app = Flask(__name__)\n",
    "\n",
    "data = {\n",
    "    \"message\": \"Hello, this is a simple API!\"\n",
    "}\n",
    "\n",
    "@app.route('/api', methods=['GET'])\n",
    "def get_data():\n",
    "    return jsonify(data)\n",
    "\n",
    "if __name__ == '__main__':\n",
    "    app.run(debug=True)\n"
   ]
  },
  {
   "cell_type": "code",
   "execution_count": null,
   "id": "e3ad9464-2f05-4301-b158-34f4f06a7dd1",
   "metadata": {},
   "outputs": [],
   "source": []
  }
 ],
 "metadata": {
  "kernelspec": {
   "display_name": "Python 3 (ipykernel)",
   "language": "python",
   "name": "python3"
  },
  "language_info": {
   "codemirror_mode": {
    "name": "ipython",
    "version": 3
   },
   "file_extension": ".py",
   "mimetype": "text/x-python",
   "name": "python",
   "nbconvert_exporter": "python",
   "pygments_lexer": "ipython3",
   "version": "3.10.8"
  }
 },
 "nbformat": 4,
 "nbformat_minor": 5
}
