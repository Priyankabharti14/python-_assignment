{
 "cells": [
  {
   "cell_type": "code",
   "execution_count": 2,
   "id": "c6402897-50a5-45e6-b848-70cfa9549d38",
   "metadata": {},
   "outputs": [
    {
     "ename": "IndentationError",
     "evalue": "unexpected indent (406739760.py, line 8)",
     "output_type": "error",
     "traceback": [
      "\u001b[0;36m  Cell \u001b[0;32mIn[2], line 8\u001b[0;36m\u001b[0m\n\u001b[0;31m    import pandas as pd\u001b[0m\n\u001b[0m    ^\u001b[0m\n\u001b[0;31mIndentationError\u001b[0m\u001b[0;31m:\u001b[0m unexpected indent\n"
     ]
    }
   ],
   "source": [
    "'''Q1. List any five functions of the pandas library with execution.\n",
    "\n",
    "Certainly! Here are five common functions from the pandas library in Python, along with their execution examples:'''\n",
    "\n",
    "#1. **`pd.read_csv()`**: This function is used to read data from a CSV file into a pandas DataFrame.\n",
    "\n",
    "   \n",
    "   import pandas as pd\n",
    "\n",
    "   # Reading data from a CSV file into a DataFrame\n",
    "   df = pd.read_csv('data.csv')\n",
    "   \n",
    "\n",
    "#2. **`df.head()`**: This function is used to display the first 5 rows of a DataFrame.\n",
    "\n",
    "   \n",
    "   # Displaying the first 5 rows of the DataFrame\n",
    "   print(df.head())\n",
    "   \n",
    "\n",
    "#3. **`df.describe()`**: This function generates descriptive statistics of the DataFrame, including count, mean, std deviation, min, max, etc.\n",
    "\n",
    "   \n",
    "   # Generating descriptive statistics of the DataFrame\n",
    "   print(df.describe())\n",
    "   \n",
    "\n",
    "#4. **`df.groupby()`**: This function is used to split the data into groups based on some criteria, and then apply a function to each group independently.\n",
    "\n",
    "   \n",
    "   # Grouping data based on a column and calculating the mean of another column\n",
    "   grouped_data = df.groupby('category')['value'].mean()\n",
    "   print(grouped_data)\n",
    "   \n",
    "\n",
    "#5. **`df.to_csv()`**: This function is used to write a DataFrame to a CSV file.\n",
    "\n",
    "   \n",
    "   # Writing the DataFrame to a new CSV file\n",
    "   df.to_csv('output.csv', index=False)\n",
    "   \n",
    "\n"
   ]
  },
  {
   "cell_type": "code",
   "execution_count": 4,
   "id": "0b6e5983-bb34-4228-a57a-db53d0d074ec",
   "metadata": {},
   "outputs": [
    {
     "name": "stdout",
     "output_type": "stream",
     "text": [
      "    A   B    C\n",
      "1  10  50   90\n",
      "3  20  60  100\n",
      "5  30  70  110\n",
      "7  40  80  120\n"
     ]
    },
    {
     "data": {
      "text/plain": [
       "\"In this function, pd.RangeIndex(start=1, stop=len(df) * 2, step=2) creates a new index that starts from 1, ends at \\ndouble the length of the DataFrame, and increments by 2 for each row. You can replace the sample DataFrame df with\\nyour own DataFrame that has columns 'A', 'B', and 'C'. The function will re-index the DataFrame as per your requirements.\""
      ]
     },
     "execution_count": 4,
     "metadata": {},
     "output_type": "execute_result"
    }
   ],
   "source": [
    "'''Q2. Given a Pandas DataFrame df with columns 'A', 'B', and 'C', write a Python function to re-index the\n",
    "DataFrame with a new index that starts from 1 and increments by 2 for each row.\n",
    "\n",
    "Certainly! You can create a new index starting from 1 and incrementing by 2 for each row in a Pandas DataFrame using the following Python function:'''\n",
    "\n",
    "\n",
    "import pandas as pd\n",
    "\n",
    "# Sample DataFrame with columns 'A', 'B', and 'C'\n",
    "data = {'A': [10, 20, 30, 40],\n",
    "        'B': [50, 60, 70, 80],\n",
    "        'C': [90, 100, 110, 120]}\n",
    "\n",
    "df = pd.DataFrame(data)\n",
    "\n",
    "def reindex_dataframe(df):\n",
    "    # Re-indexing the DataFrame starting from 1 and incrementing by 2\n",
    "    df.index = pd.RangeIndex(start=1, stop=len(df) * 2, step=2)\n",
    "    return df\n",
    "\n",
    "# Call the function to re-index the DataFrame\n",
    "new_df = reindex_dataframe(df)\n",
    "\n",
    "# Print the updated DataFrame with the new index\n",
    "print(new_df)\n",
    "\n",
    "\n",
    "'''In this function, pd.RangeIndex(start=1, stop=len(df) * 2, step=2) creates a new index that starts from 1, ends at \n",
    "double the length of the DataFrame, and increments by 2 for each row. You can replace the sample DataFrame df with\n",
    "your own DataFrame that has columns 'A', 'B', and 'C'. The function will re-index the DataFrame as per your requirements.'''"
   ]
  },
  {
   "cell_type": "code",
   "execution_count": 5,
   "id": "537aa902-7456-4ec0-b53e-54eb882dc011",
   "metadata": {},
   "outputs": [
    {
     "name": "stdout",
     "output_type": "stream",
     "text": [
      "Sum of the first three values in the 'Values' column: 60\n"
     ]
    },
    {
     "data": {
      "text/plain": [
       "\"In this function, `values_column.head(3)` extracts the first three values from the 'Values' column, and `.sum()` \\ncalculates their sum. Finally, the function prints the sum to the console. You can replace the sample DataFrame\\n`df` with your own DataFrame if needed.\""
      ]
     },
     "execution_count": 5,
     "metadata": {},
     "output_type": "execute_result"
    }
   ],
   "source": [
    "'''Q3. You have a Pandas DataFrame df with a column named 'Values'. Write a Python function that\n",
    "iterates over the DataFrame and calculates the sum of the first three values in the 'Values' column. The\n",
    "function should print the sum to the console.\n",
    "\n",
    "Certainly! You can achieve this by iterating over the 'Values' column in the DataFrame and summing the first three values. Here's how you can write the Python function:'''\n",
    "\n",
    "\n",
    "import pandas as pd\n",
    "\n",
    "# Sample DataFrame with 'Values' column\n",
    "data = {'Values': [10, 20, 30, 40, 50]}\n",
    "df = pd.DataFrame(data)\n",
    "\n",
    "def calculate_sum_of_first_three_values(df):\n",
    "    # Extract the 'Values' column from the DataFrame\n",
    "    values_column = df['Values']\n",
    "    \n",
    "    # Calculate the sum of the first three values in the 'Values' column\n",
    "    sum_first_three_values = values_column.head(3).sum()\n",
    "    \n",
    "    # Print the sum to the console\n",
    "    print(\"Sum of the first three values in the 'Values' column:\", sum_first_three_values)\n",
    "\n",
    "# Call the function to calculate and print the sum\n",
    "calculate_sum_of_first_three_values(df)\n",
    "\n",
    "\n",
    "'''In this function, `values_column.head(3)` extracts the first three values from the 'Values' column, and `.sum()` \n",
    "calculates their sum. Finally, the function prints the sum to the console. You can replace the sample DataFrame\n",
    "`df` with your own DataFrame if needed.'''"
   ]
  },
  {
   "cell_type": "code",
   "execution_count": 6,
   "id": "485ee365-fc61-42a8-a080-066aeb8b07cf",
   "metadata": {},
   "outputs": [
    {
     "name": "stdout",
     "output_type": "stream",
     "text": [
      "                         Text  Word_Count\n",
      "0  This is a sample sentence.           5\n",
      "1    Another example of text.           4\n",
      "2      A third sentence here.           4\n"
     ]
    },
    {
     "data": {
      "text/plain": [
       "\"In this function, the `count_words()` function takes a text input, splits it into words using `.split()`,\\nand returns the count of words. The `add_word_count_column()` function uses the `apply()` function along with\\na lambda function to apply `count_words()` to each row in the 'Text' column, creating a new column 'Word_Count' \\nin the DataFrame. Finally, the updated DataFrame with the 'Word_Count' column is printed.\\nMake sure to replace the sample DataFrame `df` with your own DataFrame if needed.\""
      ]
     },
     "execution_count": 6,
     "metadata": {},
     "output_type": "execute_result"
    }
   ],
   "source": [
    "'''Q4. Given a Pandas DataFrame df with a column 'Text', write a Python function to create a new column\n",
    "'Word_Count' that contains the number of words in each row of the 'Text' column.\n",
    "\n",
    "Certainly! You can create a new column 'Word_Count' in the DataFrame, which contains the number of words in\n",
    "each row of the 'Text' column using the `apply()` function along with a lambda function to split the text\n",
    "into words and count them. Here's how you can write the Python function to achieve this:'''\n",
    "\n",
    "\n",
    "import pandas as pd\n",
    "\n",
    "# Sample DataFrame with 'Text' column\n",
    "data = {'Text': ['This is a sample sentence.',\n",
    "                 'Another example of text.',\n",
    "                 'A third sentence here.']}\n",
    "\n",
    "df = pd.DataFrame(data)\n",
    "\n",
    "def count_words(text):\n",
    "    # Split the text into words and return the count\n",
    "    words = text.split()\n",
    "    return len(words)\n",
    "\n",
    "def add_word_count_column(df):\n",
    "    # Apply the count_words function to 'Text' column and create 'Word_Count' column\n",
    "    df['Word_Count'] = df['Text'].apply(lambda x: count_words(x))\n",
    "    return df\n",
    "\n",
    "# Call the function to add 'Word_Count' column\n",
    "df = add_word_count_column(df)\n",
    "\n",
    "# Print the updated DataFrame with 'Word_Count' column\n",
    "print(df)\n",
    "\n",
    "\n",
    "'''In this function, the `count_words()` function takes a text input, splits it into words using `.split()`,\n",
    "and returns the count of words. The `add_word_count_column()` function uses the `apply()` function along with\n",
    "a lambda function to apply `count_words()` to each row in the 'Text' column, creating a new column 'Word_Count' \n",
    "in the DataFrame. Finally, the updated DataFrame with the 'Word_Count' column is printed.\n",
    "Make sure to replace the sample DataFrame `df` with your own DataFrame if needed.'''"
   ]
  },
  {
   "cell_type": "code",
   "execution_count": 4,
   "id": "06d29557-c835-436c-8c9c-4ca05faaba1d",
   "metadata": {},
   "outputs": [
    {
     "name": "stdout",
     "output_type": "stream",
     "text": [
      "6\n",
      "(3, 2)\n"
     ]
    }
   ],
   "source": [
    "'''Q5. How are DataFrame.size() and DataFrame.shape() different?\n",
    "\n",
    "In the context of pandas, `DataFrame.size` and `DataFrame.shape` are attributes used to understand the dimensions of a DataFrame, but they represent different aspects of the DataFrame structure.\n",
    "\n",
    "1. **`DataFrame.size`**:\n",
    "   - `DataFrame.size` represents the total number of elements in the DataFrame.\n",
    "   - It is calculated by multiplying the number of rows by the number of columns in the DataFrame.\n",
    "   - It returns a single integer value representing the total size of the DataFrame.'''\n",
    "\n",
    "#Example:\n",
    "\n",
    "import pandas as pd\n",
    "data = {'Column1': [1, 2, 3], 'Column2': [4, 5, 6]}\n",
    "df = pd.DataFrame(data)\n",
    "print(df.size)  # Output: 6 (2 rows * 3 columns)\n",
    "   \n",
    "\n",
    "'''2. **`DataFrame.shape`**:\n",
    "   - `DataFrame.shape` is a tuple representing the dimensions of the DataFrame.\n",
    "   - The shape attribute returns a tuple with two elements: the first element represents the number of rows,\n",
    "   and the second element represents the number of columns in the DataFrame.'''\n",
    " # Example:\n",
    "data = {'Column1': [1, 2, 3], 'Column2': [4, 5, 6]}\n",
    "df = pd.DataFrame(data)\n",
    "print(df.shape)  # Output: (3, 2) (3 rows, 2 columns)\n"
   ]
  },
  {
   "cell_type": "code",
   "execution_count": 5,
   "id": "001ea9ae-7b94-4030-9133-90d7532ac830",
   "metadata": {},
   "outputs": [
    {
     "ename": "FileNotFoundError",
     "evalue": "[Errno 2] No such file or directory: 'filename.xlsx'",
     "output_type": "error",
     "traceback": [
      "\u001b[0;31m---------------------------------------------------------------------------\u001b[0m",
      "\u001b[0;31mFileNotFoundError\u001b[0m                         Traceback (most recent call last)",
      "Cell \u001b[0;32mIn[5], line 12\u001b[0m\n\u001b[1;32m      9\u001b[0m \u001b[38;5;28;01mimport\u001b[39;00m \u001b[38;5;21;01mpandas\u001b[39;00m \u001b[38;5;28;01mas\u001b[39;00m \u001b[38;5;21;01mpd\u001b[39;00m\n\u001b[1;32m     11\u001b[0m \u001b[38;5;66;03m# Reading an Excel file (.xlsx format)\u001b[39;00m\n\u001b[0;32m---> 12\u001b[0m df \u001b[38;5;241m=\u001b[39m \u001b[43mpd\u001b[49m\u001b[38;5;241;43m.\u001b[39;49m\u001b[43mread_excel\u001b[49m\u001b[43m(\u001b[49m\u001b[38;5;124;43m'\u001b[39;49m\u001b[38;5;124;43mfilename.xlsx\u001b[39;49m\u001b[38;5;124;43m'\u001b[39;49m\u001b[43m)\u001b[49m\n\u001b[1;32m     14\u001b[0m \u001b[38;5;66;03m# Reading an Excel file (.xls format)\u001b[39;00m\n\u001b[1;32m     15\u001b[0m \u001b[38;5;66;03m# df = pd.read_excel('filename.xls')\u001b[39;00m\n\u001b[1;32m     16\u001b[0m \n\u001b[0;32m   (...)\u001b[0m\n\u001b[1;32m     20\u001b[0m \u001b[38;5;66;03m# If you want to read a specific range of rows and columns, you can use the 'usecols' and 'nrows' parameters:\u001b[39;00m\n\u001b[1;32m     21\u001b[0m \u001b[38;5;66;03m# df = pd.read_excel('filename.xlsx', sheet_name='Sheet1', usecols='A:C', nrows=100)\u001b[39;00m\n\u001b[1;32m     24\u001b[0m \u001b[38;5;124;03m'''In the above examples, replace `'filename.xlsx'` with the actual path and name of your Excel file. If you are\u001b[39;00m\n\u001b[1;32m     25\u001b[0m \u001b[38;5;124;03musing an older Excel format (`.xls`), you would use the same function with the appropriate file extension\u001b[39;00m\n\u001b[1;32m     26\u001b[0m \u001b[38;5;124;03m(`'filename.xls'`).'''\u001b[39;00m\n",
      "File \u001b[0;32m/opt/conda/lib/python3.10/site-packages/pandas/util/_decorators.py:211\u001b[0m, in \u001b[0;36mdeprecate_kwarg.<locals>._deprecate_kwarg.<locals>.wrapper\u001b[0;34m(*args, **kwargs)\u001b[0m\n\u001b[1;32m    209\u001b[0m     \u001b[38;5;28;01melse\u001b[39;00m:\n\u001b[1;32m    210\u001b[0m         kwargs[new_arg_name] \u001b[38;5;241m=\u001b[39m new_arg_value\n\u001b[0;32m--> 211\u001b[0m \u001b[38;5;28;01mreturn\u001b[39;00m \u001b[43mfunc\u001b[49m\u001b[43m(\u001b[49m\u001b[38;5;241;43m*\u001b[39;49m\u001b[43margs\u001b[49m\u001b[43m,\u001b[49m\u001b[43m \u001b[49m\u001b[38;5;241;43m*\u001b[39;49m\u001b[38;5;241;43m*\u001b[39;49m\u001b[43mkwargs\u001b[49m\u001b[43m)\u001b[49m\n",
      "File \u001b[0;32m/opt/conda/lib/python3.10/site-packages/pandas/util/_decorators.py:331\u001b[0m, in \u001b[0;36mdeprecate_nonkeyword_arguments.<locals>.decorate.<locals>.wrapper\u001b[0;34m(*args, **kwargs)\u001b[0m\n\u001b[1;32m    325\u001b[0m \u001b[38;5;28;01mif\u001b[39;00m \u001b[38;5;28mlen\u001b[39m(args) \u001b[38;5;241m>\u001b[39m num_allow_args:\n\u001b[1;32m    326\u001b[0m     warnings\u001b[38;5;241m.\u001b[39mwarn(\n\u001b[1;32m    327\u001b[0m         msg\u001b[38;5;241m.\u001b[39mformat(arguments\u001b[38;5;241m=\u001b[39m_format_argument_list(allow_args)),\n\u001b[1;32m    328\u001b[0m         \u001b[38;5;167;01mFutureWarning\u001b[39;00m,\n\u001b[1;32m    329\u001b[0m         stacklevel\u001b[38;5;241m=\u001b[39mfind_stack_level(),\n\u001b[1;32m    330\u001b[0m     )\n\u001b[0;32m--> 331\u001b[0m \u001b[38;5;28;01mreturn\u001b[39;00m \u001b[43mfunc\u001b[49m\u001b[43m(\u001b[49m\u001b[38;5;241;43m*\u001b[39;49m\u001b[43margs\u001b[49m\u001b[43m,\u001b[49m\u001b[43m \u001b[49m\u001b[38;5;241;43m*\u001b[39;49m\u001b[38;5;241;43m*\u001b[39;49m\u001b[43mkwargs\u001b[49m\u001b[43m)\u001b[49m\n",
      "File \u001b[0;32m/opt/conda/lib/python3.10/site-packages/pandas/io/excel/_base.py:482\u001b[0m, in \u001b[0;36mread_excel\u001b[0;34m(io, sheet_name, header, names, index_col, usecols, squeeze, dtype, engine, converters, true_values, false_values, skiprows, nrows, na_values, keep_default_na, na_filter, verbose, parse_dates, date_parser, thousands, decimal, comment, skipfooter, convert_float, mangle_dupe_cols, storage_options)\u001b[0m\n\u001b[1;32m    480\u001b[0m \u001b[38;5;28;01mif\u001b[39;00m \u001b[38;5;129;01mnot\u001b[39;00m \u001b[38;5;28misinstance\u001b[39m(io, ExcelFile):\n\u001b[1;32m    481\u001b[0m     should_close \u001b[38;5;241m=\u001b[39m \u001b[38;5;28;01mTrue\u001b[39;00m\n\u001b[0;32m--> 482\u001b[0m     io \u001b[38;5;241m=\u001b[39m \u001b[43mExcelFile\u001b[49m\u001b[43m(\u001b[49m\u001b[43mio\u001b[49m\u001b[43m,\u001b[49m\u001b[43m \u001b[49m\u001b[43mstorage_options\u001b[49m\u001b[38;5;241;43m=\u001b[39;49m\u001b[43mstorage_options\u001b[49m\u001b[43m,\u001b[49m\u001b[43m \u001b[49m\u001b[43mengine\u001b[49m\u001b[38;5;241;43m=\u001b[39;49m\u001b[43mengine\u001b[49m\u001b[43m)\u001b[49m\n\u001b[1;32m    483\u001b[0m \u001b[38;5;28;01melif\u001b[39;00m engine \u001b[38;5;129;01mand\u001b[39;00m engine \u001b[38;5;241m!=\u001b[39m io\u001b[38;5;241m.\u001b[39mengine:\n\u001b[1;32m    484\u001b[0m     \u001b[38;5;28;01mraise\u001b[39;00m \u001b[38;5;167;01mValueError\u001b[39;00m(\n\u001b[1;32m    485\u001b[0m         \u001b[38;5;124m\"\u001b[39m\u001b[38;5;124mEngine should not be specified when passing \u001b[39m\u001b[38;5;124m\"\u001b[39m\n\u001b[1;32m    486\u001b[0m         \u001b[38;5;124m\"\u001b[39m\u001b[38;5;124man ExcelFile - ExcelFile already has the engine set\u001b[39m\u001b[38;5;124m\"\u001b[39m\n\u001b[1;32m    487\u001b[0m     )\n",
      "File \u001b[0;32m/opt/conda/lib/python3.10/site-packages/pandas/io/excel/_base.py:1652\u001b[0m, in \u001b[0;36mExcelFile.__init__\u001b[0;34m(self, path_or_buffer, engine, storage_options)\u001b[0m\n\u001b[1;32m   1650\u001b[0m     ext \u001b[38;5;241m=\u001b[39m \u001b[38;5;124m\"\u001b[39m\u001b[38;5;124mxls\u001b[39m\u001b[38;5;124m\"\u001b[39m\n\u001b[1;32m   1651\u001b[0m \u001b[38;5;28;01melse\u001b[39;00m:\n\u001b[0;32m-> 1652\u001b[0m     ext \u001b[38;5;241m=\u001b[39m \u001b[43minspect_excel_format\u001b[49m\u001b[43m(\u001b[49m\n\u001b[1;32m   1653\u001b[0m \u001b[43m        \u001b[49m\u001b[43mcontent_or_path\u001b[49m\u001b[38;5;241;43m=\u001b[39;49m\u001b[43mpath_or_buffer\u001b[49m\u001b[43m,\u001b[49m\u001b[43m \u001b[49m\u001b[43mstorage_options\u001b[49m\u001b[38;5;241;43m=\u001b[39;49m\u001b[43mstorage_options\u001b[49m\n\u001b[1;32m   1654\u001b[0m \u001b[43m    \u001b[49m\u001b[43m)\u001b[49m\n\u001b[1;32m   1655\u001b[0m     \u001b[38;5;28;01mif\u001b[39;00m ext \u001b[38;5;129;01mis\u001b[39;00m \u001b[38;5;28;01mNone\u001b[39;00m:\n\u001b[1;32m   1656\u001b[0m         \u001b[38;5;28;01mraise\u001b[39;00m \u001b[38;5;167;01mValueError\u001b[39;00m(\n\u001b[1;32m   1657\u001b[0m             \u001b[38;5;124m\"\u001b[39m\u001b[38;5;124mExcel file format cannot be determined, you must specify \u001b[39m\u001b[38;5;124m\"\u001b[39m\n\u001b[1;32m   1658\u001b[0m             \u001b[38;5;124m\"\u001b[39m\u001b[38;5;124man engine manually.\u001b[39m\u001b[38;5;124m\"\u001b[39m\n\u001b[1;32m   1659\u001b[0m         )\n",
      "File \u001b[0;32m/opt/conda/lib/python3.10/site-packages/pandas/io/excel/_base.py:1525\u001b[0m, in \u001b[0;36minspect_excel_format\u001b[0;34m(content_or_path, storage_options)\u001b[0m\n\u001b[1;32m   1522\u001b[0m \u001b[38;5;28;01mif\u001b[39;00m \u001b[38;5;28misinstance\u001b[39m(content_or_path, \u001b[38;5;28mbytes\u001b[39m):\n\u001b[1;32m   1523\u001b[0m     content_or_path \u001b[38;5;241m=\u001b[39m BytesIO(content_or_path)\n\u001b[0;32m-> 1525\u001b[0m \u001b[38;5;28;01mwith\u001b[39;00m \u001b[43mget_handle\u001b[49m\u001b[43m(\u001b[49m\n\u001b[1;32m   1526\u001b[0m \u001b[43m    \u001b[49m\u001b[43mcontent_or_path\u001b[49m\u001b[43m,\u001b[49m\u001b[43m \u001b[49m\u001b[38;5;124;43m\"\u001b[39;49m\u001b[38;5;124;43mrb\u001b[39;49m\u001b[38;5;124;43m\"\u001b[39;49m\u001b[43m,\u001b[49m\u001b[43m \u001b[49m\u001b[43mstorage_options\u001b[49m\u001b[38;5;241;43m=\u001b[39;49m\u001b[43mstorage_options\u001b[49m\u001b[43m,\u001b[49m\u001b[43m \u001b[49m\u001b[43mis_text\u001b[49m\u001b[38;5;241;43m=\u001b[39;49m\u001b[38;5;28;43;01mFalse\u001b[39;49;00m\n\u001b[1;32m   1527\u001b[0m \u001b[43m\u001b[49m\u001b[43m)\u001b[49m \u001b[38;5;28;01mas\u001b[39;00m handle:\n\u001b[1;32m   1528\u001b[0m     stream \u001b[38;5;241m=\u001b[39m handle\u001b[38;5;241m.\u001b[39mhandle\n\u001b[1;32m   1529\u001b[0m     stream\u001b[38;5;241m.\u001b[39mseek(\u001b[38;5;241m0\u001b[39m)\n",
      "File \u001b[0;32m/opt/conda/lib/python3.10/site-packages/pandas/io/common.py:865\u001b[0m, in \u001b[0;36mget_handle\u001b[0;34m(path_or_buf, mode, encoding, compression, memory_map, is_text, errors, storage_options)\u001b[0m\n\u001b[1;32m    856\u001b[0m         handle \u001b[38;5;241m=\u001b[39m \u001b[38;5;28mopen\u001b[39m(\n\u001b[1;32m    857\u001b[0m             handle,\n\u001b[1;32m    858\u001b[0m             ioargs\u001b[38;5;241m.\u001b[39mmode,\n\u001b[0;32m   (...)\u001b[0m\n\u001b[1;32m    861\u001b[0m             newline\u001b[38;5;241m=\u001b[39m\u001b[38;5;124m\"\u001b[39m\u001b[38;5;124m\"\u001b[39m,\n\u001b[1;32m    862\u001b[0m         )\n\u001b[1;32m    863\u001b[0m     \u001b[38;5;28;01melse\u001b[39;00m:\n\u001b[1;32m    864\u001b[0m         \u001b[38;5;66;03m# Binary mode\u001b[39;00m\n\u001b[0;32m--> 865\u001b[0m         handle \u001b[38;5;241m=\u001b[39m \u001b[38;5;28;43mopen\u001b[39;49m\u001b[43m(\u001b[49m\u001b[43mhandle\u001b[49m\u001b[43m,\u001b[49m\u001b[43m \u001b[49m\u001b[43mioargs\u001b[49m\u001b[38;5;241;43m.\u001b[39;49m\u001b[43mmode\u001b[49m\u001b[43m)\u001b[49m\n\u001b[1;32m    866\u001b[0m     handles\u001b[38;5;241m.\u001b[39mappend(handle)\n\u001b[1;32m    868\u001b[0m \u001b[38;5;66;03m# Convert BytesIO or file objects passed with an encoding\u001b[39;00m\n",
      "\u001b[0;31mFileNotFoundError\u001b[0m: [Errno 2] No such file or directory: 'filename.xlsx'"
     ]
    }
   ],
   "source": [
    "'''Q6. Which function of pandas do we use to read an excel file?\n",
    "\n",
    "In pandas, you can use the `pd.read_excel()` function to read data from an Excel file. This function allows you\n",
    "to read data from both `.xls` (Excel 2003 and earlier) and `.xlsx` (Excel 2007 and later) file formats.\n",
    "\n",
    "Here's how you can use `pd.read_excel()`:'''\n",
    "\n",
    "\n",
    "import pandas as pd\n",
    "\n",
    "# Reading an Excel file (.xlsx format)\n",
    "df = pd.read_excel('filename.xlsx')\n",
    "\n",
    "'''In the above examples, replace `'filename.xlsx'` with the actual path and name of your Excel file. If you are\n",
    "using an older Excel format (`.xls`), you would use the same function with the appropriate file extension\n",
    "(`'filename.xls'`).'''"
   ]
  },
  {
   "cell_type": "code",
   "execution_count": 6,
   "id": "321f0908-3472-4f15-a6a2-3d553bdb7ed2",
   "metadata": {},
   "outputs": [
    {
     "name": "stdout",
     "output_type": "stream",
     "text": [
      "               Email Username\n",
      "0  user1@example.com    user1\n",
      "1  user2@example.com    user2\n",
      "2  user3@example.com    user3\n"
     ]
    }
   ],
   "source": [
    "'''Q7. You have a Pandas DataFrame df that contains a column named 'Email' that contains email\n",
    "addresses in the format 'username@domain.com'. Write a Python function that creates a new column\n",
    "'Username' in df that contains only the username part of each email address.\n",
    "\n",
    "Certainly! You can achieve this by using the str.split() method in pandas to split the email addresses and\n",
    "extract the username part. Here's a Python function that takes a pandas DataFrame df with an 'Email' column \n",
    "and creates a new column 'Username' containing only the username part of each email address:'''\n",
    "\n",
    "import pandas as pd\n",
    "\n",
    "def extract_username(df):\n",
    "    # Split the 'Email' column at '@' and get the first part (username)\n",
    "    df['Username'] = df['Email'].str.split('@').str[0]\n",
    "    return df\n",
    "\n",
    "# Example usage:\n",
    "# Create a sample DataFrame with 'Email' column\n",
    "data = {'Email': ['user1@example.com', 'user2@example.com', 'user3@example.com']}\n",
    "df = pd.DataFrame(data)\n",
    "\n",
    "# Call the function to extract usernames\n",
    "df = extract_username(df)\n",
    "\n",
    "# Print the updated DataFrame\n",
    "print(df)\n"
   ]
  },
  {
   "cell_type": "code",
   "execution_count": 7,
   "id": "11799e56-a28b-4379-b7ea-6ff369af1a8d",
   "metadata": {},
   "outputs": [
    {
     "name": "stdout",
     "output_type": "stream",
     "text": [
      "   A  B  C\n",
      "1  8  2  7\n",
      "2  6  9  4\n",
      "4  9  1  2\n"
     ]
    },
    {
     "data": {
      "text/plain": [
       "\"In this function, `df[(df['A'] > 5) & (df['B'] < 10)]` filters the DataFrame based on the conditions specified \\nfor columns 'A' and 'B'. It selects rows where the value in column 'A' is greater than 5 and the value in \\ncolumn 'B' is less than 10. The resulting DataFrame, `filtered_df`, contains only the rows that satisfy these\\nconditions.\""
      ]
     },
     "execution_count": 7,
     "metadata": {},
     "output_type": "execute_result"
    }
   ],
   "source": [
    "'''Q8. You have a Pandas DataFrame df with columns 'A', 'B', and 'C'. Write a Python function that selects\n",
    "all rows where the value in column 'A' is greater than 5 and the value in column 'B' is less than 10. The\n",
    "function should return a new DataFrame that contains only the selected rows.\n",
    "For example, if df contains the following values:\n",
    "A B C\n",
    "0 3 5 1\n",
    "1 8 2 7\n",
    "2 6 9 4\n",
    "3 2 3 5\n",
    "4 9 1 2\n",
    "\n",
    "Certainly! You can create a Python function to filter rows based on the conditions specified for columns 'A' \n",
    "and 'B'. Here's how you can do it using pandas:'''\n",
    "\n",
    "\n",
    "import pandas as pd\n",
    "\n",
    "# Sample DataFrame\n",
    "data = {'A': [3, 8, 6, 2, 9],\n",
    "        'B': [5, 2, 9, 3, 1],\n",
    "        'C': [1, 7, 4, 5, 2]}\n",
    "\n",
    "df = pd.DataFrame(data)\n",
    "\n",
    "def filter_dataframe(df):\n",
    "    # Select rows where 'A' > 5 and 'B' < 10\n",
    "    filtered_df = df[(df['A'] > 5) & (df['B'] < 10)]\n",
    "    return filtered_df\n",
    "\n",
    "# Call the function to get the filtered DataFrame\n",
    "filtered_df = filter_dataframe(df)\n",
    "\n",
    "# Print the filtered DataFrame\n",
    "print(filtered_df)\n",
    "\n",
    "\n",
    "'''In this function, `df[(df['A'] > 5) & (df['B'] < 10)]` filters the DataFrame based on the conditions specified \n",
    "for columns 'A' and 'B'. It selects rows where the value in column 'A' is greater than 5 and the value in \n",
    "column 'B' is less than 10. The resulting DataFrame, `filtered_df`, contains only the rows that satisfy these\n",
    "conditions.'''"
   ]
  },
  {
   "cell_type": "code",
   "execution_count": null,
   "id": "5b9cbed9-2556-47ff-8ce5-b30f2fc6311c",
   "metadata": {},
   "outputs": [],
   "source": []
  }
 ],
 "metadata": {
  "kernelspec": {
   "display_name": "Python 3 (ipykernel)",
   "language": "python",
   "name": "python3"
  },
  "language_info": {
   "codemirror_mode": {
    "name": "ipython",
    "version": 3
   },
   "file_extension": ".py",
   "mimetype": "text/x-python",
   "name": "python",
   "nbconvert_exporter": "python",
   "pygments_lexer": "ipython3",
   "version": "3.10.8"
  }
 },
 "nbformat": 4,
 "nbformat_minor": 5
}
